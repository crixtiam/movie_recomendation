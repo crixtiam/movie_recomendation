{
 "cells": [
  {
   "cell_type": "markdown",
   "id": "0d8d90bd",
   "metadata": {
    "id": "0d8d90bd"
   },
   "source": [
    "<h4>Librerias</h4>"
   ]
  },
  {
   "cell_type": "markdown",
   "id": "c1ccf913",
   "metadata": {
    "id": "c1ccf913"
   },
   "source": [
    "1. Definir las librerias a utilizar en el modelo."
   ]
  },
  {
   "cell_type": "code",
   "execution_count": 1,
   "id": "e80383f7",
   "metadata": {
    "id": "e80383f7"
   },
   "outputs": [],
   "source": [
    "import pandas as pd\n",
    "import numpy as np\n",
    "import seaborn as sns\n",
    "from io import StringIO\n",
    "import csv\n",
    "import matplotlib.pyplot as plt"
   ]
  },
  {
   "cell_type": "code",
   "execution_count": 2,
   "id": "GygXl4oRmzj5",
   "metadata": {
    "id": "GygXl4oRmzj5"
   },
   "outputs": [],
   "source": [
    "from sklearn.cluster import KMeans\n",
    "from sklearn.preprocessing import StandardScaler\n",
    "from sklearn.decomposition import PCA"
   ]
  },
  {
   "cell_type": "code",
   "execution_count": 3,
   "id": "df119544",
   "metadata": {
    "id": "df119544"
   },
   "outputs": [],
   "source": [
    "from tqdm import tqdm"
   ]
  },
  {
   "cell_type": "code",
   "execution_count": 4,
   "id": "7ae06548",
   "metadata": {
    "id": "7ae06548"
   },
   "outputs": [],
   "source": [
    "font = {\n",
    "  'family':'serif',\n",
    "  'color': 'Green',\n",
    "  'weight':'normal',\n",
    "  'size':40\n",
    "}\n",
    "font_title = {\n",
    "  'family':'serif',\n",
    "  'color':  'black',\n",
    "  'weight':'normal',\n",
    "  'size':30\n",
    "}\n",
    "\n",
    "fontLabel = {\n",
    "  'family':'serif',\n",
    "  'color': 'black',\n",
    "  'weight':'normal',\n",
    "  'size':20\n",
    "}"
   ]
  },
  {
   "cell_type": "markdown",
   "id": "6fe2cb2a",
   "metadata": {
    "id": "6fe2cb2a"
   },
   "source": [
    "<h4>Rutas de Acceso al Dataset</h4>"
   ]
  },
  {
   "cell_type": "markdown",
   "id": "7a3984dc",
   "metadata": {
    "id": "7a3984dc"
   },
   "source": [
    "2. Rutas de Accesos a los datos en para el modelo."
   ]
  },
  {
   "cell_type": "code",
   "execution_count": 5,
   "id": "2eada473",
   "metadata": {
    "id": "2eada473"
   },
   "outputs": [],
   "source": [
    "route_movies = \"Datasets/ml-1m/movies.dat\"\n",
    "route_ratings = \"Datasets/ml-1m/ratings.dat\"\n",
    "route_users = \"Datasets/ml-1m/users.dat\""
   ]
  },
  {
   "cell_type": "markdown",
   "id": "f584076f",
   "metadata": {
    "id": "f584076f"
   },
   "source": [
    "<h4>Acceso a los Datos</h4>"
   ]
  },
  {
   "cell_type": "markdown",
   "id": "9ece5ca8",
   "metadata": {
    "id": "9ece5ca8"
   },
   "source": [
    "3. En el acceso a los datos se encuentran 3 tablas relacionales de datos estructurados\n",
    "*OBJETIVO DE VALOR*\n",
    "* Se propone la unión de tablas para obtener una relación total de datos que permitan ver la calidad y cantidad de los datos."
   ]
  },
  {
   "cell_type": "code",
   "execution_count": 6,
   "id": "1ea9ad3c",
   "metadata": {
    "id": "1ea9ad3c"
   },
   "outputs": [],
   "source": [
    "data_movies= pd.read_csv(route_movies,header=None,sep=\"::\",engine=\"python\",encoding='latin-1')\n",
    "data_user=pd.read_csv(route_users,sep=\"::\",header=None, engine=\"python\",encoding='latin-1')\n",
    "data_ratings=pd.read_csv(route_ratings,sep=\"::\",header=None,engine=\"python\",encoding='latin-1')"
   ]
  },
  {
   "cell_type": "markdown",
   "id": "c923fe71",
   "metadata": {
    "id": "c923fe71"
   },
   "source": [
    "4. Revisar datos de las tablas y obtener un patron de relación para la unión\n",
    "*OBJETIVO DE VALOR*\n",
    "* Revisar los datos y su estructura \n",
    "* Hallar datos nulos"
   ]
  },
  {
   "cell_type": "code",
   "execution_count": 7,
   "id": "12b082f1",
   "metadata": {
    "colab": {
     "base_uri": "https://localhost:8080/",
     "height": 419
    },
    "id": "12b082f1",
    "outputId": "46bf7ef3-b831-4f4a-f387-7dade3ec53cb"
   },
   "outputs": [
    {
     "data": {
      "text/html": [
       "<div>\n",
       "<style scoped>\n",
       "    .dataframe tbody tr th:only-of-type {\n",
       "        vertical-align: middle;\n",
       "    }\n",
       "\n",
       "    .dataframe tbody tr th {\n",
       "        vertical-align: top;\n",
       "    }\n",
       "\n",
       "    .dataframe thead th {\n",
       "        text-align: right;\n",
       "    }\n",
       "</style>\n",
       "<table border=\"1\" class=\"dataframe\">\n",
       "  <thead>\n",
       "    <tr style=\"text-align: right;\">\n",
       "      <th></th>\n",
       "      <th>0</th>\n",
       "      <th>1</th>\n",
       "      <th>2</th>\n",
       "      <th>3</th>\n",
       "    </tr>\n",
       "  </thead>\n",
       "  <tbody>\n",
       "    <tr>\n",
       "      <th>0</th>\n",
       "      <td>1</td>\n",
       "      <td>1193</td>\n",
       "      <td>5</td>\n",
       "      <td>978300760</td>\n",
       "    </tr>\n",
       "    <tr>\n",
       "      <th>1</th>\n",
       "      <td>1</td>\n",
       "      <td>661</td>\n",
       "      <td>3</td>\n",
       "      <td>978302109</td>\n",
       "    </tr>\n",
       "    <tr>\n",
       "      <th>2</th>\n",
       "      <td>1</td>\n",
       "      <td>914</td>\n",
       "      <td>3</td>\n",
       "      <td>978301968</td>\n",
       "    </tr>\n",
       "    <tr>\n",
       "      <th>3</th>\n",
       "      <td>1</td>\n",
       "      <td>3408</td>\n",
       "      <td>4</td>\n",
       "      <td>978300275</td>\n",
       "    </tr>\n",
       "    <tr>\n",
       "      <th>4</th>\n",
       "      <td>1</td>\n",
       "      <td>2355</td>\n",
       "      <td>5</td>\n",
       "      <td>978824291</td>\n",
       "    </tr>\n",
       "    <tr>\n",
       "      <th>...</th>\n",
       "      <td>...</td>\n",
       "      <td>...</td>\n",
       "      <td>...</td>\n",
       "      <td>...</td>\n",
       "    </tr>\n",
       "    <tr>\n",
       "      <th>1000204</th>\n",
       "      <td>6040</td>\n",
       "      <td>1091</td>\n",
       "      <td>1</td>\n",
       "      <td>956716541</td>\n",
       "    </tr>\n",
       "    <tr>\n",
       "      <th>1000205</th>\n",
       "      <td>6040</td>\n",
       "      <td>1094</td>\n",
       "      <td>5</td>\n",
       "      <td>956704887</td>\n",
       "    </tr>\n",
       "    <tr>\n",
       "      <th>1000206</th>\n",
       "      <td>6040</td>\n",
       "      <td>562</td>\n",
       "      <td>5</td>\n",
       "      <td>956704746</td>\n",
       "    </tr>\n",
       "    <tr>\n",
       "      <th>1000207</th>\n",
       "      <td>6040</td>\n",
       "      <td>1096</td>\n",
       "      <td>4</td>\n",
       "      <td>956715648</td>\n",
       "    </tr>\n",
       "    <tr>\n",
       "      <th>1000208</th>\n",
       "      <td>6040</td>\n",
       "      <td>1097</td>\n",
       "      <td>4</td>\n",
       "      <td>956715569</td>\n",
       "    </tr>\n",
       "  </tbody>\n",
       "</table>\n",
       "<p>1000209 rows × 4 columns</p>\n",
       "</div>"
      ],
      "text/plain": [
       "            0     1  2          3\n",
       "0           1  1193  5  978300760\n",
       "1           1   661  3  978302109\n",
       "2           1   914  3  978301968\n",
       "3           1  3408  4  978300275\n",
       "4           1  2355  5  978824291\n",
       "...       ...   ... ..        ...\n",
       "1000204  6040  1091  1  956716541\n",
       "1000205  6040  1094  5  956704887\n",
       "1000206  6040   562  5  956704746\n",
       "1000207  6040  1096  4  956715648\n",
       "1000208  6040  1097  4  956715569\n",
       "\n",
       "[1000209 rows x 4 columns]"
      ]
     },
     "execution_count": 7,
     "metadata": {},
     "output_type": "execute_result"
    }
   ],
   "source": [
    "data_ratings"
   ]
  },
  {
   "cell_type": "code",
   "execution_count": 8,
   "id": "402e5461",
   "metadata": {
    "colab": {
     "base_uri": "https://localhost:8080/"
    },
    "id": "402e5461",
    "outputId": "41d207fe-db2b-4bc5-fd2b-8e4bcd94c06e"
   },
   "outputs": [
    {
     "data": {
      "text/plain": [
       "0    0\n",
       "1    0\n",
       "2    0\n",
       "3    0\n",
       "dtype: int64"
      ]
     },
     "execution_count": 8,
     "metadata": {},
     "output_type": "execute_result"
    }
   ],
   "source": [
    "data_ratings.isnull().sum()"
   ]
  },
  {
   "cell_type": "code",
   "execution_count": 9,
   "id": "86237d6d",
   "metadata": {
    "id": "86237d6d",
    "outputId": "4c18cdc5-4250-422e-ee90-bcd568fe8e14"
   },
   "outputs": [
    {
     "data": {
      "text/plain": [
       "1000209"
      ]
     },
     "execution_count": 9,
     "metadata": {},
     "output_type": "execute_result"
    }
   ],
   "source": [
    "len(data_ratings)"
   ]
  },
  {
   "cell_type": "code",
   "execution_count": 10,
   "id": "caed6990",
   "metadata": {
    "colab": {
     "base_uri": "https://localhost:8080/",
     "height": 419
    },
    "id": "caed6990",
    "outputId": "79736e92-e611-448b-82dd-385a919c180c"
   },
   "outputs": [
    {
     "data": {
      "text/html": [
       "<div>\n",
       "<style scoped>\n",
       "    .dataframe tbody tr th:only-of-type {\n",
       "        vertical-align: middle;\n",
       "    }\n",
       "\n",
       "    .dataframe tbody tr th {\n",
       "        vertical-align: top;\n",
       "    }\n",
       "\n",
       "    .dataframe thead th {\n",
       "        text-align: right;\n",
       "    }\n",
       "</style>\n",
       "<table border=\"1\" class=\"dataframe\">\n",
       "  <thead>\n",
       "    <tr style=\"text-align: right;\">\n",
       "      <th></th>\n",
       "      <th>0</th>\n",
       "      <th>1</th>\n",
       "      <th>2</th>\n",
       "      <th>3</th>\n",
       "      <th>4</th>\n",
       "    </tr>\n",
       "  </thead>\n",
       "  <tbody>\n",
       "    <tr>\n",
       "      <th>0</th>\n",
       "      <td>1</td>\n",
       "      <td>F</td>\n",
       "      <td>1</td>\n",
       "      <td>10</td>\n",
       "      <td>48067</td>\n",
       "    </tr>\n",
       "    <tr>\n",
       "      <th>1</th>\n",
       "      <td>2</td>\n",
       "      <td>M</td>\n",
       "      <td>56</td>\n",
       "      <td>16</td>\n",
       "      <td>70072</td>\n",
       "    </tr>\n",
       "    <tr>\n",
       "      <th>2</th>\n",
       "      <td>3</td>\n",
       "      <td>M</td>\n",
       "      <td>25</td>\n",
       "      <td>15</td>\n",
       "      <td>55117</td>\n",
       "    </tr>\n",
       "    <tr>\n",
       "      <th>3</th>\n",
       "      <td>4</td>\n",
       "      <td>M</td>\n",
       "      <td>45</td>\n",
       "      <td>7</td>\n",
       "      <td>02460</td>\n",
       "    </tr>\n",
       "    <tr>\n",
       "      <th>4</th>\n",
       "      <td>5</td>\n",
       "      <td>M</td>\n",
       "      <td>25</td>\n",
       "      <td>20</td>\n",
       "      <td>55455</td>\n",
       "    </tr>\n",
       "    <tr>\n",
       "      <th>...</th>\n",
       "      <td>...</td>\n",
       "      <td>...</td>\n",
       "      <td>...</td>\n",
       "      <td>...</td>\n",
       "      <td>...</td>\n",
       "    </tr>\n",
       "    <tr>\n",
       "      <th>6035</th>\n",
       "      <td>6036</td>\n",
       "      <td>F</td>\n",
       "      <td>25</td>\n",
       "      <td>15</td>\n",
       "      <td>32603</td>\n",
       "    </tr>\n",
       "    <tr>\n",
       "      <th>6036</th>\n",
       "      <td>6037</td>\n",
       "      <td>F</td>\n",
       "      <td>45</td>\n",
       "      <td>1</td>\n",
       "      <td>76006</td>\n",
       "    </tr>\n",
       "    <tr>\n",
       "      <th>6037</th>\n",
       "      <td>6038</td>\n",
       "      <td>F</td>\n",
       "      <td>56</td>\n",
       "      <td>1</td>\n",
       "      <td>14706</td>\n",
       "    </tr>\n",
       "    <tr>\n",
       "      <th>6038</th>\n",
       "      <td>6039</td>\n",
       "      <td>F</td>\n",
       "      <td>45</td>\n",
       "      <td>0</td>\n",
       "      <td>01060</td>\n",
       "    </tr>\n",
       "    <tr>\n",
       "      <th>6039</th>\n",
       "      <td>6040</td>\n",
       "      <td>M</td>\n",
       "      <td>25</td>\n",
       "      <td>6</td>\n",
       "      <td>11106</td>\n",
       "    </tr>\n",
       "  </tbody>\n",
       "</table>\n",
       "<p>6040 rows × 5 columns</p>\n",
       "</div>"
      ],
      "text/plain": [
       "         0  1   2   3      4\n",
       "0        1  F   1  10  48067\n",
       "1        2  M  56  16  70072\n",
       "2        3  M  25  15  55117\n",
       "3        4  M  45   7  02460\n",
       "4        5  M  25  20  55455\n",
       "...    ... ..  ..  ..    ...\n",
       "6035  6036  F  25  15  32603\n",
       "6036  6037  F  45   1  76006\n",
       "6037  6038  F  56   1  14706\n",
       "6038  6039  F  45   0  01060\n",
       "6039  6040  M  25   6  11106\n",
       "\n",
       "[6040 rows x 5 columns]"
      ]
     },
     "execution_count": 10,
     "metadata": {},
     "output_type": "execute_result"
    }
   ],
   "source": [
    "data_user"
   ]
  },
  {
   "cell_type": "code",
   "execution_count": 11,
   "id": "4cdb3353",
   "metadata": {
    "colab": {
     "base_uri": "https://localhost:8080/"
    },
    "id": "4cdb3353",
    "outputId": "b8432116-7452-4574-8ccf-4c0846111c40"
   },
   "outputs": [
    {
     "data": {
      "text/plain": [
       "0    0\n",
       "1    0\n",
       "2    0\n",
       "3    0\n",
       "4    0\n",
       "dtype: int64"
      ]
     },
     "execution_count": 11,
     "metadata": {},
     "output_type": "execute_result"
    }
   ],
   "source": [
    "data_user.isnull().sum()"
   ]
  },
  {
   "cell_type": "code",
   "execution_count": 12,
   "id": "8d0666f1",
   "metadata": {
    "colab": {
     "base_uri": "https://localhost:8080/",
     "height": 419
    },
    "id": "8d0666f1",
    "outputId": "547a15cf-737f-4abe-a1b4-8872c947232c",
    "scrolled": true
   },
   "outputs": [
    {
     "data": {
      "text/html": [
       "<div>\n",
       "<style scoped>\n",
       "    .dataframe tbody tr th:only-of-type {\n",
       "        vertical-align: middle;\n",
       "    }\n",
       "\n",
       "    .dataframe tbody tr th {\n",
       "        vertical-align: top;\n",
       "    }\n",
       "\n",
       "    .dataframe thead th {\n",
       "        text-align: right;\n",
       "    }\n",
       "</style>\n",
       "<table border=\"1\" class=\"dataframe\">\n",
       "  <thead>\n",
       "    <tr style=\"text-align: right;\">\n",
       "      <th></th>\n",
       "      <th>0</th>\n",
       "      <th>1</th>\n",
       "      <th>2</th>\n",
       "    </tr>\n",
       "  </thead>\n",
       "  <tbody>\n",
       "    <tr>\n",
       "      <th>0</th>\n",
       "      <td>1</td>\n",
       "      <td>Toy Story (1995)</td>\n",
       "      <td>Animation|Children's|Comedy</td>\n",
       "    </tr>\n",
       "    <tr>\n",
       "      <th>1</th>\n",
       "      <td>2</td>\n",
       "      <td>Jumanji (1995)</td>\n",
       "      <td>Adventure|Children's|Fantasy</td>\n",
       "    </tr>\n",
       "    <tr>\n",
       "      <th>2</th>\n",
       "      <td>3</td>\n",
       "      <td>Grumpier Old Men (1995)</td>\n",
       "      <td>Comedy|Romance</td>\n",
       "    </tr>\n",
       "    <tr>\n",
       "      <th>3</th>\n",
       "      <td>4</td>\n",
       "      <td>Waiting to Exhale (1995)</td>\n",
       "      <td>Comedy|Drama</td>\n",
       "    </tr>\n",
       "    <tr>\n",
       "      <th>4</th>\n",
       "      <td>5</td>\n",
       "      <td>Father of the Bride Part II (1995)</td>\n",
       "      <td>Comedy</td>\n",
       "    </tr>\n",
       "    <tr>\n",
       "      <th>...</th>\n",
       "      <td>...</td>\n",
       "      <td>...</td>\n",
       "      <td>...</td>\n",
       "    </tr>\n",
       "    <tr>\n",
       "      <th>3878</th>\n",
       "      <td>3948</td>\n",
       "      <td>Meet the Parents (2000)</td>\n",
       "      <td>Comedy</td>\n",
       "    </tr>\n",
       "    <tr>\n",
       "      <th>3879</th>\n",
       "      <td>3949</td>\n",
       "      <td>Requiem for a Dream (2000)</td>\n",
       "      <td>Drama</td>\n",
       "    </tr>\n",
       "    <tr>\n",
       "      <th>3880</th>\n",
       "      <td>3950</td>\n",
       "      <td>Tigerland (2000)</td>\n",
       "      <td>Drama</td>\n",
       "    </tr>\n",
       "    <tr>\n",
       "      <th>3881</th>\n",
       "      <td>3951</td>\n",
       "      <td>Two Family House (2000)</td>\n",
       "      <td>Drama</td>\n",
       "    </tr>\n",
       "    <tr>\n",
       "      <th>3882</th>\n",
       "      <td>3952</td>\n",
       "      <td>Contender, The (2000)</td>\n",
       "      <td>Drama|Thriller</td>\n",
       "    </tr>\n",
       "  </tbody>\n",
       "</table>\n",
       "<p>3883 rows × 3 columns</p>\n",
       "</div>"
      ],
      "text/plain": [
       "         0                                   1                             2\n",
       "0        1                    Toy Story (1995)   Animation|Children's|Comedy\n",
       "1        2                      Jumanji (1995)  Adventure|Children's|Fantasy\n",
       "2        3             Grumpier Old Men (1995)                Comedy|Romance\n",
       "3        4            Waiting to Exhale (1995)                  Comedy|Drama\n",
       "4        5  Father of the Bride Part II (1995)                        Comedy\n",
       "...    ...                                 ...                           ...\n",
       "3878  3948             Meet the Parents (2000)                        Comedy\n",
       "3879  3949          Requiem for a Dream (2000)                         Drama\n",
       "3880  3950                    Tigerland (2000)                         Drama\n",
       "3881  3951             Two Family House (2000)                         Drama\n",
       "3882  3952               Contender, The (2000)                Drama|Thriller\n",
       "\n",
       "[3883 rows x 3 columns]"
      ]
     },
     "execution_count": 12,
     "metadata": {},
     "output_type": "execute_result"
    }
   ],
   "source": [
    "data_movies"
   ]
  },
  {
   "cell_type": "code",
   "execution_count": 13,
   "id": "f365c90d",
   "metadata": {
    "colab": {
     "base_uri": "https://localhost:8080/"
    },
    "id": "f365c90d",
    "outputId": "bb5129ea-7e80-423b-c6fc-91a887c28ff3"
   },
   "outputs": [
    {
     "data": {
      "text/plain": [
       "0    0\n",
       "1    0\n",
       "2    0\n",
       "dtype: int64"
      ]
     },
     "execution_count": 13,
     "metadata": {},
     "output_type": "execute_result"
    }
   ],
   "source": [
    "data_movies.isnull().sum()"
   ]
  },
  {
   "cell_type": "markdown",
   "id": "688eb609",
   "metadata": {
    "id": "688eb609"
   },
   "source": [
    "**CONCLUSIONES PRIMER CHECKEO DE DATOS**\n",
    "* No se encuentran datos nulos, es un dataset muy limpio. En caso tal de que se hallasen datos nulos se procede a hallar valores que tengan relación con los datos de la columna para poder reemplazar dicho valor nulo. Se pueden utilizar técnicas de aproximaciones o eliminar la columna o fila pertinente (esto varia dependiendo de la importancia del dato)"
   ]
  },
  {
   "cell_type": "markdown",
   "id": "a783b1ac",
   "metadata": {
    "id": "a783b1ac"
   },
   "source": [
    "---"
   ]
  },
  {
   "cell_type": "markdown",
   "id": "c47b50b4",
   "metadata": {
    "id": "c47b50b4"
   },
   "source": [
    "<h4>Identificar y Unir Columnas al Dataframe</h4>"
   ]
  },
  {
   "cell_type": "markdown",
   "id": "9508ff21",
   "metadata": {
    "id": "9508ff21"
   },
   "source": [
    "<h4>Data User</h4>"
   ]
  },
  {
   "cell_type": "code",
   "execution_count": 14,
   "id": "c00b1a6a",
   "metadata": {
    "id": "c00b1a6a"
   },
   "outputs": [],
   "source": [
    "data_user_copy= data_user.copy()\n",
    "data_user_copy.rename(columns={0:\"UserID\",1:\"Gender\",2:\"Age\",3:\"Ocupation\",4:\"Zip_Code\"},inplace=True)"
   ]
  },
  {
   "cell_type": "code",
   "execution_count": 15,
   "id": "0ec5bab4",
   "metadata": {
    "colab": {
     "base_uri": "https://localhost:8080/",
     "height": 204
    },
    "id": "0ec5bab4",
    "outputId": "baf4930c-5ebf-4be6-b17e-1ead4f7a6441"
   },
   "outputs": [
    {
     "data": {
      "text/html": [
       "<div>\n",
       "<style scoped>\n",
       "    .dataframe tbody tr th:only-of-type {\n",
       "        vertical-align: middle;\n",
       "    }\n",
       "\n",
       "    .dataframe tbody tr th {\n",
       "        vertical-align: top;\n",
       "    }\n",
       "\n",
       "    .dataframe thead th {\n",
       "        text-align: right;\n",
       "    }\n",
       "</style>\n",
       "<table border=\"1\" class=\"dataframe\">\n",
       "  <thead>\n",
       "    <tr style=\"text-align: right;\">\n",
       "      <th></th>\n",
       "      <th>UserID</th>\n",
       "      <th>Gender</th>\n",
       "      <th>Age</th>\n",
       "      <th>Ocupation</th>\n",
       "      <th>Zip_Code</th>\n",
       "    </tr>\n",
       "  </thead>\n",
       "  <tbody>\n",
       "    <tr>\n",
       "      <th>0</th>\n",
       "      <td>1</td>\n",
       "      <td>F</td>\n",
       "      <td>1</td>\n",
       "      <td>10</td>\n",
       "      <td>48067</td>\n",
       "    </tr>\n",
       "    <tr>\n",
       "      <th>1</th>\n",
       "      <td>2</td>\n",
       "      <td>M</td>\n",
       "      <td>56</td>\n",
       "      <td>16</td>\n",
       "      <td>70072</td>\n",
       "    </tr>\n",
       "    <tr>\n",
       "      <th>2</th>\n",
       "      <td>3</td>\n",
       "      <td>M</td>\n",
       "      <td>25</td>\n",
       "      <td>15</td>\n",
       "      <td>55117</td>\n",
       "    </tr>\n",
       "    <tr>\n",
       "      <th>3</th>\n",
       "      <td>4</td>\n",
       "      <td>M</td>\n",
       "      <td>45</td>\n",
       "      <td>7</td>\n",
       "      <td>02460</td>\n",
       "    </tr>\n",
       "    <tr>\n",
       "      <th>4</th>\n",
       "      <td>5</td>\n",
       "      <td>M</td>\n",
       "      <td>25</td>\n",
       "      <td>20</td>\n",
       "      <td>55455</td>\n",
       "    </tr>\n",
       "  </tbody>\n",
       "</table>\n",
       "</div>"
      ],
      "text/plain": [
       "   UserID Gender  Age  Ocupation Zip_Code\n",
       "0       1      F    1         10    48067\n",
       "1       2      M   56         16    70072\n",
       "2       3      M   25         15    55117\n",
       "3       4      M   45          7    02460\n",
       "4       5      M   25         20    55455"
      ]
     },
     "execution_count": 15,
     "metadata": {},
     "output_type": "execute_result"
    }
   ],
   "source": [
    "data_user_copy.head()"
   ]
  },
  {
   "cell_type": "code",
   "execution_count": 16,
   "id": "6dbe2097",
   "metadata": {
    "colab": {
     "base_uri": "https://localhost:8080/"
    },
    "id": "6dbe2097",
    "outputId": "8aab6220-4aa3-4215-d9e7-4bd69f571e52"
   },
   "outputs": [
    {
     "data": {
      "text/plain": [
       "(6040, 5)"
      ]
     },
     "execution_count": 16,
     "metadata": {},
     "output_type": "execute_result"
    }
   ],
   "source": [
    "data_user_copy.shape"
   ]
  },
  {
   "cell_type": "markdown",
   "id": "6a240d24",
   "metadata": {
    "id": "6a240d24"
   },
   "source": [
    "<h4>Data Rating</h4>"
   ]
  },
  {
   "cell_type": "code",
   "execution_count": 17,
   "id": "e9f2cd27",
   "metadata": {
    "id": "e9f2cd27"
   },
   "outputs": [],
   "source": [
    "data_rating_copy=data_ratings.copy()\n",
    "data_rating_copy.rename(columns={0:\"UserID\",1:\"MovieID\",2:\"Ratings\",3:\"Timestamp\"},inplace=True)"
   ]
  },
  {
   "cell_type": "code",
   "execution_count": 18,
   "id": "74aad8d1",
   "metadata": {
    "colab": {
     "base_uri": "https://localhost:8080/",
     "height": 419
    },
    "id": "74aad8d1",
    "outputId": "cffda505-a8da-40ae-87d3-3b4e0442228c"
   },
   "outputs": [
    {
     "data": {
      "text/html": [
       "<div>\n",
       "<style scoped>\n",
       "    .dataframe tbody tr th:only-of-type {\n",
       "        vertical-align: middle;\n",
       "    }\n",
       "\n",
       "    .dataframe tbody tr th {\n",
       "        vertical-align: top;\n",
       "    }\n",
       "\n",
       "    .dataframe thead th {\n",
       "        text-align: right;\n",
       "    }\n",
       "</style>\n",
       "<table border=\"1\" class=\"dataframe\">\n",
       "  <thead>\n",
       "    <tr style=\"text-align: right;\">\n",
       "      <th></th>\n",
       "      <th>UserID</th>\n",
       "      <th>MovieID</th>\n",
       "      <th>Ratings</th>\n",
       "      <th>Timestamp</th>\n",
       "    </tr>\n",
       "  </thead>\n",
       "  <tbody>\n",
       "    <tr>\n",
       "      <th>0</th>\n",
       "      <td>1</td>\n",
       "      <td>1193</td>\n",
       "      <td>5</td>\n",
       "      <td>978300760</td>\n",
       "    </tr>\n",
       "    <tr>\n",
       "      <th>1</th>\n",
       "      <td>1</td>\n",
       "      <td>661</td>\n",
       "      <td>3</td>\n",
       "      <td>978302109</td>\n",
       "    </tr>\n",
       "    <tr>\n",
       "      <th>2</th>\n",
       "      <td>1</td>\n",
       "      <td>914</td>\n",
       "      <td>3</td>\n",
       "      <td>978301968</td>\n",
       "    </tr>\n",
       "    <tr>\n",
       "      <th>3</th>\n",
       "      <td>1</td>\n",
       "      <td>3408</td>\n",
       "      <td>4</td>\n",
       "      <td>978300275</td>\n",
       "    </tr>\n",
       "    <tr>\n",
       "      <th>4</th>\n",
       "      <td>1</td>\n",
       "      <td>2355</td>\n",
       "      <td>5</td>\n",
       "      <td>978824291</td>\n",
       "    </tr>\n",
       "    <tr>\n",
       "      <th>...</th>\n",
       "      <td>...</td>\n",
       "      <td>...</td>\n",
       "      <td>...</td>\n",
       "      <td>...</td>\n",
       "    </tr>\n",
       "    <tr>\n",
       "      <th>2094</th>\n",
       "      <td>18</td>\n",
       "      <td>421</td>\n",
       "      <td>4</td>\n",
       "      <td>978154467</td>\n",
       "    </tr>\n",
       "    <tr>\n",
       "      <th>2095</th>\n",
       "      <td>18</td>\n",
       "      <td>1028</td>\n",
       "      <td>5</td>\n",
       "      <td>978155186</td>\n",
       "    </tr>\n",
       "    <tr>\n",
       "      <th>2096</th>\n",
       "      <td>18</td>\n",
       "      <td>1029</td>\n",
       "      <td>4</td>\n",
       "      <td>978154931</td>\n",
       "    </tr>\n",
       "    <tr>\n",
       "      <th>2097</th>\n",
       "      <td>18</td>\n",
       "      <td>1967</td>\n",
       "      <td>5</td>\n",
       "      <td>978152515</td>\n",
       "    </tr>\n",
       "    <tr>\n",
       "      <th>2098</th>\n",
       "      <td>18</td>\n",
       "      <td>1968</td>\n",
       "      <td>5</td>\n",
       "      <td>978156582</td>\n",
       "    </tr>\n",
       "  </tbody>\n",
       "</table>\n",
       "<p>2099 rows × 4 columns</p>\n",
       "</div>"
      ],
      "text/plain": [
       "      UserID  MovieID  Ratings  Timestamp\n",
       "0          1     1193        5  978300760\n",
       "1          1      661        3  978302109\n",
       "2          1      914        3  978301968\n",
       "3          1     3408        4  978300275\n",
       "4          1     2355        5  978824291\n",
       "...      ...      ...      ...        ...\n",
       "2094      18      421        4  978154467\n",
       "2095      18     1028        5  978155186\n",
       "2096      18     1029        4  978154931\n",
       "2097      18     1967        5  978152515\n",
       "2098      18     1968        5  978156582\n",
       "\n",
       "[2099 rows x 4 columns]"
      ]
     },
     "execution_count": 18,
     "metadata": {},
     "output_type": "execute_result"
    }
   ],
   "source": [
    "data_rating_copy.head(2099)"
   ]
  },
  {
   "cell_type": "code",
   "execution_count": 19,
   "id": "9cbb935d",
   "metadata": {
    "colab": {
     "base_uri": "https://localhost:8080/"
    },
    "id": "9cbb935d",
    "outputId": "09e638f8-72d4-44e4-d249-fd7898a12740"
   },
   "outputs": [
    {
     "data": {
      "text/plain": [
       "(1000209, 4)"
      ]
     },
     "execution_count": 19,
     "metadata": {},
     "output_type": "execute_result"
    }
   ],
   "source": [
    "data_rating_copy.shape"
   ]
  },
  {
   "cell_type": "markdown",
   "id": "245df50a",
   "metadata": {
    "id": "245df50a"
   },
   "source": [
    "<h4>Data Movies</h4>"
   ]
  },
  {
   "cell_type": "code",
   "execution_count": 20,
   "id": "70661bd8",
   "metadata": {
    "id": "70661bd8"
   },
   "outputs": [],
   "source": [
    "data_movie_copy = data_movies.copy()\n",
    "data_movie_copy.rename(columns={0:\"MovieID\",1:\"Title\",2:\"Genres\"},inplace=True)"
   ]
  },
  {
   "cell_type": "code",
   "execution_count": 21,
   "id": "f311dd20",
   "metadata": {
    "colab": {
     "base_uri": "https://localhost:8080/",
     "height": 204
    },
    "id": "f311dd20",
    "outputId": "5376e958-d62e-4c3f-b6ed-86d9558f2339"
   },
   "outputs": [
    {
     "data": {
      "text/html": [
       "<div>\n",
       "<style scoped>\n",
       "    .dataframe tbody tr th:only-of-type {\n",
       "        vertical-align: middle;\n",
       "    }\n",
       "\n",
       "    .dataframe tbody tr th {\n",
       "        vertical-align: top;\n",
       "    }\n",
       "\n",
       "    .dataframe thead th {\n",
       "        text-align: right;\n",
       "    }\n",
       "</style>\n",
       "<table border=\"1\" class=\"dataframe\">\n",
       "  <thead>\n",
       "    <tr style=\"text-align: right;\">\n",
       "      <th></th>\n",
       "      <th>MovieID</th>\n",
       "      <th>Title</th>\n",
       "      <th>Genres</th>\n",
       "    </tr>\n",
       "  </thead>\n",
       "  <tbody>\n",
       "    <tr>\n",
       "      <th>0</th>\n",
       "      <td>1</td>\n",
       "      <td>Toy Story (1995)</td>\n",
       "      <td>Animation|Children's|Comedy</td>\n",
       "    </tr>\n",
       "    <tr>\n",
       "      <th>1</th>\n",
       "      <td>2</td>\n",
       "      <td>Jumanji (1995)</td>\n",
       "      <td>Adventure|Children's|Fantasy</td>\n",
       "    </tr>\n",
       "    <tr>\n",
       "      <th>2</th>\n",
       "      <td>3</td>\n",
       "      <td>Grumpier Old Men (1995)</td>\n",
       "      <td>Comedy|Romance</td>\n",
       "    </tr>\n",
       "    <tr>\n",
       "      <th>3</th>\n",
       "      <td>4</td>\n",
       "      <td>Waiting to Exhale (1995)</td>\n",
       "      <td>Comedy|Drama</td>\n",
       "    </tr>\n",
       "    <tr>\n",
       "      <th>4</th>\n",
       "      <td>5</td>\n",
       "      <td>Father of the Bride Part II (1995)</td>\n",
       "      <td>Comedy</td>\n",
       "    </tr>\n",
       "  </tbody>\n",
       "</table>\n",
       "</div>"
      ],
      "text/plain": [
       "   MovieID                               Title                        Genres\n",
       "0        1                    Toy Story (1995)   Animation|Children's|Comedy\n",
       "1        2                      Jumanji (1995)  Adventure|Children's|Fantasy\n",
       "2        3             Grumpier Old Men (1995)                Comedy|Romance\n",
       "3        4            Waiting to Exhale (1995)                  Comedy|Drama\n",
       "4        5  Father of the Bride Part II (1995)                        Comedy"
      ]
     },
     "execution_count": 21,
     "metadata": {},
     "output_type": "execute_result"
    }
   ],
   "source": [
    "data_movie_copy.head()"
   ]
  },
  {
   "cell_type": "code",
   "execution_count": 22,
   "id": "b4d2f3c1",
   "metadata": {
    "colab": {
     "base_uri": "https://localhost:8080/"
    },
    "id": "b4d2f3c1",
    "outputId": "96b92160-c998-4386-cc99-e6f451746103"
   },
   "outputs": [
    {
     "data": {
      "text/plain": [
       "(3883, 3)"
      ]
     },
     "execution_count": 22,
     "metadata": {},
     "output_type": "execute_result"
    }
   ],
   "source": [
    "data_movie_copy.shape"
   ]
  },
  {
   "cell_type": "markdown",
   "id": "8d60a913",
   "metadata": {},
   "source": [
    "---"
   ]
  },
  {
   "cell_type": "markdown",
   "id": "e8d01988",
   "metadata": {},
   "source": [
    "<h4>Union de Tablas</h4>"
   ]
  },
  {
   "cell_type": "markdown",
   "id": "1913b5cb",
   "metadata": {
    "id": "1913b5cb"
   },
   "source": [
    "<p>Se escoge la tabla Ratings como tabla principal para comenzar a unir las columnas correspondientes</p>"
   ]
  },
  {
   "cell_type": "code",
   "execution_count": 23,
   "id": "22efaa45",
   "metadata": {
    "colab": {
     "base_uri": "https://localhost:8080/",
     "height": 204
    },
    "id": "22efaa45",
    "outputId": "ac30773e-fd5f-4dd3-bf85-f67d2d3fb211"
   },
   "outputs": [
    {
     "data": {
      "text/html": [
       "<div>\n",
       "<style scoped>\n",
       "    .dataframe tbody tr th:only-of-type {\n",
       "        vertical-align: middle;\n",
       "    }\n",
       "\n",
       "    .dataframe tbody tr th {\n",
       "        vertical-align: top;\n",
       "    }\n",
       "\n",
       "    .dataframe thead th {\n",
       "        text-align: right;\n",
       "    }\n",
       "</style>\n",
       "<table border=\"1\" class=\"dataframe\">\n",
       "  <thead>\n",
       "    <tr style=\"text-align: right;\">\n",
       "      <th></th>\n",
       "      <th>UserID</th>\n",
       "      <th>MovieID</th>\n",
       "      <th>Ratings</th>\n",
       "      <th>Timestamp</th>\n",
       "      <th>Gender</th>\n",
       "      <th>Age</th>\n",
       "      <th>Ocupation</th>\n",
       "      <th>Zip_Code</th>\n",
       "    </tr>\n",
       "  </thead>\n",
       "  <tbody>\n",
       "    <tr>\n",
       "      <th>0</th>\n",
       "      <td>1</td>\n",
       "      <td>1193</td>\n",
       "      <td>5</td>\n",
       "      <td>978300760</td>\n",
       "      <td>F</td>\n",
       "      <td>1</td>\n",
       "      <td>10</td>\n",
       "      <td>48067</td>\n",
       "    </tr>\n",
       "    <tr>\n",
       "      <th>1</th>\n",
       "      <td>1</td>\n",
       "      <td>661</td>\n",
       "      <td>3</td>\n",
       "      <td>978302109</td>\n",
       "      <td>F</td>\n",
       "      <td>1</td>\n",
       "      <td>10</td>\n",
       "      <td>48067</td>\n",
       "    </tr>\n",
       "    <tr>\n",
       "      <th>2</th>\n",
       "      <td>1</td>\n",
       "      <td>914</td>\n",
       "      <td>3</td>\n",
       "      <td>978301968</td>\n",
       "      <td>F</td>\n",
       "      <td>1</td>\n",
       "      <td>10</td>\n",
       "      <td>48067</td>\n",
       "    </tr>\n",
       "    <tr>\n",
       "      <th>3</th>\n",
       "      <td>1</td>\n",
       "      <td>3408</td>\n",
       "      <td>4</td>\n",
       "      <td>978300275</td>\n",
       "      <td>F</td>\n",
       "      <td>1</td>\n",
       "      <td>10</td>\n",
       "      <td>48067</td>\n",
       "    </tr>\n",
       "    <tr>\n",
       "      <th>4</th>\n",
       "      <td>1</td>\n",
       "      <td>2355</td>\n",
       "      <td>5</td>\n",
       "      <td>978824291</td>\n",
       "      <td>F</td>\n",
       "      <td>1</td>\n",
       "      <td>10</td>\n",
       "      <td>48067</td>\n",
       "    </tr>\n",
       "  </tbody>\n",
       "</table>\n",
       "</div>"
      ],
      "text/plain": [
       "   UserID  MovieID  Ratings  Timestamp Gender  Age  Ocupation Zip_Code\n",
       "0       1     1193        5  978300760      F    1         10    48067\n",
       "1       1      661        3  978302109      F    1         10    48067\n",
       "2       1      914        3  978301968      F    1         10    48067\n",
       "3       1     3408        4  978300275      F    1         10    48067\n",
       "4       1     2355        5  978824291      F    1         10    48067"
      ]
     },
     "execution_count": 23,
     "metadata": {},
     "output_type": "execute_result"
    }
   ],
   "source": [
    "data_rating_copy=data_rating_copy.merge(data_user_copy,on=\"UserID\")\n",
    "data_rating_copy.head()"
   ]
  },
  {
   "cell_type": "code",
   "execution_count": 24,
   "id": "24f01105",
   "metadata": {
    "colab": {
     "base_uri": "https://localhost:8080/"
    },
    "id": "24f01105",
    "outputId": "3a3e724e-4274-4b3b-d7bd-2ddaee38aea5"
   },
   "outputs": [
    {
     "data": {
      "text/plain": [
       "(1000209, 8)"
      ]
     },
     "execution_count": 24,
     "metadata": {},
     "output_type": "execute_result"
    }
   ],
   "source": [
    "data_rating_copy.shape"
   ]
  },
  {
   "cell_type": "code",
   "execution_count": 25,
   "id": "07238d15",
   "metadata": {
    "colab": {
     "base_uri": "https://localhost:8080/",
     "height": 419
    },
    "id": "07238d15",
    "outputId": "e691019d-4a42-4807-fc30-6c6c7790a2ce"
   },
   "outputs": [
    {
     "data": {
      "text/html": [
       "<div>\n",
       "<style scoped>\n",
       "    .dataframe tbody tr th:only-of-type {\n",
       "        vertical-align: middle;\n",
       "    }\n",
       "\n",
       "    .dataframe tbody tr th {\n",
       "        vertical-align: top;\n",
       "    }\n",
       "\n",
       "    .dataframe thead th {\n",
       "        text-align: right;\n",
       "    }\n",
       "</style>\n",
       "<table border=\"1\" class=\"dataframe\">\n",
       "  <thead>\n",
       "    <tr style=\"text-align: right;\">\n",
       "      <th></th>\n",
       "      <th>UserID</th>\n",
       "      <th>MovieID</th>\n",
       "      <th>Ratings</th>\n",
       "      <th>Timestamp</th>\n",
       "      <th>Gender</th>\n",
       "      <th>Age</th>\n",
       "      <th>Ocupation</th>\n",
       "      <th>Zip_Code</th>\n",
       "      <th>Title</th>\n",
       "      <th>Genres</th>\n",
       "    </tr>\n",
       "  </thead>\n",
       "  <tbody>\n",
       "    <tr>\n",
       "      <th>0</th>\n",
       "      <td>1</td>\n",
       "      <td>1193</td>\n",
       "      <td>5</td>\n",
       "      <td>978300760</td>\n",
       "      <td>F</td>\n",
       "      <td>1</td>\n",
       "      <td>10</td>\n",
       "      <td>48067</td>\n",
       "      <td>One Flew Over the Cuckoo's Nest (1975)</td>\n",
       "      <td>Drama</td>\n",
       "    </tr>\n",
       "    <tr>\n",
       "      <th>1</th>\n",
       "      <td>2</td>\n",
       "      <td>1193</td>\n",
       "      <td>5</td>\n",
       "      <td>978298413</td>\n",
       "      <td>M</td>\n",
       "      <td>56</td>\n",
       "      <td>16</td>\n",
       "      <td>70072</td>\n",
       "      <td>One Flew Over the Cuckoo's Nest (1975)</td>\n",
       "      <td>Drama</td>\n",
       "    </tr>\n",
       "    <tr>\n",
       "      <th>2</th>\n",
       "      <td>12</td>\n",
       "      <td>1193</td>\n",
       "      <td>4</td>\n",
       "      <td>978220179</td>\n",
       "      <td>M</td>\n",
       "      <td>25</td>\n",
       "      <td>12</td>\n",
       "      <td>32793</td>\n",
       "      <td>One Flew Over the Cuckoo's Nest (1975)</td>\n",
       "      <td>Drama</td>\n",
       "    </tr>\n",
       "    <tr>\n",
       "      <th>3</th>\n",
       "      <td>15</td>\n",
       "      <td>1193</td>\n",
       "      <td>4</td>\n",
       "      <td>978199279</td>\n",
       "      <td>M</td>\n",
       "      <td>25</td>\n",
       "      <td>7</td>\n",
       "      <td>22903</td>\n",
       "      <td>One Flew Over the Cuckoo's Nest (1975)</td>\n",
       "      <td>Drama</td>\n",
       "    </tr>\n",
       "    <tr>\n",
       "      <th>4</th>\n",
       "      <td>17</td>\n",
       "      <td>1193</td>\n",
       "      <td>5</td>\n",
       "      <td>978158471</td>\n",
       "      <td>M</td>\n",
       "      <td>50</td>\n",
       "      <td>1</td>\n",
       "      <td>95350</td>\n",
       "      <td>One Flew Over the Cuckoo's Nest (1975)</td>\n",
       "      <td>Drama</td>\n",
       "    </tr>\n",
       "    <tr>\n",
       "      <th>...</th>\n",
       "      <td>...</td>\n",
       "      <td>...</td>\n",
       "      <td>...</td>\n",
       "      <td>...</td>\n",
       "      <td>...</td>\n",
       "      <td>...</td>\n",
       "      <td>...</td>\n",
       "      <td>...</td>\n",
       "      <td>...</td>\n",
       "      <td>...</td>\n",
       "    </tr>\n",
       "    <tr>\n",
       "      <th>19995</th>\n",
       "      <td>4422</td>\n",
       "      <td>3105</td>\n",
       "      <td>4</td>\n",
       "      <td>965118729</td>\n",
       "      <td>M</td>\n",
       "      <td>25</td>\n",
       "      <td>5</td>\n",
       "      <td>10463</td>\n",
       "      <td>Awakenings (1990)</td>\n",
       "      <td>Drama</td>\n",
       "    </tr>\n",
       "    <tr>\n",
       "      <th>19996</th>\n",
       "      <td>4425</td>\n",
       "      <td>3105</td>\n",
       "      <td>4</td>\n",
       "      <td>965108415</td>\n",
       "      <td>M</td>\n",
       "      <td>35</td>\n",
       "      <td>7</td>\n",
       "      <td>98607</td>\n",
       "      <td>Awakenings (1990)</td>\n",
       "      <td>Drama</td>\n",
       "    </tr>\n",
       "    <tr>\n",
       "      <th>19997</th>\n",
       "      <td>4430</td>\n",
       "      <td>3105</td>\n",
       "      <td>2</td>\n",
       "      <td>965101956</td>\n",
       "      <td>F</td>\n",
       "      <td>25</td>\n",
       "      <td>0</td>\n",
       "      <td>94403</td>\n",
       "      <td>Awakenings (1990)</td>\n",
       "      <td>Drama</td>\n",
       "    </tr>\n",
       "    <tr>\n",
       "      <th>19998</th>\n",
       "      <td>4452</td>\n",
       "      <td>3105</td>\n",
       "      <td>3</td>\n",
       "      <td>965089072</td>\n",
       "      <td>F</td>\n",
       "      <td>25</td>\n",
       "      <td>7</td>\n",
       "      <td>78666</td>\n",
       "      <td>Awakenings (1990)</td>\n",
       "      <td>Drama</td>\n",
       "    </tr>\n",
       "    <tr>\n",
       "      <th>19999</th>\n",
       "      <td>4471</td>\n",
       "      <td>3105</td>\n",
       "      <td>4</td>\n",
       "      <td>967756099</td>\n",
       "      <td>M</td>\n",
       "      <td>25</td>\n",
       "      <td>6</td>\n",
       "      <td>94108</td>\n",
       "      <td>Awakenings (1990)</td>\n",
       "      <td>Drama</td>\n",
       "    </tr>\n",
       "  </tbody>\n",
       "</table>\n",
       "<p>20000 rows × 10 columns</p>\n",
       "</div>"
      ],
      "text/plain": [
       "       UserID  MovieID  Ratings  Timestamp Gender  Age  Ocupation Zip_Code  \\\n",
       "0           1     1193        5  978300760      F    1         10    48067   \n",
       "1           2     1193        5  978298413      M   56         16    70072   \n",
       "2          12     1193        4  978220179      M   25         12    32793   \n",
       "3          15     1193        4  978199279      M   25          7    22903   \n",
       "4          17     1193        5  978158471      M   50          1    95350   \n",
       "...       ...      ...      ...        ...    ...  ...        ...      ...   \n",
       "19995    4422     3105        4  965118729      M   25          5    10463   \n",
       "19996    4425     3105        4  965108415      M   35          7    98607   \n",
       "19997    4430     3105        2  965101956      F   25          0    94403   \n",
       "19998    4452     3105        3  965089072      F   25          7    78666   \n",
       "19999    4471     3105        4  967756099      M   25          6    94108   \n",
       "\n",
       "                                        Title Genres  \n",
       "0      One Flew Over the Cuckoo's Nest (1975)  Drama  \n",
       "1      One Flew Over the Cuckoo's Nest (1975)  Drama  \n",
       "2      One Flew Over the Cuckoo's Nest (1975)  Drama  \n",
       "3      One Flew Over the Cuckoo's Nest (1975)  Drama  \n",
       "4      One Flew Over the Cuckoo's Nest (1975)  Drama  \n",
       "...                                       ...    ...  \n",
       "19995                       Awakenings (1990)  Drama  \n",
       "19996                       Awakenings (1990)  Drama  \n",
       "19997                       Awakenings (1990)  Drama  \n",
       "19998                       Awakenings (1990)  Drama  \n",
       "19999                       Awakenings (1990)  Drama  \n",
       "\n",
       "[20000 rows x 10 columns]"
      ]
     },
     "execution_count": 25,
     "metadata": {},
     "output_type": "execute_result"
    }
   ],
   "source": [
    "data_rating_copy= data_rating_copy.merge(data_movie_copy,on=\"MovieID\")\n",
    "data_rating_copy.head(20000)"
   ]
  },
  {
   "cell_type": "code",
   "execution_count": 26,
   "id": "c6f27b19",
   "metadata": {
    "colab": {
     "base_uri": "https://localhost:8080/"
    },
    "id": "c6f27b19",
    "outputId": "0ace61fe-bc5b-4483-8e16-8011b80ac015"
   },
   "outputs": [
    {
     "data": {
      "text/plain": [
       "(1000209, 10)"
      ]
     },
     "execution_count": 26,
     "metadata": {},
     "output_type": "execute_result"
    }
   ],
   "source": [
    "data_rating_copy.shape"
   ]
  },
  {
   "cell_type": "code",
   "execution_count": 27,
   "id": "2021d4c9",
   "metadata": {
    "colab": {
     "base_uri": "https://localhost:8080/"
    },
    "id": "2021d4c9",
    "outputId": "4944712f-2ac9-4737-b59a-c89f09eee445"
   },
   "outputs": [
    {
     "name": "stdout",
     "output_type": "stream",
     "text": [
      "<class 'pandas.core.frame.DataFrame'>\n",
      "Int64Index: 1000209 entries, 0 to 1000208\n",
      "Data columns (total 10 columns):\n",
      " #   Column     Non-Null Count    Dtype \n",
      "---  ------     --------------    ----- \n",
      " 0   UserID     1000209 non-null  int64 \n",
      " 1   MovieID    1000209 non-null  int64 \n",
      " 2   Ratings    1000209 non-null  int64 \n",
      " 3   Timestamp  1000209 non-null  int64 \n",
      " 4   Gender     1000209 non-null  object\n",
      " 5   Age        1000209 non-null  int64 \n",
      " 6   Ocupation  1000209 non-null  int64 \n",
      " 7   Zip_Code   1000209 non-null  object\n",
      " 8   Title      1000209 non-null  object\n",
      " 9   Genres     1000209 non-null  object\n",
      "dtypes: int64(6), object(4)\n",
      "memory usage: 83.9+ MB\n"
     ]
    }
   ],
   "source": [
    "data_rating_copy.info()"
   ]
  },
  {
   "cell_type": "markdown",
   "id": "d04c00fd",
   "metadata": {
    "id": "d04c00fd"
   },
   "source": [
    "<h2>Exploracion de Datos //RMF Values</h2>"
   ]
  },
  {
   "cell_type": "code",
   "execution_count": 28,
   "id": "ee19f9fd",
   "metadata": {
    "id": "ee19f9fd"
   },
   "outputs": [],
   "source": [
    "total_data = data_rating_copy"
   ]
  },
  {
   "cell_type": "code",
   "execution_count": 29,
   "id": "9a85c400",
   "metadata": {
    "id": "9a85c400"
   },
   "outputs": [],
   "source": [
    "movie_group = total_data.groupby(\"UserID\")[\"MovieID\"].sum()"
   ]
  },
  {
   "cell_type": "code",
   "execution_count": 30,
   "id": "1b9e9568",
   "metadata": {
    "colab": {
     "base_uri": "https://localhost:8080/"
    },
    "id": "1b9e9568",
    "outputId": "4be9efa0-a0d6-4650-e2e4-b3ebc7652d6d"
   },
   "outputs": [
    {
     "data": {
      "text/plain": [
       "4611649"
      ]
     },
     "execution_count": 30,
     "metadata": {},
     "output_type": "execute_result"
    }
   ],
   "source": [
    "movie_group.max()"
   ]
  },
  {
   "cell_type": "code",
   "execution_count": 31,
   "id": "3d14b8cd",
   "metadata": {},
   "outputs": [],
   "source": [
    "total_data.to_csv(r\"Datasets/exports/total_data.csv\",index=False)"
   ]
  },
  {
   "cell_type": "markdown",
   "id": "9418b69d",
   "metadata": {
    "id": "9418b69d"
   },
   "source": [
    "---"
   ]
  },
  {
   "cell_type": "markdown",
   "id": "11fca036",
   "metadata": {
    "id": "11fca036"
   },
   "source": [
    "<h4>Visualizaciones</h4>"
   ]
  },
  {
   "cell_type": "markdown",
   "id": "c054e089",
   "metadata": {
    "id": "c5c7d166"
   },
   "source": [
    "* Las visualizaciones se realizan en un dashboard mediante la libreria Dash. "
   ]
  },
  {
   "cell_type": "markdown",
   "id": "fd0c6b11",
   "metadata": {
    "id": "fd0c6b11"
   },
   "source": [
    "UserID::MovieID::Rating::Timestamp\n",
    "\n",
    "- UserIDs range between 1 and 6040 \n",
    "- MovieIDs range between 1 and 3952\n",
    "- Ratings are made on a 5-star scale (whole-star ratings only)\n",
    "- Timestamp is represented in seconds since the epoch as returned by time(2)\n",
    "- Each user has at least 20 ratings"
   ]
  },
  {
   "cell_type": "markdown",
   "id": "9bb8339f",
   "metadata": {
    "id": "9bb8339f"
   },
   "source": [
    "User information is in the file \"users.dat\" and is in the following\n",
    "format:\n",
    "\n",
    "UserID::Gender::Age::Occupation::Zip-code\n",
    "\n",
    "All demographic information is provided voluntarily by the users and is\n",
    "not checked for accuracy.  Only users who have provided some demographic\n",
    "information are included in this data set.\n",
    "\n",
    "- Gender is denoted by a \"M\" for male and \"F\" for female\n",
    "- Age is chosen from the following ranges:\n",
    "\n",
    "\t*  1:  \"Under 18\"\n",
    "\t* 18:  \"18-24\"\n",
    "\t* 25:  \"25-34\"\n",
    "\t* 35:  \"35-44\"\n",
    "\t* 45:  \"45-49\"\n",
    "\t* 50:  \"50-55\"\n",
    "\t* 56:  \"56+\""
   ]
  },
  {
   "cell_type": "markdown",
   "id": "2156192e",
   "metadata": {},
   "source": [
    "<h2>TRANSFORMACION DE DATOS</h2>"
   ]
  },
  {
   "cell_type": "code",
   "execution_count": 32,
   "id": "minWuPlfpqq6",
   "metadata": {
    "id": "minWuPlfpqq6"
   },
   "outputs": [],
   "source": [
    "data_to_train = total_data[[\"Age\",\"Ratings\",\"Gender\",\"Ocupation\",\"Zip_Code\",\"Genres\"]]"
   ]
  },
  {
   "cell_type": "code",
   "execution_count": 33,
   "id": "79hF0GDyp5-8",
   "metadata": {
    "colab": {
     "base_uri": "https://localhost:8080/",
     "height": 204
    },
    "id": "79hF0GDyp5-8",
    "outputId": "a493b74f-7eaa-4b2c-aa7b-a41e9ed05cc5"
   },
   "outputs": [
    {
     "data": {
      "text/html": [
       "<div>\n",
       "<style scoped>\n",
       "    .dataframe tbody tr th:only-of-type {\n",
       "        vertical-align: middle;\n",
       "    }\n",
       "\n",
       "    .dataframe tbody tr th {\n",
       "        vertical-align: top;\n",
       "    }\n",
       "\n",
       "    .dataframe thead th {\n",
       "        text-align: right;\n",
       "    }\n",
       "</style>\n",
       "<table border=\"1\" class=\"dataframe\">\n",
       "  <thead>\n",
       "    <tr style=\"text-align: right;\">\n",
       "      <th></th>\n",
       "      <th>Age</th>\n",
       "      <th>Ratings</th>\n",
       "      <th>Gender</th>\n",
       "      <th>Ocupation</th>\n",
       "      <th>Zip_Code</th>\n",
       "      <th>Genres</th>\n",
       "    </tr>\n",
       "  </thead>\n",
       "  <tbody>\n",
       "    <tr>\n",
       "      <th>0</th>\n",
       "      <td>1</td>\n",
       "      <td>5</td>\n",
       "      <td>F</td>\n",
       "      <td>10</td>\n",
       "      <td>48067</td>\n",
       "      <td>Drama</td>\n",
       "    </tr>\n",
       "    <tr>\n",
       "      <th>1</th>\n",
       "      <td>56</td>\n",
       "      <td>5</td>\n",
       "      <td>M</td>\n",
       "      <td>16</td>\n",
       "      <td>70072</td>\n",
       "      <td>Drama</td>\n",
       "    </tr>\n",
       "    <tr>\n",
       "      <th>2</th>\n",
       "      <td>25</td>\n",
       "      <td>4</td>\n",
       "      <td>M</td>\n",
       "      <td>12</td>\n",
       "      <td>32793</td>\n",
       "      <td>Drama</td>\n",
       "    </tr>\n",
       "    <tr>\n",
       "      <th>3</th>\n",
       "      <td>25</td>\n",
       "      <td>4</td>\n",
       "      <td>M</td>\n",
       "      <td>7</td>\n",
       "      <td>22903</td>\n",
       "      <td>Drama</td>\n",
       "    </tr>\n",
       "    <tr>\n",
       "      <th>4</th>\n",
       "      <td>50</td>\n",
       "      <td>5</td>\n",
       "      <td>M</td>\n",
       "      <td>1</td>\n",
       "      <td>95350</td>\n",
       "      <td>Drama</td>\n",
       "    </tr>\n",
       "  </tbody>\n",
       "</table>\n",
       "</div>"
      ],
      "text/plain": [
       "   Age  Ratings Gender  Ocupation Zip_Code Genres\n",
       "0    1        5      F         10    48067  Drama\n",
       "1   56        5      M         16    70072  Drama\n",
       "2   25        4      M         12    32793  Drama\n",
       "3   25        4      M          7    22903  Drama\n",
       "4   50        5      M          1    95350  Drama"
      ]
     },
     "execution_count": 33,
     "metadata": {},
     "output_type": "execute_result"
    }
   ],
   "source": [
    "data_to_train.head()"
   ]
  },
  {
   "cell_type": "code",
   "execution_count": 34,
   "id": "35171f8b",
   "metadata": {},
   "outputs": [],
   "source": [
    "#data_to_train.loc[\"M\",\"Gender\"]= int(1)"
   ]
  },
  {
   "cell_type": "code",
   "execution_count": 35,
   "id": "eb3ae422",
   "metadata": {},
   "outputs": [],
   "source": [
    "#data_to_train.head()"
   ]
  },
  {
   "cell_type": "code",
   "execution_count": 36,
   "id": "mql2bWlCqgQV",
   "metadata": {
    "colab": {
     "base_uri": "https://localhost:8080/"
    },
    "id": "mql2bWlCqgQV",
    "outputId": "62245eac-2760-405b-a379-7f524f6afb2e"
   },
   "outputs": [
    {
     "name": "stderr",
     "output_type": "stream",
     "text": [
      "C:\\Users\\crist\\AppData\\Local\\Temp/ipykernel_8188/770880562.py:1: SettingWithCopyWarning: \n",
      "A value is trying to be set on a copy of a slice from a DataFrame.\n",
      "Try using .loc[row_indexer,col_indexer] = value instead\n",
      "\n",
      "See the caveats in the documentation: https://pandas.pydata.org/pandas-docs/stable/user_guide/indexing.html#returning-a-view-versus-a-copy\n",
      "  data_to_train[\"Gender\"]=data_to_train[\"Gender\"].map(lambda x: 1 if x=='M' else 0)\n"
     ]
    }
   ],
   "source": [
    "data_to_train[\"Gender\"]=data_to_train[\"Gender\"].map(lambda x: 1 if x=='M' else 0)"
   ]
  },
  {
   "cell_type": "code",
   "execution_count": 37,
   "id": "SQQDg9JEry_y",
   "metadata": {
    "colab": {
     "base_uri": "https://localhost:8080/",
     "height": 204
    },
    "id": "SQQDg9JEry_y",
    "outputId": "f5888ff1-644f-47f6-8f7b-f94de2199788"
   },
   "outputs": [
    {
     "data": {
      "text/html": [
       "<div>\n",
       "<style scoped>\n",
       "    .dataframe tbody tr th:only-of-type {\n",
       "        vertical-align: middle;\n",
       "    }\n",
       "\n",
       "    .dataframe tbody tr th {\n",
       "        vertical-align: top;\n",
       "    }\n",
       "\n",
       "    .dataframe thead th {\n",
       "        text-align: right;\n",
       "    }\n",
       "</style>\n",
       "<table border=\"1\" class=\"dataframe\">\n",
       "  <thead>\n",
       "    <tr style=\"text-align: right;\">\n",
       "      <th></th>\n",
       "      <th>Age</th>\n",
       "      <th>Ratings</th>\n",
       "      <th>Gender</th>\n",
       "      <th>Ocupation</th>\n",
       "      <th>Zip_Code</th>\n",
       "      <th>Genres</th>\n",
       "    </tr>\n",
       "  </thead>\n",
       "  <tbody>\n",
       "    <tr>\n",
       "      <th>0</th>\n",
       "      <td>1</td>\n",
       "      <td>5</td>\n",
       "      <td>0</td>\n",
       "      <td>10</td>\n",
       "      <td>48067</td>\n",
       "      <td>Drama</td>\n",
       "    </tr>\n",
       "    <tr>\n",
       "      <th>1</th>\n",
       "      <td>56</td>\n",
       "      <td>5</td>\n",
       "      <td>1</td>\n",
       "      <td>16</td>\n",
       "      <td>70072</td>\n",
       "      <td>Drama</td>\n",
       "    </tr>\n",
       "    <tr>\n",
       "      <th>2</th>\n",
       "      <td>25</td>\n",
       "      <td>4</td>\n",
       "      <td>1</td>\n",
       "      <td>12</td>\n",
       "      <td>32793</td>\n",
       "      <td>Drama</td>\n",
       "    </tr>\n",
       "    <tr>\n",
       "      <th>3</th>\n",
       "      <td>25</td>\n",
       "      <td>4</td>\n",
       "      <td>1</td>\n",
       "      <td>7</td>\n",
       "      <td>22903</td>\n",
       "      <td>Drama</td>\n",
       "    </tr>\n",
       "    <tr>\n",
       "      <th>4</th>\n",
       "      <td>50</td>\n",
       "      <td>5</td>\n",
       "      <td>1</td>\n",
       "      <td>1</td>\n",
       "      <td>95350</td>\n",
       "      <td>Drama</td>\n",
       "    </tr>\n",
       "  </tbody>\n",
       "</table>\n",
       "</div>"
      ],
      "text/plain": [
       "   Age  Ratings  Gender  Ocupation Zip_Code Genres\n",
       "0    1        5       0         10    48067  Drama\n",
       "1   56        5       1         16    70072  Drama\n",
       "2   25        4       1         12    32793  Drama\n",
       "3   25        4       1          7    22903  Drama\n",
       "4   50        5       1          1    95350  Drama"
      ]
     },
     "execution_count": 37,
     "metadata": {},
     "output_type": "execute_result"
    }
   ],
   "source": [
    "data_to_train.head()"
   ]
  },
  {
   "cell_type": "markdown",
   "id": "bQPHpMtRWLCG",
   "metadata": {
    "id": "bQPHpMtRWLCG"
   },
   "source": [
    "**Conclusiones Importantes**\n",
    "\n",
    "Las variables con gran contenido de segmentacion son:\n",
    "- Age\n",
    "- Ratings\n",
    "- Gender\n",
    "- Ocupation\n",
    "- Zip_Code"
   ]
  },
  {
   "cell_type": "code",
   "execution_count": 38,
   "id": "b6fd34ae",
   "metadata": {
    "id": "b6fd34ae"
   },
   "outputs": [],
   "source": [
    "unique_vGenres = []\n",
    "for i in data_to_train[\"Genres\"]:\n",
    "    unique_vGenres.append(i.split(\"|\"))"
   ]
  },
  {
   "cell_type": "code",
   "execution_count": 39,
   "id": "5226521e",
   "metadata": {
    "id": "5226521e",
    "outputId": "cb7308f9-3842-46e5-d076-6c79b6b9be10"
   },
   "outputs": [
    {
     "data": {
      "text/plain": [
       "1000209"
      ]
     },
     "execution_count": 39,
     "metadata": {},
     "output_type": "execute_result"
    }
   ],
   "source": [
    "len(unique_vGenres)"
   ]
  },
  {
   "cell_type": "markdown",
   "id": "a1b63516",
   "metadata": {
    "id": "a1b63516"
   },
   "source": [
    "<p>Valores separados por comas, estos valores representan el genero de cada fila.\n",
    "</p>\n",
    "<h3>RETO</h3>\n",
    "<p>Encontrar valores unicos y clasificarlos de forma binaria para poderlos normalizar y encontrar un patron definido por perlicula, una tendencia de usuarios.</p>"
   ]
  },
  {
   "cell_type": "code",
   "execution_count": 40,
   "id": "34aec06f",
   "metadata": {
    "id": "34aec06f"
   },
   "outputs": [],
   "source": [
    "valuesUniquesGenres = []\n",
    "for i,value in enumerate(unique_vGenres):\n",
    "    for j in range(len(unique_vGenres[i])):\n",
    "        valuesUniquesGenres.append(unique_vGenres[i][j])"
   ]
  },
  {
   "cell_type": "code",
   "execution_count": 41,
   "id": "3718cad3",
   "metadata": {
    "id": "3718cad3"
   },
   "outputs": [],
   "source": [
    "df_uniquesGenres=pd.DataFrame(valuesUniquesGenres)"
   ]
  },
  {
   "cell_type": "code",
   "execution_count": 42,
   "id": "5b9160ae",
   "metadata": {
    "id": "5b9160ae",
    "outputId": "8df05224-808a-4bea-940b-bb0c8f3b98d4"
   },
   "outputs": [
    {
     "data": {
      "text/html": [
       "<div>\n",
       "<style scoped>\n",
       "    .dataframe tbody tr th:only-of-type {\n",
       "        vertical-align: middle;\n",
       "    }\n",
       "\n",
       "    .dataframe tbody tr th {\n",
       "        vertical-align: top;\n",
       "    }\n",
       "\n",
       "    .dataframe thead th {\n",
       "        text-align: right;\n",
       "    }\n",
       "</style>\n",
       "<table border=\"1\" class=\"dataframe\">\n",
       "  <thead>\n",
       "    <tr style=\"text-align: right;\">\n",
       "      <th></th>\n",
       "      <th>0</th>\n",
       "    </tr>\n",
       "  </thead>\n",
       "  <tbody>\n",
       "    <tr>\n",
       "      <th>0</th>\n",
       "      <td>Drama</td>\n",
       "    </tr>\n",
       "    <tr>\n",
       "      <th>1</th>\n",
       "      <td>Drama</td>\n",
       "    </tr>\n",
       "    <tr>\n",
       "      <th>2</th>\n",
       "      <td>Drama</td>\n",
       "    </tr>\n",
       "    <tr>\n",
       "      <th>3</th>\n",
       "      <td>Drama</td>\n",
       "    </tr>\n",
       "    <tr>\n",
       "      <th>4</th>\n",
       "      <td>Drama</td>\n",
       "    </tr>\n",
       "  </tbody>\n",
       "</table>\n",
       "</div>"
      ],
      "text/plain": [
       "       0\n",
       "0  Drama\n",
       "1  Drama\n",
       "2  Drama\n",
       "3  Drama\n",
       "4  Drama"
      ]
     },
     "execution_count": 42,
     "metadata": {},
     "output_type": "execute_result"
    }
   ],
   "source": [
    "df_uniquesGenres.head()"
   ]
  },
  {
   "cell_type": "code",
   "execution_count": 43,
   "id": "2d7ae100",
   "metadata": {
    "id": "2d7ae100"
   },
   "outputs": [],
   "source": [
    "df_unique_vGenres_total = df_uniquesGenres[0].unique()"
   ]
  },
  {
   "cell_type": "code",
   "execution_count": 44,
   "id": "70f7fb8f",
   "metadata": {
    "id": "70f7fb8f",
    "outputId": "85ebfd55-8bd7-43e8-d03e-22cc6b82c5df"
   },
   "outputs": [
    {
     "data": {
      "text/plain": [
       "18"
      ]
     },
     "execution_count": 44,
     "metadata": {},
     "output_type": "execute_result"
    }
   ],
   "source": [
    "len(df_unique_vGenres_total)"
   ]
  },
  {
   "cell_type": "code",
   "execution_count": 45,
   "id": "4111aa1c",
   "metadata": {
    "id": "4111aa1c",
    "outputId": "2ed27b18-4514-43b8-e457-8644dc363a77"
   },
   "outputs": [
    {
     "data": {
      "text/plain": [
       "list"
      ]
     },
     "execution_count": 45,
     "metadata": {},
     "output_type": "execute_result"
    }
   ],
   "source": [
    "type(list(df_unique_vGenres_total))"
   ]
  },
  {
   "cell_type": "markdown",
   "id": "b14f73a2",
   "metadata": {
    "id": "b14f73a2"
   },
   "source": [
    "<h3>Nota:</h3>\n",
    "<p>Al tener valores unicos puedo generar valores claficatorios para el dataframe, es decir llenar campos de 1 y 0 para poder visualizar una tendencia y seguido ello agrupar valores por edad, genero, region etc</p>"
   ]
  },
  {
   "cell_type": "code",
   "execution_count": 46,
   "id": "3a4c75f8",
   "metadata": {
    "id": "3a4c75f8",
    "outputId": "ebdbc2fe-0408-4d34-8682-fd8f586087b2"
   },
   "outputs": [
    {
     "name": "stdout",
     "output_type": "stream",
     "text": [
      "['Drama' 'Animation' \"Children's\" 'Musical' 'Romance' 'Comedy' 'Action'\n",
      " 'Adventure' 'Fantasy' 'Sci-Fi' 'War' 'Thriller' 'Crime' 'Mystery'\n",
      " 'Western' 'Horror' 'Film-Noir' 'Documentary']\n"
     ]
    },
    {
     "data": {
      "text/plain": [
       "18"
      ]
     },
     "execution_count": 46,
     "metadata": {},
     "output_type": "execute_result"
    }
   ],
   "source": [
    "print(df_unique_vGenres_total)\n",
    "len(df_unique_vGenres_total)"
   ]
  },
  {
   "cell_type": "code",
   "execution_count": 47,
   "id": "0869e397",
   "metadata": {
    "id": "0869e397"
   },
   "outputs": [],
   "source": [
    "df_genres_movies = pd.DataFrame(columns=[df_unique_vGenres_total])"
   ]
  },
  {
   "cell_type": "code",
   "execution_count": 48,
   "id": "5842b1a8",
   "metadata": {
    "id": "5842b1a8",
    "outputId": "337d75b2-651b-4cd5-ad78-3a03c61cb7b1"
   },
   "outputs": [
    {
     "data": {
      "text/plain": [
       "18"
      ]
     },
     "execution_count": 48,
     "metadata": {},
     "output_type": "execute_result"
    }
   ],
   "source": [
    "len(df_genres_movies.columns)"
   ]
  },
  {
   "cell_type": "code",
   "execution_count": 49,
   "id": "45d8c621",
   "metadata": {
    "id": "45d8c621",
    "outputId": "e22273c1-97c2-4e21-b79b-22bafe4dd956"
   },
   "outputs": [
    {
     "data": {
      "text/html": [
       "<div>\n",
       "<style scoped>\n",
       "    .dataframe tbody tr th:only-of-type {\n",
       "        vertical-align: middle;\n",
       "    }\n",
       "\n",
       "    .dataframe tbody tr th {\n",
       "        vertical-align: top;\n",
       "    }\n",
       "\n",
       "    .dataframe thead tr th {\n",
       "        text-align: left;\n",
       "    }\n",
       "</style>\n",
       "<table border=\"1\" class=\"dataframe\">\n",
       "  <thead>\n",
       "    <tr>\n",
       "      <th></th>\n",
       "      <th>Drama</th>\n",
       "      <th>Animation</th>\n",
       "      <th>Children's</th>\n",
       "      <th>Musical</th>\n",
       "      <th>Romance</th>\n",
       "      <th>Comedy</th>\n",
       "      <th>Action</th>\n",
       "      <th>Adventure</th>\n",
       "      <th>Fantasy</th>\n",
       "      <th>Sci-Fi</th>\n",
       "      <th>War</th>\n",
       "      <th>Thriller</th>\n",
       "      <th>Crime</th>\n",
       "      <th>Mystery</th>\n",
       "      <th>Western</th>\n",
       "      <th>Horror</th>\n",
       "      <th>Film-Noir</th>\n",
       "      <th>Documentary</th>\n",
       "    </tr>\n",
       "  </thead>\n",
       "  <tbody>\n",
       "  </tbody>\n",
       "</table>\n",
       "</div>"
      ],
      "text/plain": [
       "Empty DataFrame\n",
       "Columns: [(Drama,), (Animation,), (Children's,), (Musical,), (Romance,), (Comedy,), (Action,), (Adventure,), (Fantasy,), (Sci-Fi,), (War,), (Thriller,), (Crime,), (Mystery,), (Western,), (Horror,), (Film-Noir,), (Documentary,)]\n",
       "Index: []"
      ]
     },
     "execution_count": 49,
     "metadata": {},
     "output_type": "execute_result"
    }
   ],
   "source": [
    "df_genres_movies.head()"
   ]
  },
  {
   "cell_type": "markdown",
   "id": "d9c86873",
   "metadata": {
    "id": "d9c86873"
   },
   "source": [
    "<h3>CODIFICACION PARA LOS DATOS DEL DATAFRAME</h3>"
   ]
  },
  {
   "cell_type": "code",
   "execution_count": 50,
   "id": "b70a7326",
   "metadata": {
    "id": "b70a7326",
    "outputId": "559e0cd6-47c0-45b5-8c7f-83d382d23d50"
   },
   "outputs": [
    {
     "name": "stderr",
     "output_type": "stream",
     "text": [
      "1000209it [00:18, 53256.10it/s]\n"
     ]
    }
   ],
   "source": [
    "values_dataframe_rows = []\n",
    "\n",
    "list_unique_genres = list(df_unique_vGenres_total)\n",
    "\n",
    "for i,lista_aux in tqdm(enumerate(unique_vGenres)):\n",
    "    values_aux_dataframe_rows = np.zeros(len(df_genres_movies.columns))\n",
    "    for j in lista_aux:\n",
    "        for k,vListUnique in enumerate(list_unique_genres):\n",
    "            if(j==vListUnique):\n",
    "                values_aux_dataframe_rows[k]=1\n",
    "    values_dataframe_rows.append(values_aux_dataframe_rows)  "
   ]
  },
  {
   "cell_type": "code",
   "execution_count": 51,
   "id": "22c4384e",
   "metadata": {
    "id": "22c4384e",
    "outputId": "e60237a1-aa85-4d1f-8b03-9b47a21b22f3"
   },
   "outputs": [
    {
     "data": {
      "text/plain": [
       "18"
      ]
     },
     "execution_count": 51,
     "metadata": {},
     "output_type": "execute_result"
    }
   ],
   "source": [
    "len(values_dataframe_rows[10000])"
   ]
  },
  {
   "cell_type": "code",
   "execution_count": 52,
   "id": "f33c220d",
   "metadata": {
    "id": "f33c220d",
    "outputId": "2579cce7-7653-4c4c-9e5d-6db46342d902"
   },
   "outputs": [
    {
     "data": {
      "text/plain": [
       "['Comedy', 'Drama']"
      ]
     },
     "execution_count": 52,
     "metadata": {},
     "output_type": "execute_result"
    }
   ],
   "source": [
    "unique_vGenres[10000]"
   ]
  },
  {
   "cell_type": "code",
   "execution_count": 53,
   "id": "47d8e1af",
   "metadata": {
    "id": "47d8e1af"
   },
   "outputs": [],
   "source": [
    "df_genres_movies = pd.DataFrame(values_dataframe_rows,columns=list(df_unique_vGenres_total),dtype=\"int8\")"
   ]
  },
  {
   "cell_type": "code",
   "execution_count": 54,
   "id": "112862c0",
   "metadata": {
    "id": "112862c0",
    "outputId": "f00ccfba-33db-49df-cb42-c1eb6c4759d3"
   },
   "outputs": [
    {
     "data": {
      "text/html": [
       "<div>\n",
       "<style scoped>\n",
       "    .dataframe tbody tr th:only-of-type {\n",
       "        vertical-align: middle;\n",
       "    }\n",
       "\n",
       "    .dataframe tbody tr th {\n",
       "        vertical-align: top;\n",
       "    }\n",
       "\n",
       "    .dataframe thead th {\n",
       "        text-align: right;\n",
       "    }\n",
       "</style>\n",
       "<table border=\"1\" class=\"dataframe\">\n",
       "  <thead>\n",
       "    <tr style=\"text-align: right;\">\n",
       "      <th></th>\n",
       "      <th>Drama</th>\n",
       "      <th>Animation</th>\n",
       "      <th>Children's</th>\n",
       "      <th>Musical</th>\n",
       "      <th>Romance</th>\n",
       "      <th>Comedy</th>\n",
       "      <th>Action</th>\n",
       "      <th>Adventure</th>\n",
       "      <th>Fantasy</th>\n",
       "      <th>Sci-Fi</th>\n",
       "      <th>War</th>\n",
       "      <th>Thriller</th>\n",
       "      <th>Crime</th>\n",
       "      <th>Mystery</th>\n",
       "      <th>Western</th>\n",
       "      <th>Horror</th>\n",
       "      <th>Film-Noir</th>\n",
       "      <th>Documentary</th>\n",
       "    </tr>\n",
       "  </thead>\n",
       "  <tbody>\n",
       "    <tr>\n",
       "      <th>0</th>\n",
       "      <td>1</td>\n",
       "      <td>0</td>\n",
       "      <td>0</td>\n",
       "      <td>0</td>\n",
       "      <td>0</td>\n",
       "      <td>0</td>\n",
       "      <td>0</td>\n",
       "      <td>0</td>\n",
       "      <td>0</td>\n",
       "      <td>0</td>\n",
       "      <td>0</td>\n",
       "      <td>0</td>\n",
       "      <td>0</td>\n",
       "      <td>0</td>\n",
       "      <td>0</td>\n",
       "      <td>0</td>\n",
       "      <td>0</td>\n",
       "      <td>0</td>\n",
       "    </tr>\n",
       "    <tr>\n",
       "      <th>1</th>\n",
       "      <td>1</td>\n",
       "      <td>0</td>\n",
       "      <td>0</td>\n",
       "      <td>0</td>\n",
       "      <td>0</td>\n",
       "      <td>0</td>\n",
       "      <td>0</td>\n",
       "      <td>0</td>\n",
       "      <td>0</td>\n",
       "      <td>0</td>\n",
       "      <td>0</td>\n",
       "      <td>0</td>\n",
       "      <td>0</td>\n",
       "      <td>0</td>\n",
       "      <td>0</td>\n",
       "      <td>0</td>\n",
       "      <td>0</td>\n",
       "      <td>0</td>\n",
       "    </tr>\n",
       "    <tr>\n",
       "      <th>2</th>\n",
       "      <td>1</td>\n",
       "      <td>0</td>\n",
       "      <td>0</td>\n",
       "      <td>0</td>\n",
       "      <td>0</td>\n",
       "      <td>0</td>\n",
       "      <td>0</td>\n",
       "      <td>0</td>\n",
       "      <td>0</td>\n",
       "      <td>0</td>\n",
       "      <td>0</td>\n",
       "      <td>0</td>\n",
       "      <td>0</td>\n",
       "      <td>0</td>\n",
       "      <td>0</td>\n",
       "      <td>0</td>\n",
       "      <td>0</td>\n",
       "      <td>0</td>\n",
       "    </tr>\n",
       "    <tr>\n",
       "      <th>3</th>\n",
       "      <td>1</td>\n",
       "      <td>0</td>\n",
       "      <td>0</td>\n",
       "      <td>0</td>\n",
       "      <td>0</td>\n",
       "      <td>0</td>\n",
       "      <td>0</td>\n",
       "      <td>0</td>\n",
       "      <td>0</td>\n",
       "      <td>0</td>\n",
       "      <td>0</td>\n",
       "      <td>0</td>\n",
       "      <td>0</td>\n",
       "      <td>0</td>\n",
       "      <td>0</td>\n",
       "      <td>0</td>\n",
       "      <td>0</td>\n",
       "      <td>0</td>\n",
       "    </tr>\n",
       "    <tr>\n",
       "      <th>4</th>\n",
       "      <td>1</td>\n",
       "      <td>0</td>\n",
       "      <td>0</td>\n",
       "      <td>0</td>\n",
       "      <td>0</td>\n",
       "      <td>0</td>\n",
       "      <td>0</td>\n",
       "      <td>0</td>\n",
       "      <td>0</td>\n",
       "      <td>0</td>\n",
       "      <td>0</td>\n",
       "      <td>0</td>\n",
       "      <td>0</td>\n",
       "      <td>0</td>\n",
       "      <td>0</td>\n",
       "      <td>0</td>\n",
       "      <td>0</td>\n",
       "      <td>0</td>\n",
       "    </tr>\n",
       "    <tr>\n",
       "      <th>5</th>\n",
       "      <td>1</td>\n",
       "      <td>0</td>\n",
       "      <td>0</td>\n",
       "      <td>0</td>\n",
       "      <td>0</td>\n",
       "      <td>0</td>\n",
       "      <td>0</td>\n",
       "      <td>0</td>\n",
       "      <td>0</td>\n",
       "      <td>0</td>\n",
       "      <td>0</td>\n",
       "      <td>0</td>\n",
       "      <td>0</td>\n",
       "      <td>0</td>\n",
       "      <td>0</td>\n",
       "      <td>0</td>\n",
       "      <td>0</td>\n",
       "      <td>0</td>\n",
       "    </tr>\n",
       "    <tr>\n",
       "      <th>6</th>\n",
       "      <td>1</td>\n",
       "      <td>0</td>\n",
       "      <td>0</td>\n",
       "      <td>0</td>\n",
       "      <td>0</td>\n",
       "      <td>0</td>\n",
       "      <td>0</td>\n",
       "      <td>0</td>\n",
       "      <td>0</td>\n",
       "      <td>0</td>\n",
       "      <td>0</td>\n",
       "      <td>0</td>\n",
       "      <td>0</td>\n",
       "      <td>0</td>\n",
       "      <td>0</td>\n",
       "      <td>0</td>\n",
       "      <td>0</td>\n",
       "      <td>0</td>\n",
       "    </tr>\n",
       "    <tr>\n",
       "      <th>7</th>\n",
       "      <td>1</td>\n",
       "      <td>0</td>\n",
       "      <td>0</td>\n",
       "      <td>0</td>\n",
       "      <td>0</td>\n",
       "      <td>0</td>\n",
       "      <td>0</td>\n",
       "      <td>0</td>\n",
       "      <td>0</td>\n",
       "      <td>0</td>\n",
       "      <td>0</td>\n",
       "      <td>0</td>\n",
       "      <td>0</td>\n",
       "      <td>0</td>\n",
       "      <td>0</td>\n",
       "      <td>0</td>\n",
       "      <td>0</td>\n",
       "      <td>0</td>\n",
       "    </tr>\n",
       "    <tr>\n",
       "      <th>8</th>\n",
       "      <td>1</td>\n",
       "      <td>0</td>\n",
       "      <td>0</td>\n",
       "      <td>0</td>\n",
       "      <td>0</td>\n",
       "      <td>0</td>\n",
       "      <td>0</td>\n",
       "      <td>0</td>\n",
       "      <td>0</td>\n",
       "      <td>0</td>\n",
       "      <td>0</td>\n",
       "      <td>0</td>\n",
       "      <td>0</td>\n",
       "      <td>0</td>\n",
       "      <td>0</td>\n",
       "      <td>0</td>\n",
       "      <td>0</td>\n",
       "      <td>0</td>\n",
       "    </tr>\n",
       "    <tr>\n",
       "      <th>9</th>\n",
       "      <td>1</td>\n",
       "      <td>0</td>\n",
       "      <td>0</td>\n",
       "      <td>0</td>\n",
       "      <td>0</td>\n",
       "      <td>0</td>\n",
       "      <td>0</td>\n",
       "      <td>0</td>\n",
       "      <td>0</td>\n",
       "      <td>0</td>\n",
       "      <td>0</td>\n",
       "      <td>0</td>\n",
       "      <td>0</td>\n",
       "      <td>0</td>\n",
       "      <td>0</td>\n",
       "      <td>0</td>\n",
       "      <td>0</td>\n",
       "      <td>0</td>\n",
       "    </tr>\n",
       "  </tbody>\n",
       "</table>\n",
       "</div>"
      ],
      "text/plain": [
       "   Drama  Animation  Children's  Musical  Romance  Comedy  Action  Adventure  \\\n",
       "0      1          0           0        0        0       0       0          0   \n",
       "1      1          0           0        0        0       0       0          0   \n",
       "2      1          0           0        0        0       0       0          0   \n",
       "3      1          0           0        0        0       0       0          0   \n",
       "4      1          0           0        0        0       0       0          0   \n",
       "5      1          0           0        0        0       0       0          0   \n",
       "6      1          0           0        0        0       0       0          0   \n",
       "7      1          0           0        0        0       0       0          0   \n",
       "8      1          0           0        0        0       0       0          0   \n",
       "9      1          0           0        0        0       0       0          0   \n",
       "\n",
       "   Fantasy  Sci-Fi  War  Thriller  Crime  Mystery  Western  Horror  Film-Noir  \\\n",
       "0        0       0    0         0      0        0        0       0          0   \n",
       "1        0       0    0         0      0        0        0       0          0   \n",
       "2        0       0    0         0      0        0        0       0          0   \n",
       "3        0       0    0         0      0        0        0       0          0   \n",
       "4        0       0    0         0      0        0        0       0          0   \n",
       "5        0       0    0         0      0        0        0       0          0   \n",
       "6        0       0    0         0      0        0        0       0          0   \n",
       "7        0       0    0         0      0        0        0       0          0   \n",
       "8        0       0    0         0      0        0        0       0          0   \n",
       "9        0       0    0         0      0        0        0       0          0   \n",
       "\n",
       "   Documentary  \n",
       "0            0  \n",
       "1            0  \n",
       "2            0  \n",
       "3            0  \n",
       "4            0  \n",
       "5            0  \n",
       "6            0  \n",
       "7            0  \n",
       "8            0  \n",
       "9            0  "
      ]
     },
     "execution_count": 54,
     "metadata": {},
     "output_type": "execute_result"
    }
   ],
   "source": [
    "df_genres_movies.head(10)"
   ]
  },
  {
   "cell_type": "code",
   "execution_count": 55,
   "id": "27e33b15",
   "metadata": {
    "id": "27e33b15",
    "outputId": "7bb0c88f-65d7-4306-ff95-0c7fb39c7598"
   },
   "outputs": [
    {
     "data": {
      "text/html": [
       "<div>\n",
       "<style scoped>\n",
       "    .dataframe tbody tr th:only-of-type {\n",
       "        vertical-align: middle;\n",
       "    }\n",
       "\n",
       "    .dataframe tbody tr th {\n",
       "        vertical-align: top;\n",
       "    }\n",
       "\n",
       "    .dataframe thead th {\n",
       "        text-align: right;\n",
       "    }\n",
       "</style>\n",
       "<table border=\"1\" class=\"dataframe\">\n",
       "  <thead>\n",
       "    <tr style=\"text-align: right;\">\n",
       "      <th></th>\n",
       "      <th>Drama</th>\n",
       "      <th>Animation</th>\n",
       "      <th>Children's</th>\n",
       "      <th>Musical</th>\n",
       "      <th>Romance</th>\n",
       "      <th>Comedy</th>\n",
       "      <th>Action</th>\n",
       "      <th>Adventure</th>\n",
       "      <th>Fantasy</th>\n",
       "      <th>Sci-Fi</th>\n",
       "      <th>War</th>\n",
       "      <th>Thriller</th>\n",
       "      <th>Crime</th>\n",
       "      <th>Mystery</th>\n",
       "      <th>Western</th>\n",
       "      <th>Horror</th>\n",
       "      <th>Film-Noir</th>\n",
       "      <th>Documentary</th>\n",
       "    </tr>\n",
       "  </thead>\n",
       "  <tbody>\n",
       "    <tr>\n",
       "      <th>1000199</th>\n",
       "      <td>1</td>\n",
       "      <td>0</td>\n",
       "      <td>0</td>\n",
       "      <td>0</td>\n",
       "      <td>0</td>\n",
       "      <td>0</td>\n",
       "      <td>0</td>\n",
       "      <td>0</td>\n",
       "      <td>0</td>\n",
       "      <td>0</td>\n",
       "      <td>0</td>\n",
       "      <td>0</td>\n",
       "      <td>0</td>\n",
       "      <td>0</td>\n",
       "      <td>0</td>\n",
       "      <td>0</td>\n",
       "      <td>0</td>\n",
       "      <td>0</td>\n",
       "    </tr>\n",
       "    <tr>\n",
       "      <th>1000200</th>\n",
       "      <td>0</td>\n",
       "      <td>0</td>\n",
       "      <td>1</td>\n",
       "      <td>0</td>\n",
       "      <td>0</td>\n",
       "      <td>1</td>\n",
       "      <td>0</td>\n",
       "      <td>0</td>\n",
       "      <td>0</td>\n",
       "      <td>0</td>\n",
       "      <td>0</td>\n",
       "      <td>0</td>\n",
       "      <td>0</td>\n",
       "      <td>0</td>\n",
       "      <td>0</td>\n",
       "      <td>0</td>\n",
       "      <td>0</td>\n",
       "      <td>0</td>\n",
       "    </tr>\n",
       "    <tr>\n",
       "      <th>1000201</th>\n",
       "      <td>0</td>\n",
       "      <td>0</td>\n",
       "      <td>0</td>\n",
       "      <td>0</td>\n",
       "      <td>0</td>\n",
       "      <td>0</td>\n",
       "      <td>1</td>\n",
       "      <td>0</td>\n",
       "      <td>0</td>\n",
       "      <td>1</td>\n",
       "      <td>0</td>\n",
       "      <td>1</td>\n",
       "      <td>0</td>\n",
       "      <td>0</td>\n",
       "      <td>0</td>\n",
       "      <td>0</td>\n",
       "      <td>0</td>\n",
       "      <td>0</td>\n",
       "    </tr>\n",
       "    <tr>\n",
       "      <th>1000202</th>\n",
       "      <td>0</td>\n",
       "      <td>0</td>\n",
       "      <td>0</td>\n",
       "      <td>0</td>\n",
       "      <td>0</td>\n",
       "      <td>1</td>\n",
       "      <td>0</td>\n",
       "      <td>0</td>\n",
       "      <td>0</td>\n",
       "      <td>0</td>\n",
       "      <td>0</td>\n",
       "      <td>0</td>\n",
       "      <td>0</td>\n",
       "      <td>0</td>\n",
       "      <td>0</td>\n",
       "      <td>0</td>\n",
       "      <td>0</td>\n",
       "      <td>0</td>\n",
       "    </tr>\n",
       "    <tr>\n",
       "      <th>1000203</th>\n",
       "      <td>0</td>\n",
       "      <td>0</td>\n",
       "      <td>0</td>\n",
       "      <td>0</td>\n",
       "      <td>0</td>\n",
       "      <td>0</td>\n",
       "      <td>0</td>\n",
       "      <td>0</td>\n",
       "      <td>0</td>\n",
       "      <td>0</td>\n",
       "      <td>0</td>\n",
       "      <td>0</td>\n",
       "      <td>0</td>\n",
       "      <td>0</td>\n",
       "      <td>0</td>\n",
       "      <td>0</td>\n",
       "      <td>0</td>\n",
       "      <td>1</td>\n",
       "    </tr>\n",
       "    <tr>\n",
       "      <th>1000204</th>\n",
       "      <td>0</td>\n",
       "      <td>0</td>\n",
       "      <td>0</td>\n",
       "      <td>0</td>\n",
       "      <td>0</td>\n",
       "      <td>0</td>\n",
       "      <td>0</td>\n",
       "      <td>0</td>\n",
       "      <td>0</td>\n",
       "      <td>0</td>\n",
       "      <td>0</td>\n",
       "      <td>0</td>\n",
       "      <td>0</td>\n",
       "      <td>0</td>\n",
       "      <td>0</td>\n",
       "      <td>0</td>\n",
       "      <td>0</td>\n",
       "      <td>1</td>\n",
       "    </tr>\n",
       "    <tr>\n",
       "      <th>1000205</th>\n",
       "      <td>1</td>\n",
       "      <td>0</td>\n",
       "      <td>0</td>\n",
       "      <td>0</td>\n",
       "      <td>0</td>\n",
       "      <td>0</td>\n",
       "      <td>0</td>\n",
       "      <td>0</td>\n",
       "      <td>0</td>\n",
       "      <td>0</td>\n",
       "      <td>0</td>\n",
       "      <td>0</td>\n",
       "      <td>0</td>\n",
       "      <td>0</td>\n",
       "      <td>0</td>\n",
       "      <td>0</td>\n",
       "      <td>0</td>\n",
       "      <td>0</td>\n",
       "    </tr>\n",
       "    <tr>\n",
       "      <th>1000206</th>\n",
       "      <td>1</td>\n",
       "      <td>0</td>\n",
       "      <td>0</td>\n",
       "      <td>0</td>\n",
       "      <td>0</td>\n",
       "      <td>0</td>\n",
       "      <td>0</td>\n",
       "      <td>0</td>\n",
       "      <td>0</td>\n",
       "      <td>0</td>\n",
       "      <td>0</td>\n",
       "      <td>0</td>\n",
       "      <td>0</td>\n",
       "      <td>0</td>\n",
       "      <td>0</td>\n",
       "      <td>0</td>\n",
       "      <td>0</td>\n",
       "      <td>0</td>\n",
       "    </tr>\n",
       "    <tr>\n",
       "      <th>1000207</th>\n",
       "      <td>1</td>\n",
       "      <td>0</td>\n",
       "      <td>0</td>\n",
       "      <td>0</td>\n",
       "      <td>0</td>\n",
       "      <td>1</td>\n",
       "      <td>0</td>\n",
       "      <td>0</td>\n",
       "      <td>0</td>\n",
       "      <td>0</td>\n",
       "      <td>0</td>\n",
       "      <td>0</td>\n",
       "      <td>0</td>\n",
       "      <td>0</td>\n",
       "      <td>1</td>\n",
       "      <td>0</td>\n",
       "      <td>0</td>\n",
       "      <td>0</td>\n",
       "    </tr>\n",
       "    <tr>\n",
       "      <th>1000208</th>\n",
       "      <td>0</td>\n",
       "      <td>0</td>\n",
       "      <td>0</td>\n",
       "      <td>0</td>\n",
       "      <td>0</td>\n",
       "      <td>0</td>\n",
       "      <td>0</td>\n",
       "      <td>0</td>\n",
       "      <td>0</td>\n",
       "      <td>0</td>\n",
       "      <td>0</td>\n",
       "      <td>0</td>\n",
       "      <td>0</td>\n",
       "      <td>0</td>\n",
       "      <td>0</td>\n",
       "      <td>0</td>\n",
       "      <td>0</td>\n",
       "      <td>1</td>\n",
       "    </tr>\n",
       "  </tbody>\n",
       "</table>\n",
       "</div>"
      ],
      "text/plain": [
       "         Drama  Animation  Children's  Musical  Romance  Comedy  Action  \\\n",
       "1000199      1          0           0        0        0       0       0   \n",
       "1000200      0          0           1        0        0       1       0   \n",
       "1000201      0          0           0        0        0       0       1   \n",
       "1000202      0          0           0        0        0       1       0   \n",
       "1000203      0          0           0        0        0       0       0   \n",
       "1000204      0          0           0        0        0       0       0   \n",
       "1000205      1          0           0        0        0       0       0   \n",
       "1000206      1          0           0        0        0       0       0   \n",
       "1000207      1          0           0        0        0       1       0   \n",
       "1000208      0          0           0        0        0       0       0   \n",
       "\n",
       "         Adventure  Fantasy  Sci-Fi  War  Thriller  Crime  Mystery  Western  \\\n",
       "1000199          0        0       0    0         0      0        0        0   \n",
       "1000200          0        0       0    0         0      0        0        0   \n",
       "1000201          0        0       1    0         1      0        0        0   \n",
       "1000202          0        0       0    0         0      0        0        0   \n",
       "1000203          0        0       0    0         0      0        0        0   \n",
       "1000204          0        0       0    0         0      0        0        0   \n",
       "1000205          0        0       0    0         0      0        0        0   \n",
       "1000206          0        0       0    0         0      0        0        0   \n",
       "1000207          0        0       0    0         0      0        0        1   \n",
       "1000208          0        0       0    0         0      0        0        0   \n",
       "\n",
       "         Horror  Film-Noir  Documentary  \n",
       "1000199       0          0            0  \n",
       "1000200       0          0            0  \n",
       "1000201       0          0            0  \n",
       "1000202       0          0            0  \n",
       "1000203       0          0            1  \n",
       "1000204       0          0            1  \n",
       "1000205       0          0            0  \n",
       "1000206       0          0            0  \n",
       "1000207       0          0            0  \n",
       "1000208       0          0            1  "
      ]
     },
     "execution_count": 55,
     "metadata": {},
     "output_type": "execute_result"
    }
   ],
   "source": [
    "df_genres_movies.tail(10)"
   ]
  },
  {
   "cell_type": "code",
   "execution_count": 56,
   "id": "2ce86c6e",
   "metadata": {
    "id": "2ce86c6e",
    "outputId": "356358fc-e877-448f-c1a5-98f099b3356d"
   },
   "outputs": [
    {
     "data": {
      "text/plain": [
       "1000209"
      ]
     },
     "execution_count": 56,
     "metadata": {},
     "output_type": "execute_result"
    }
   ],
   "source": [
    "len(df_genres_movies)"
   ]
  },
  {
   "cell_type": "code",
   "execution_count": 57,
   "id": "f17c2186",
   "metadata": {
    "id": "f17c2186",
    "outputId": "dce2a480-6818-4284-db54-df059f654e3b"
   },
   "outputs": [
    {
     "data": {
      "text/html": [
       "<div>\n",
       "<style scoped>\n",
       "    .dataframe tbody tr th:only-of-type {\n",
       "        vertical-align: middle;\n",
       "    }\n",
       "\n",
       "    .dataframe tbody tr th {\n",
       "        vertical-align: top;\n",
       "    }\n",
       "\n",
       "    .dataframe thead th {\n",
       "        text-align: right;\n",
       "    }\n",
       "</style>\n",
       "<table border=\"1\" class=\"dataframe\">\n",
       "  <thead>\n",
       "    <tr style=\"text-align: right;\">\n",
       "      <th></th>\n",
       "      <th>Drama</th>\n",
       "      <th>Animation</th>\n",
       "      <th>Children's</th>\n",
       "      <th>Musical</th>\n",
       "      <th>Romance</th>\n",
       "      <th>Comedy</th>\n",
       "      <th>Action</th>\n",
       "      <th>Adventure</th>\n",
       "      <th>Fantasy</th>\n",
       "      <th>Sci-Fi</th>\n",
       "      <th>War</th>\n",
       "      <th>Thriller</th>\n",
       "      <th>Crime</th>\n",
       "      <th>Mystery</th>\n",
       "      <th>Western</th>\n",
       "      <th>Horror</th>\n",
       "      <th>Film-Noir</th>\n",
       "      <th>Documentary</th>\n",
       "    </tr>\n",
       "  </thead>\n",
       "  <tbody>\n",
       "    <tr>\n",
       "      <th>count</th>\n",
       "      <td>1.000209e+06</td>\n",
       "      <td>1.000209e+06</td>\n",
       "      <td>1.000209e+06</td>\n",
       "      <td>1.000209e+06</td>\n",
       "      <td>1.000209e+06</td>\n",
       "      <td>1.000209e+06</td>\n",
       "      <td>1.000209e+06</td>\n",
       "      <td>1.000209e+06</td>\n",
       "      <td>1.000209e+06</td>\n",
       "      <td>1.000209e+06</td>\n",
       "      <td>1.000209e+06</td>\n",
       "      <td>1.000209e+06</td>\n",
       "      <td>1.000209e+06</td>\n",
       "      <td>1.000209e+06</td>\n",
       "      <td>1.000209e+06</td>\n",
       "      <td>1.000209e+06</td>\n",
       "      <td>1.000209e+06</td>\n",
       "      <td>1.000209e+06</td>\n",
       "    </tr>\n",
       "    <tr>\n",
       "      <th>mean</th>\n",
       "      <td>3.544549e-01</td>\n",
       "      <td>4.328395e-02</td>\n",
       "      <td>7.217092e-02</td>\n",
       "      <td>4.152432e-02</td>\n",
       "      <td>1.474922e-01</td>\n",
       "      <td>3.565055e-01</td>\n",
       "      <td>2.574032e-01</td>\n",
       "      <td>1.339250e-01</td>\n",
       "      <td>3.629341e-02</td>\n",
       "      <td>1.572611e-01</td>\n",
       "      <td>6.851268e-02</td>\n",
       "      <td>1.896404e-01</td>\n",
       "      <td>7.952438e-02</td>\n",
       "      <td>4.016960e-02</td>\n",
       "      <td>2.067868e-02</td>\n",
       "      <td>7.637004e-02</td>\n",
       "      <td>1.825718e-02</td>\n",
       "      <td>7.908347e-03</td>\n",
       "    </tr>\n",
       "    <tr>\n",
       "      <th>std</th>\n",
       "      <td>4.783481e-01</td>\n",
       "      <td>2.034957e-01</td>\n",
       "      <td>2.587708e-01</td>\n",
       "      <td>1.994996e-01</td>\n",
       "      <td>3.545960e-01</td>\n",
       "      <td>4.789672e-01</td>\n",
       "      <td>4.372036e-01</td>\n",
       "      <td>3.405719e-01</td>\n",
       "      <td>1.870194e-01</td>\n",
       "      <td>3.640470e-01</td>\n",
       "      <td>2.526237e-01</td>\n",
       "      <td>3.920166e-01</td>\n",
       "      <td>2.705556e-01</td>\n",
       "      <td>1.963569e-01</td>\n",
       "      <td>1.423063e-01</td>\n",
       "      <td>2.655894e-01</td>\n",
       "      <td>1.338801e-01</td>\n",
       "      <td>8.857659e-02</td>\n",
       "    </tr>\n",
       "    <tr>\n",
       "      <th>min</th>\n",
       "      <td>0.000000e+00</td>\n",
       "      <td>0.000000e+00</td>\n",
       "      <td>0.000000e+00</td>\n",
       "      <td>0.000000e+00</td>\n",
       "      <td>0.000000e+00</td>\n",
       "      <td>0.000000e+00</td>\n",
       "      <td>0.000000e+00</td>\n",
       "      <td>0.000000e+00</td>\n",
       "      <td>0.000000e+00</td>\n",
       "      <td>0.000000e+00</td>\n",
       "      <td>0.000000e+00</td>\n",
       "      <td>0.000000e+00</td>\n",
       "      <td>0.000000e+00</td>\n",
       "      <td>0.000000e+00</td>\n",
       "      <td>0.000000e+00</td>\n",
       "      <td>0.000000e+00</td>\n",
       "      <td>0.000000e+00</td>\n",
       "      <td>0.000000e+00</td>\n",
       "    </tr>\n",
       "    <tr>\n",
       "      <th>25%</th>\n",
       "      <td>0.000000e+00</td>\n",
       "      <td>0.000000e+00</td>\n",
       "      <td>0.000000e+00</td>\n",
       "      <td>0.000000e+00</td>\n",
       "      <td>0.000000e+00</td>\n",
       "      <td>0.000000e+00</td>\n",
       "      <td>0.000000e+00</td>\n",
       "      <td>0.000000e+00</td>\n",
       "      <td>0.000000e+00</td>\n",
       "      <td>0.000000e+00</td>\n",
       "      <td>0.000000e+00</td>\n",
       "      <td>0.000000e+00</td>\n",
       "      <td>0.000000e+00</td>\n",
       "      <td>0.000000e+00</td>\n",
       "      <td>0.000000e+00</td>\n",
       "      <td>0.000000e+00</td>\n",
       "      <td>0.000000e+00</td>\n",
       "      <td>0.000000e+00</td>\n",
       "    </tr>\n",
       "    <tr>\n",
       "      <th>50%</th>\n",
       "      <td>0.000000e+00</td>\n",
       "      <td>0.000000e+00</td>\n",
       "      <td>0.000000e+00</td>\n",
       "      <td>0.000000e+00</td>\n",
       "      <td>0.000000e+00</td>\n",
       "      <td>0.000000e+00</td>\n",
       "      <td>0.000000e+00</td>\n",
       "      <td>0.000000e+00</td>\n",
       "      <td>0.000000e+00</td>\n",
       "      <td>0.000000e+00</td>\n",
       "      <td>0.000000e+00</td>\n",
       "      <td>0.000000e+00</td>\n",
       "      <td>0.000000e+00</td>\n",
       "      <td>0.000000e+00</td>\n",
       "      <td>0.000000e+00</td>\n",
       "      <td>0.000000e+00</td>\n",
       "      <td>0.000000e+00</td>\n",
       "      <td>0.000000e+00</td>\n",
       "    </tr>\n",
       "    <tr>\n",
       "      <th>75%</th>\n",
       "      <td>1.000000e+00</td>\n",
       "      <td>0.000000e+00</td>\n",
       "      <td>0.000000e+00</td>\n",
       "      <td>0.000000e+00</td>\n",
       "      <td>0.000000e+00</td>\n",
       "      <td>1.000000e+00</td>\n",
       "      <td>1.000000e+00</td>\n",
       "      <td>0.000000e+00</td>\n",
       "      <td>0.000000e+00</td>\n",
       "      <td>0.000000e+00</td>\n",
       "      <td>0.000000e+00</td>\n",
       "      <td>0.000000e+00</td>\n",
       "      <td>0.000000e+00</td>\n",
       "      <td>0.000000e+00</td>\n",
       "      <td>0.000000e+00</td>\n",
       "      <td>0.000000e+00</td>\n",
       "      <td>0.000000e+00</td>\n",
       "      <td>0.000000e+00</td>\n",
       "    </tr>\n",
       "    <tr>\n",
       "      <th>max</th>\n",
       "      <td>1.000000e+00</td>\n",
       "      <td>1.000000e+00</td>\n",
       "      <td>1.000000e+00</td>\n",
       "      <td>1.000000e+00</td>\n",
       "      <td>1.000000e+00</td>\n",
       "      <td>1.000000e+00</td>\n",
       "      <td>1.000000e+00</td>\n",
       "      <td>1.000000e+00</td>\n",
       "      <td>1.000000e+00</td>\n",
       "      <td>1.000000e+00</td>\n",
       "      <td>1.000000e+00</td>\n",
       "      <td>1.000000e+00</td>\n",
       "      <td>1.000000e+00</td>\n",
       "      <td>1.000000e+00</td>\n",
       "      <td>1.000000e+00</td>\n",
       "      <td>1.000000e+00</td>\n",
       "      <td>1.000000e+00</td>\n",
       "      <td>1.000000e+00</td>\n",
       "    </tr>\n",
       "  </tbody>\n",
       "</table>\n",
       "</div>"
      ],
      "text/plain": [
       "              Drama     Animation    Children's       Musical       Romance  \\\n",
       "count  1.000209e+06  1.000209e+06  1.000209e+06  1.000209e+06  1.000209e+06   \n",
       "mean   3.544549e-01  4.328395e-02  7.217092e-02  4.152432e-02  1.474922e-01   \n",
       "std    4.783481e-01  2.034957e-01  2.587708e-01  1.994996e-01  3.545960e-01   \n",
       "min    0.000000e+00  0.000000e+00  0.000000e+00  0.000000e+00  0.000000e+00   \n",
       "25%    0.000000e+00  0.000000e+00  0.000000e+00  0.000000e+00  0.000000e+00   \n",
       "50%    0.000000e+00  0.000000e+00  0.000000e+00  0.000000e+00  0.000000e+00   \n",
       "75%    1.000000e+00  0.000000e+00  0.000000e+00  0.000000e+00  0.000000e+00   \n",
       "max    1.000000e+00  1.000000e+00  1.000000e+00  1.000000e+00  1.000000e+00   \n",
       "\n",
       "             Comedy        Action     Adventure       Fantasy        Sci-Fi  \\\n",
       "count  1.000209e+06  1.000209e+06  1.000209e+06  1.000209e+06  1.000209e+06   \n",
       "mean   3.565055e-01  2.574032e-01  1.339250e-01  3.629341e-02  1.572611e-01   \n",
       "std    4.789672e-01  4.372036e-01  3.405719e-01  1.870194e-01  3.640470e-01   \n",
       "min    0.000000e+00  0.000000e+00  0.000000e+00  0.000000e+00  0.000000e+00   \n",
       "25%    0.000000e+00  0.000000e+00  0.000000e+00  0.000000e+00  0.000000e+00   \n",
       "50%    0.000000e+00  0.000000e+00  0.000000e+00  0.000000e+00  0.000000e+00   \n",
       "75%    1.000000e+00  1.000000e+00  0.000000e+00  0.000000e+00  0.000000e+00   \n",
       "max    1.000000e+00  1.000000e+00  1.000000e+00  1.000000e+00  1.000000e+00   \n",
       "\n",
       "                War      Thriller         Crime       Mystery       Western  \\\n",
       "count  1.000209e+06  1.000209e+06  1.000209e+06  1.000209e+06  1.000209e+06   \n",
       "mean   6.851268e-02  1.896404e-01  7.952438e-02  4.016960e-02  2.067868e-02   \n",
       "std    2.526237e-01  3.920166e-01  2.705556e-01  1.963569e-01  1.423063e-01   \n",
       "min    0.000000e+00  0.000000e+00  0.000000e+00  0.000000e+00  0.000000e+00   \n",
       "25%    0.000000e+00  0.000000e+00  0.000000e+00  0.000000e+00  0.000000e+00   \n",
       "50%    0.000000e+00  0.000000e+00  0.000000e+00  0.000000e+00  0.000000e+00   \n",
       "75%    0.000000e+00  0.000000e+00  0.000000e+00  0.000000e+00  0.000000e+00   \n",
       "max    1.000000e+00  1.000000e+00  1.000000e+00  1.000000e+00  1.000000e+00   \n",
       "\n",
       "             Horror     Film-Noir   Documentary  \n",
       "count  1.000209e+06  1.000209e+06  1.000209e+06  \n",
       "mean   7.637004e-02  1.825718e-02  7.908347e-03  \n",
       "std    2.655894e-01  1.338801e-01  8.857659e-02  \n",
       "min    0.000000e+00  0.000000e+00  0.000000e+00  \n",
       "25%    0.000000e+00  0.000000e+00  0.000000e+00  \n",
       "50%    0.000000e+00  0.000000e+00  0.000000e+00  \n",
       "75%    0.000000e+00  0.000000e+00  0.000000e+00  \n",
       "max    1.000000e+00  1.000000e+00  1.000000e+00  "
      ]
     },
     "execution_count": 57,
     "metadata": {},
     "output_type": "execute_result"
    }
   ],
   "source": [
    "df_genres_movies.describe()"
   ]
  },
  {
   "cell_type": "code",
   "execution_count": 58,
   "id": "8e1aedd3",
   "metadata": {
    "id": "8e1aedd3"
   },
   "outputs": [],
   "source": [
    "df_genres_movies[\"Ratings\"]= data_to_train[\"Ratings\"]\n",
    "df_genres_movies[\"Age\"]= data_to_train[\"Age\"]\n",
    "df_genres_movies[\"Gender\"]= data_to_train[\"Gender\"]\n",
    "df_genres_movies[\"Ocupation\"]= data_to_train[\"Ocupation\"]\n"
   ]
  },
  {
   "cell_type": "code",
   "execution_count": 59,
   "id": "29f4ea97",
   "metadata": {
    "id": "29f4ea97",
    "outputId": "3b2d6e5d-ed00-440b-b15c-b2f83e3c558b"
   },
   "outputs": [
    {
     "data": {
      "text/html": [
       "<div>\n",
       "<style scoped>\n",
       "    .dataframe tbody tr th:only-of-type {\n",
       "        vertical-align: middle;\n",
       "    }\n",
       "\n",
       "    .dataframe tbody tr th {\n",
       "        vertical-align: top;\n",
       "    }\n",
       "\n",
       "    .dataframe thead th {\n",
       "        text-align: right;\n",
       "    }\n",
       "</style>\n",
       "<table border=\"1\" class=\"dataframe\">\n",
       "  <thead>\n",
       "    <tr style=\"text-align: right;\">\n",
       "      <th></th>\n",
       "      <th>Drama</th>\n",
       "      <th>Animation</th>\n",
       "      <th>Children's</th>\n",
       "      <th>Musical</th>\n",
       "      <th>Romance</th>\n",
       "      <th>Comedy</th>\n",
       "      <th>Action</th>\n",
       "      <th>Adventure</th>\n",
       "      <th>Fantasy</th>\n",
       "      <th>Sci-Fi</th>\n",
       "      <th>...</th>\n",
       "      <th>Crime</th>\n",
       "      <th>Mystery</th>\n",
       "      <th>Western</th>\n",
       "      <th>Horror</th>\n",
       "      <th>Film-Noir</th>\n",
       "      <th>Documentary</th>\n",
       "      <th>Ratings</th>\n",
       "      <th>Age</th>\n",
       "      <th>Gender</th>\n",
       "      <th>Ocupation</th>\n",
       "    </tr>\n",
       "  </thead>\n",
       "  <tbody>\n",
       "    <tr>\n",
       "      <th>0</th>\n",
       "      <td>1</td>\n",
       "      <td>0</td>\n",
       "      <td>0</td>\n",
       "      <td>0</td>\n",
       "      <td>0</td>\n",
       "      <td>0</td>\n",
       "      <td>0</td>\n",
       "      <td>0</td>\n",
       "      <td>0</td>\n",
       "      <td>0</td>\n",
       "      <td>...</td>\n",
       "      <td>0</td>\n",
       "      <td>0</td>\n",
       "      <td>0</td>\n",
       "      <td>0</td>\n",
       "      <td>0</td>\n",
       "      <td>0</td>\n",
       "      <td>5</td>\n",
       "      <td>1</td>\n",
       "      <td>0</td>\n",
       "      <td>10</td>\n",
       "    </tr>\n",
       "    <tr>\n",
       "      <th>1</th>\n",
       "      <td>1</td>\n",
       "      <td>0</td>\n",
       "      <td>0</td>\n",
       "      <td>0</td>\n",
       "      <td>0</td>\n",
       "      <td>0</td>\n",
       "      <td>0</td>\n",
       "      <td>0</td>\n",
       "      <td>0</td>\n",
       "      <td>0</td>\n",
       "      <td>...</td>\n",
       "      <td>0</td>\n",
       "      <td>0</td>\n",
       "      <td>0</td>\n",
       "      <td>0</td>\n",
       "      <td>0</td>\n",
       "      <td>0</td>\n",
       "      <td>5</td>\n",
       "      <td>56</td>\n",
       "      <td>1</td>\n",
       "      <td>16</td>\n",
       "    </tr>\n",
       "    <tr>\n",
       "      <th>2</th>\n",
       "      <td>1</td>\n",
       "      <td>0</td>\n",
       "      <td>0</td>\n",
       "      <td>0</td>\n",
       "      <td>0</td>\n",
       "      <td>0</td>\n",
       "      <td>0</td>\n",
       "      <td>0</td>\n",
       "      <td>0</td>\n",
       "      <td>0</td>\n",
       "      <td>...</td>\n",
       "      <td>0</td>\n",
       "      <td>0</td>\n",
       "      <td>0</td>\n",
       "      <td>0</td>\n",
       "      <td>0</td>\n",
       "      <td>0</td>\n",
       "      <td>4</td>\n",
       "      <td>25</td>\n",
       "      <td>1</td>\n",
       "      <td>12</td>\n",
       "    </tr>\n",
       "    <tr>\n",
       "      <th>3</th>\n",
       "      <td>1</td>\n",
       "      <td>0</td>\n",
       "      <td>0</td>\n",
       "      <td>0</td>\n",
       "      <td>0</td>\n",
       "      <td>0</td>\n",
       "      <td>0</td>\n",
       "      <td>0</td>\n",
       "      <td>0</td>\n",
       "      <td>0</td>\n",
       "      <td>...</td>\n",
       "      <td>0</td>\n",
       "      <td>0</td>\n",
       "      <td>0</td>\n",
       "      <td>0</td>\n",
       "      <td>0</td>\n",
       "      <td>0</td>\n",
       "      <td>4</td>\n",
       "      <td>25</td>\n",
       "      <td>1</td>\n",
       "      <td>7</td>\n",
       "    </tr>\n",
       "    <tr>\n",
       "      <th>4</th>\n",
       "      <td>1</td>\n",
       "      <td>0</td>\n",
       "      <td>0</td>\n",
       "      <td>0</td>\n",
       "      <td>0</td>\n",
       "      <td>0</td>\n",
       "      <td>0</td>\n",
       "      <td>0</td>\n",
       "      <td>0</td>\n",
       "      <td>0</td>\n",
       "      <td>...</td>\n",
       "      <td>0</td>\n",
       "      <td>0</td>\n",
       "      <td>0</td>\n",
       "      <td>0</td>\n",
       "      <td>0</td>\n",
       "      <td>0</td>\n",
       "      <td>5</td>\n",
       "      <td>50</td>\n",
       "      <td>1</td>\n",
       "      <td>1</td>\n",
       "    </tr>\n",
       "  </tbody>\n",
       "</table>\n",
       "<p>5 rows × 22 columns</p>\n",
       "</div>"
      ],
      "text/plain": [
       "   Drama  Animation  Children's  Musical  Romance  Comedy  Action  Adventure  \\\n",
       "0      1          0           0        0        0       0       0          0   \n",
       "1      1          0           0        0        0       0       0          0   \n",
       "2      1          0           0        0        0       0       0          0   \n",
       "3      1          0           0        0        0       0       0          0   \n",
       "4      1          0           0        0        0       0       0          0   \n",
       "\n",
       "   Fantasy  Sci-Fi  ...  Crime  Mystery  Western  Horror  Film-Noir  \\\n",
       "0        0       0  ...      0        0        0       0          0   \n",
       "1        0       0  ...      0        0        0       0          0   \n",
       "2        0       0  ...      0        0        0       0          0   \n",
       "3        0       0  ...      0        0        0       0          0   \n",
       "4        0       0  ...      0        0        0       0          0   \n",
       "\n",
       "   Documentary  Ratings  Age  Gender  Ocupation  \n",
       "0            0        5    1       0         10  \n",
       "1            0        5   56       1         16  \n",
       "2            0        4   25       1         12  \n",
       "3            0        4   25       1          7  \n",
       "4            0        5   50       1          1  \n",
       "\n",
       "[5 rows x 22 columns]"
      ]
     },
     "execution_count": 59,
     "metadata": {},
     "output_type": "execute_result"
    }
   ],
   "source": [
    "df_genres_movies.head()"
   ]
  },
  {
   "cell_type": "code",
   "execution_count": 60,
   "id": "ff898125",
   "metadata": {
    "id": "ff898125",
    "outputId": "84343410-c266-43f9-e54c-dcfc84ed1234"
   },
   "outputs": [
    {
     "data": {
      "text/html": [
       "<div>\n",
       "<style scoped>\n",
       "    .dataframe tbody tr th:only-of-type {\n",
       "        vertical-align: middle;\n",
       "    }\n",
       "\n",
       "    .dataframe tbody tr th {\n",
       "        vertical-align: top;\n",
       "    }\n",
       "\n",
       "    .dataframe thead th {\n",
       "        text-align: right;\n",
       "    }\n",
       "</style>\n",
       "<table border=\"1\" class=\"dataframe\">\n",
       "  <thead>\n",
       "    <tr style=\"text-align: right;\">\n",
       "      <th></th>\n",
       "      <th>Drama</th>\n",
       "      <th>Animation</th>\n",
       "      <th>Children's</th>\n",
       "      <th>Musical</th>\n",
       "      <th>Romance</th>\n",
       "      <th>Comedy</th>\n",
       "      <th>Action</th>\n",
       "      <th>Adventure</th>\n",
       "      <th>Fantasy</th>\n",
       "      <th>Sci-Fi</th>\n",
       "      <th>...</th>\n",
       "      <th>Crime</th>\n",
       "      <th>Mystery</th>\n",
       "      <th>Western</th>\n",
       "      <th>Horror</th>\n",
       "      <th>Film-Noir</th>\n",
       "      <th>Documentary</th>\n",
       "      <th>Ratings</th>\n",
       "      <th>Age</th>\n",
       "      <th>Gender</th>\n",
       "      <th>Ocupation</th>\n",
       "    </tr>\n",
       "  </thead>\n",
       "  <tbody>\n",
       "    <tr>\n",
       "      <th>count</th>\n",
       "      <td>1.000209e+06</td>\n",
       "      <td>1.000209e+06</td>\n",
       "      <td>1.000209e+06</td>\n",
       "      <td>1.000209e+06</td>\n",
       "      <td>1.000209e+06</td>\n",
       "      <td>1.000209e+06</td>\n",
       "      <td>1.000209e+06</td>\n",
       "      <td>1.000209e+06</td>\n",
       "      <td>1.000209e+06</td>\n",
       "      <td>1.000209e+06</td>\n",
       "      <td>...</td>\n",
       "      <td>1.000209e+06</td>\n",
       "      <td>1.000209e+06</td>\n",
       "      <td>1.000209e+06</td>\n",
       "      <td>1.000209e+06</td>\n",
       "      <td>1.000209e+06</td>\n",
       "      <td>1.000209e+06</td>\n",
       "      <td>1.000209e+06</td>\n",
       "      <td>1.000209e+06</td>\n",
       "      <td>1.000209e+06</td>\n",
       "      <td>1.000209e+06</td>\n",
       "    </tr>\n",
       "    <tr>\n",
       "      <th>mean</th>\n",
       "      <td>3.544549e-01</td>\n",
       "      <td>4.328395e-02</td>\n",
       "      <td>7.217092e-02</td>\n",
       "      <td>4.152432e-02</td>\n",
       "      <td>1.474922e-01</td>\n",
       "      <td>3.565055e-01</td>\n",
       "      <td>2.574032e-01</td>\n",
       "      <td>1.339250e-01</td>\n",
       "      <td>3.629341e-02</td>\n",
       "      <td>1.572611e-01</td>\n",
       "      <td>...</td>\n",
       "      <td>7.952438e-02</td>\n",
       "      <td>4.016960e-02</td>\n",
       "      <td>2.067868e-02</td>\n",
       "      <td>7.637004e-02</td>\n",
       "      <td>1.825718e-02</td>\n",
       "      <td>7.908347e-03</td>\n",
       "      <td>3.581564e+00</td>\n",
       "      <td>2.973831e+01</td>\n",
       "      <td>7.536115e-01</td>\n",
       "      <td>8.036138e+00</td>\n",
       "    </tr>\n",
       "    <tr>\n",
       "      <th>std</th>\n",
       "      <td>4.783481e-01</td>\n",
       "      <td>2.034957e-01</td>\n",
       "      <td>2.587708e-01</td>\n",
       "      <td>1.994996e-01</td>\n",
       "      <td>3.545960e-01</td>\n",
       "      <td>4.789672e-01</td>\n",
       "      <td>4.372036e-01</td>\n",
       "      <td>3.405719e-01</td>\n",
       "      <td>1.870194e-01</td>\n",
       "      <td>3.640470e-01</td>\n",
       "      <td>...</td>\n",
       "      <td>2.705556e-01</td>\n",
       "      <td>1.963569e-01</td>\n",
       "      <td>1.423063e-01</td>\n",
       "      <td>2.655894e-01</td>\n",
       "      <td>1.338801e-01</td>\n",
       "      <td>8.857659e-02</td>\n",
       "      <td>1.117102e+00</td>\n",
       "      <td>1.175198e+01</td>\n",
       "      <td>4.309076e-01</td>\n",
       "      <td>6.531336e+00</td>\n",
       "    </tr>\n",
       "    <tr>\n",
       "      <th>min</th>\n",
       "      <td>0.000000e+00</td>\n",
       "      <td>0.000000e+00</td>\n",
       "      <td>0.000000e+00</td>\n",
       "      <td>0.000000e+00</td>\n",
       "      <td>0.000000e+00</td>\n",
       "      <td>0.000000e+00</td>\n",
       "      <td>0.000000e+00</td>\n",
       "      <td>0.000000e+00</td>\n",
       "      <td>0.000000e+00</td>\n",
       "      <td>0.000000e+00</td>\n",
       "      <td>...</td>\n",
       "      <td>0.000000e+00</td>\n",
       "      <td>0.000000e+00</td>\n",
       "      <td>0.000000e+00</td>\n",
       "      <td>0.000000e+00</td>\n",
       "      <td>0.000000e+00</td>\n",
       "      <td>0.000000e+00</td>\n",
       "      <td>1.000000e+00</td>\n",
       "      <td>1.000000e+00</td>\n",
       "      <td>0.000000e+00</td>\n",
       "      <td>0.000000e+00</td>\n",
       "    </tr>\n",
       "    <tr>\n",
       "      <th>25%</th>\n",
       "      <td>0.000000e+00</td>\n",
       "      <td>0.000000e+00</td>\n",
       "      <td>0.000000e+00</td>\n",
       "      <td>0.000000e+00</td>\n",
       "      <td>0.000000e+00</td>\n",
       "      <td>0.000000e+00</td>\n",
       "      <td>0.000000e+00</td>\n",
       "      <td>0.000000e+00</td>\n",
       "      <td>0.000000e+00</td>\n",
       "      <td>0.000000e+00</td>\n",
       "      <td>...</td>\n",
       "      <td>0.000000e+00</td>\n",
       "      <td>0.000000e+00</td>\n",
       "      <td>0.000000e+00</td>\n",
       "      <td>0.000000e+00</td>\n",
       "      <td>0.000000e+00</td>\n",
       "      <td>0.000000e+00</td>\n",
       "      <td>3.000000e+00</td>\n",
       "      <td>2.500000e+01</td>\n",
       "      <td>1.000000e+00</td>\n",
       "      <td>2.000000e+00</td>\n",
       "    </tr>\n",
       "    <tr>\n",
       "      <th>50%</th>\n",
       "      <td>0.000000e+00</td>\n",
       "      <td>0.000000e+00</td>\n",
       "      <td>0.000000e+00</td>\n",
       "      <td>0.000000e+00</td>\n",
       "      <td>0.000000e+00</td>\n",
       "      <td>0.000000e+00</td>\n",
       "      <td>0.000000e+00</td>\n",
       "      <td>0.000000e+00</td>\n",
       "      <td>0.000000e+00</td>\n",
       "      <td>0.000000e+00</td>\n",
       "      <td>...</td>\n",
       "      <td>0.000000e+00</td>\n",
       "      <td>0.000000e+00</td>\n",
       "      <td>0.000000e+00</td>\n",
       "      <td>0.000000e+00</td>\n",
       "      <td>0.000000e+00</td>\n",
       "      <td>0.000000e+00</td>\n",
       "      <td>4.000000e+00</td>\n",
       "      <td>2.500000e+01</td>\n",
       "      <td>1.000000e+00</td>\n",
       "      <td>7.000000e+00</td>\n",
       "    </tr>\n",
       "    <tr>\n",
       "      <th>75%</th>\n",
       "      <td>1.000000e+00</td>\n",
       "      <td>0.000000e+00</td>\n",
       "      <td>0.000000e+00</td>\n",
       "      <td>0.000000e+00</td>\n",
       "      <td>0.000000e+00</td>\n",
       "      <td>1.000000e+00</td>\n",
       "      <td>1.000000e+00</td>\n",
       "      <td>0.000000e+00</td>\n",
       "      <td>0.000000e+00</td>\n",
       "      <td>0.000000e+00</td>\n",
       "      <td>...</td>\n",
       "      <td>0.000000e+00</td>\n",
       "      <td>0.000000e+00</td>\n",
       "      <td>0.000000e+00</td>\n",
       "      <td>0.000000e+00</td>\n",
       "      <td>0.000000e+00</td>\n",
       "      <td>0.000000e+00</td>\n",
       "      <td>4.000000e+00</td>\n",
       "      <td>3.500000e+01</td>\n",
       "      <td>1.000000e+00</td>\n",
       "      <td>1.400000e+01</td>\n",
       "    </tr>\n",
       "    <tr>\n",
       "      <th>max</th>\n",
       "      <td>1.000000e+00</td>\n",
       "      <td>1.000000e+00</td>\n",
       "      <td>1.000000e+00</td>\n",
       "      <td>1.000000e+00</td>\n",
       "      <td>1.000000e+00</td>\n",
       "      <td>1.000000e+00</td>\n",
       "      <td>1.000000e+00</td>\n",
       "      <td>1.000000e+00</td>\n",
       "      <td>1.000000e+00</td>\n",
       "      <td>1.000000e+00</td>\n",
       "      <td>...</td>\n",
       "      <td>1.000000e+00</td>\n",
       "      <td>1.000000e+00</td>\n",
       "      <td>1.000000e+00</td>\n",
       "      <td>1.000000e+00</td>\n",
       "      <td>1.000000e+00</td>\n",
       "      <td>1.000000e+00</td>\n",
       "      <td>5.000000e+00</td>\n",
       "      <td>5.600000e+01</td>\n",
       "      <td>1.000000e+00</td>\n",
       "      <td>2.000000e+01</td>\n",
       "    </tr>\n",
       "  </tbody>\n",
       "</table>\n",
       "<p>8 rows × 22 columns</p>\n",
       "</div>"
      ],
      "text/plain": [
       "              Drama     Animation    Children's       Musical       Romance  \\\n",
       "count  1.000209e+06  1.000209e+06  1.000209e+06  1.000209e+06  1.000209e+06   \n",
       "mean   3.544549e-01  4.328395e-02  7.217092e-02  4.152432e-02  1.474922e-01   \n",
       "std    4.783481e-01  2.034957e-01  2.587708e-01  1.994996e-01  3.545960e-01   \n",
       "min    0.000000e+00  0.000000e+00  0.000000e+00  0.000000e+00  0.000000e+00   \n",
       "25%    0.000000e+00  0.000000e+00  0.000000e+00  0.000000e+00  0.000000e+00   \n",
       "50%    0.000000e+00  0.000000e+00  0.000000e+00  0.000000e+00  0.000000e+00   \n",
       "75%    1.000000e+00  0.000000e+00  0.000000e+00  0.000000e+00  0.000000e+00   \n",
       "max    1.000000e+00  1.000000e+00  1.000000e+00  1.000000e+00  1.000000e+00   \n",
       "\n",
       "             Comedy        Action     Adventure       Fantasy        Sci-Fi  \\\n",
       "count  1.000209e+06  1.000209e+06  1.000209e+06  1.000209e+06  1.000209e+06   \n",
       "mean   3.565055e-01  2.574032e-01  1.339250e-01  3.629341e-02  1.572611e-01   \n",
       "std    4.789672e-01  4.372036e-01  3.405719e-01  1.870194e-01  3.640470e-01   \n",
       "min    0.000000e+00  0.000000e+00  0.000000e+00  0.000000e+00  0.000000e+00   \n",
       "25%    0.000000e+00  0.000000e+00  0.000000e+00  0.000000e+00  0.000000e+00   \n",
       "50%    0.000000e+00  0.000000e+00  0.000000e+00  0.000000e+00  0.000000e+00   \n",
       "75%    1.000000e+00  1.000000e+00  0.000000e+00  0.000000e+00  0.000000e+00   \n",
       "max    1.000000e+00  1.000000e+00  1.000000e+00  1.000000e+00  1.000000e+00   \n",
       "\n",
       "       ...         Crime       Mystery       Western        Horror  \\\n",
       "count  ...  1.000209e+06  1.000209e+06  1.000209e+06  1.000209e+06   \n",
       "mean   ...  7.952438e-02  4.016960e-02  2.067868e-02  7.637004e-02   \n",
       "std    ...  2.705556e-01  1.963569e-01  1.423063e-01  2.655894e-01   \n",
       "min    ...  0.000000e+00  0.000000e+00  0.000000e+00  0.000000e+00   \n",
       "25%    ...  0.000000e+00  0.000000e+00  0.000000e+00  0.000000e+00   \n",
       "50%    ...  0.000000e+00  0.000000e+00  0.000000e+00  0.000000e+00   \n",
       "75%    ...  0.000000e+00  0.000000e+00  0.000000e+00  0.000000e+00   \n",
       "max    ...  1.000000e+00  1.000000e+00  1.000000e+00  1.000000e+00   \n",
       "\n",
       "          Film-Noir   Documentary       Ratings           Age        Gender  \\\n",
       "count  1.000209e+06  1.000209e+06  1.000209e+06  1.000209e+06  1.000209e+06   \n",
       "mean   1.825718e-02  7.908347e-03  3.581564e+00  2.973831e+01  7.536115e-01   \n",
       "std    1.338801e-01  8.857659e-02  1.117102e+00  1.175198e+01  4.309076e-01   \n",
       "min    0.000000e+00  0.000000e+00  1.000000e+00  1.000000e+00  0.000000e+00   \n",
       "25%    0.000000e+00  0.000000e+00  3.000000e+00  2.500000e+01  1.000000e+00   \n",
       "50%    0.000000e+00  0.000000e+00  4.000000e+00  2.500000e+01  1.000000e+00   \n",
       "75%    0.000000e+00  0.000000e+00  4.000000e+00  3.500000e+01  1.000000e+00   \n",
       "max    1.000000e+00  1.000000e+00  5.000000e+00  5.600000e+01  1.000000e+00   \n",
       "\n",
       "          Ocupation  \n",
       "count  1.000209e+06  \n",
       "mean   8.036138e+00  \n",
       "std    6.531336e+00  \n",
       "min    0.000000e+00  \n",
       "25%    2.000000e+00  \n",
       "50%    7.000000e+00  \n",
       "75%    1.400000e+01  \n",
       "max    2.000000e+01  \n",
       "\n",
       "[8 rows x 22 columns]"
      ]
     },
     "execution_count": 60,
     "metadata": {},
     "output_type": "execute_result"
    }
   ],
   "source": [
    "df_genres_movies.describe()"
   ]
  },
  {
   "cell_type": "markdown",
   "id": "81957408",
   "metadata": {
    "id": "81957408"
   },
   "source": [
    "<h3>Normalizacion Datos Finales</h3>\n",
    "Recopilar Almacenar y Filtrar"
   ]
  },
  {
   "cell_type": "code",
   "execution_count": 61,
   "id": "6baaa09e",
   "metadata": {
    "id": "6baaa09e"
   },
   "outputs": [],
   "source": [
    "gkk_drama = df_genres_movies.groupby([\"Age\",\"Ratings\"])[\"Drama\"].sum()\n"
   ]
  },
  {
   "cell_type": "code",
   "execution_count": 62,
   "id": "23bd13fe",
   "metadata": {
    "id": "23bd13fe",
    "outputId": "7bb18a4e-216d-41aa-b7eb-1be038232540"
   },
   "outputs": [
    {
     "data": {
      "text/plain": [
       "<AxesSubplot:xlabel='Age,Ratings'>"
      ]
     },
     "execution_count": 62,
     "metadata": {},
     "output_type": "execute_result"
    },
    {
     "data": {
      "image/png": "[encoded data removed]",
      "text/plain": [
       "<Figure size 1296x432 with 1 Axes>"
      ]
     },
     "metadata": {
      "needs_background": "light"
     },
     "output_type": "display_data"
    }
   ],
   "source": [
    "plt.figure(figsize=(18,6))\n",
    "gkk_drama.plot.bar()"
   ]
  },
  {
   "cell_type": "code",
   "execution_count": 63,
   "id": "6ac9ad80",
   "metadata": {
    "id": "6ac9ad80"
   },
   "outputs": [],
   "source": [
    "gkk_animation = df_genres_movies.groupby([\"Age\",\"Ratings\"])[\"Animation\"].sum()"
   ]
  },
  {
   "cell_type": "code",
   "execution_count": 64,
   "id": "ea40cc16",
   "metadata": {
    "id": "ea40cc16"
   },
   "outputs": [],
   "source": [
    "#gkk_animation"
   ]
  },
  {
   "cell_type": "code",
   "execution_count": 65,
   "id": "7463ad10",
   "metadata": {
    "id": "7463ad10",
    "outputId": "a140b21e-28b2-4831-e8a3-940fac131a52"
   },
   "outputs": [
    {
     "data": {
      "text/plain": [
       "<AxesSubplot:xlabel='Age,Ratings'>"
      ]
     },
     "execution_count": 65,
     "metadata": {},
     "output_type": "execute_result"
    },
    {
     "data": {
      "image/png": "[encoded data removed]",
      "text/plain": [
       "<Figure size 1296x432 with 1 Axes>"
      ]
     },
     "metadata": {
      "needs_background": "light"
     },
     "output_type": "display_data"
    }
   ],
   "source": [
    "plt.figure(figsize=(18,6))\n",
    "gkk_animation.plot.bar()"
   ]
  },
  {
   "cell_type": "code",
   "execution_count": 66,
   "id": "a3f8ada4",
   "metadata": {
    "id": "a3f8ada4"
   },
   "outputs": [],
   "source": [
    "gkk_children = df_genres_movies.groupby([\"Age\",\"Ratings\"])[\"Children's\"].sum()"
   ]
  },
  {
   "cell_type": "code",
   "execution_count": 67,
   "id": "ad0e9f5c",
   "metadata": {
    "id": "ad0e9f5c",
    "outputId": "53e17127-571d-477a-f20e-26eaf679fa35"
   },
   "outputs": [
    {
     "data": {
      "text/plain": [
       "<AxesSubplot:xlabel='Age,Ratings'>"
      ]
     },
     "execution_count": 67,
     "metadata": {},
     "output_type": "execute_result"
    },
    {
     "data": {
      "image/png": "[encoded data removed]",
      "text/plain": [
       "<Figure size 1296x432 with 1 Axes>"
      ]
     },
     "metadata": {
      "needs_background": "light"
     },
     "output_type": "display_data"
    }
   ],
   "source": [
    "plt.figure(figsize=(18,6))\n",
    "gkk_children.plot.bar()"
   ]
  },
  {
   "cell_type": "code",
   "execution_count": 68,
   "id": "34865166",
   "metadata": {
    "id": "34865166"
   },
   "outputs": [],
   "source": [
    "gkk_musical = df_genres_movies.groupby([\"Age\",\"Ratings\"]).sum()[\"Musical\"]"
   ]
  },
  {
   "cell_type": "code",
   "execution_count": 69,
   "id": "40bae7d9",
   "metadata": {
    "id": "40bae7d9",
    "outputId": "efdb35c6-2018-4313-e0c7-1de615e7b7b5"
   },
   "outputs": [
    {
     "data": {
      "text/plain": [
       "<AxesSubplot:xlabel='Age,Ratings'>"
      ]
     },
     "execution_count": 69,
     "metadata": {},
     "output_type": "execute_result"
    },
    {
     "data": {
      "image/png": "[encoded data removed]",
      "text/plain": [
       "<Figure size 1296x432 with 1 Axes>"
      ]
     },
     "metadata": {
      "needs_background": "light"
     },
     "output_type": "display_data"
    }
   ],
   "source": [
    "plt.figure(figsize=(18,6))\n",
    "gkk_musical.plot.bar()"
   ]
  },
  {
   "cell_type": "code",
   "execution_count": 70,
   "id": "6728ce2b",
   "metadata": {
    "id": "6728ce2b"
   },
   "outputs": [],
   "source": [
    "gkk_horror = df_genres_movies.groupby([\"Age\",\"Ratings\"]).sum()[\"Horror\"]"
   ]
  },
  {
   "cell_type": "code",
   "execution_count": 71,
   "id": "09c9ce07",
   "metadata": {
    "id": "09c9ce07",
    "outputId": "68c4905a-dd83-49c9-f1ce-0282df2c2ccf"
   },
   "outputs": [
    {
     "data": {
      "text/plain": [
       "<AxesSubplot:xlabel='Age,Ratings'>"
      ]
     },
     "execution_count": 71,
     "metadata": {},
     "output_type": "execute_result"
    },
    {
     "data": {
      "image/png": "[encoded data removed]",
      "text/plain": [
       "<Figure size 1296x432 with 1 Axes>"
      ]
     },
     "metadata": {
      "needs_background": "light"
     },
     "output_type": "display_data"
    }
   ],
   "source": [
    "plt.figure(figsize=(18,6))\n",
    "gkk_musical.plot.bar()"
   ]
  },
  {
   "cell_type": "code",
   "execution_count": 72,
   "id": "f508881d",
   "metadata": {
    "id": "f508881d",
    "outputId": "72582f73-2610-4ae1-870a-d0a8370db635"
   },
   "outputs": [
    {
     "data": {
      "text/html": [
       "<div>\n",
       "<style scoped>\n",
       "    .dataframe tbody tr th:only-of-type {\n",
       "        vertical-align: middle;\n",
       "    }\n",
       "\n",
       "    .dataframe tbody tr th {\n",
       "        vertical-align: top;\n",
       "    }\n",
       "\n",
       "    .dataframe thead th {\n",
       "        text-align: right;\n",
       "    }\n",
       "</style>\n",
       "<table border=\"1\" class=\"dataframe\">\n",
       "  <thead>\n",
       "    <tr style=\"text-align: right;\">\n",
       "      <th></th>\n",
       "      <th>Age</th>\n",
       "      <th>Ratings</th>\n",
       "    </tr>\n",
       "  </thead>\n",
       "  <tbody>\n",
       "    <tr>\n",
       "      <th>0</th>\n",
       "      <td>1</td>\n",
       "      <td>27211</td>\n",
       "    </tr>\n",
       "    <tr>\n",
       "      <th>1</th>\n",
       "      <td>18</td>\n",
       "      <td>183536</td>\n",
       "    </tr>\n",
       "    <tr>\n",
       "      <th>2</th>\n",
       "      <td>25</td>\n",
       "      <td>395556</td>\n",
       "    </tr>\n",
       "    <tr>\n",
       "      <th>3</th>\n",
       "      <td>35</td>\n",
       "      <td>199003</td>\n",
       "    </tr>\n",
       "    <tr>\n",
       "      <th>4</th>\n",
       "      <td>45</td>\n",
       "      <td>83633</td>\n",
       "    </tr>\n",
       "  </tbody>\n",
       "</table>\n",
       "</div>"
      ],
      "text/plain": [
       "   Age  Ratings\n",
       "0    1    27211\n",
       "1   18   183536\n",
       "2   25   395556\n",
       "3   35   199003\n",
       "4   45    83633"
      ]
     },
     "execution_count": 72,
     "metadata": {},
     "output_type": "execute_result"
    }
   ],
   "source": [
    "gkk_action= df_genres_movies[[\"Age\",\"Ratings\"]].groupby(\"Age\").count().reset_index()\n",
    "gkk_action.columns=[\"Age\",\"Ratings\"]\n",
    "gkk_action.head()"
   ]
  },
  {
   "cell_type": "code",
   "execution_count": 73,
   "id": "3598dde9",
   "metadata": {
    "id": "3598dde9",
    "outputId": "47dfc3d5-ebb5-4145-cccc-152a97f1bbca"
   },
   "outputs": [
    {
     "data": {
      "text/html": [
       "<div>\n",
       "<style scoped>\n",
       "    .dataframe tbody tr th:only-of-type {\n",
       "        vertical-align: middle;\n",
       "    }\n",
       "\n",
       "    .dataframe tbody tr th {\n",
       "        vertical-align: top;\n",
       "    }\n",
       "\n",
       "    .dataframe thead th {\n",
       "        text-align: right;\n",
       "    }\n",
       "</style>\n",
       "<table border=\"1\" class=\"dataframe\">\n",
       "  <thead>\n",
       "    <tr style=\"text-align: right;\">\n",
       "      <th></th>\n",
       "      <th>Drama</th>\n",
       "      <th>Animation</th>\n",
       "      <th>Children's</th>\n",
       "      <th>Musical</th>\n",
       "      <th>Romance</th>\n",
       "      <th>Comedy</th>\n",
       "      <th>Action</th>\n",
       "      <th>Adventure</th>\n",
       "      <th>Fantasy</th>\n",
       "      <th>Sci-Fi</th>\n",
       "      <th>...</th>\n",
       "      <th>Crime</th>\n",
       "      <th>Mystery</th>\n",
       "      <th>Western</th>\n",
       "      <th>Horror</th>\n",
       "      <th>Film-Noir</th>\n",
       "      <th>Documentary</th>\n",
       "      <th>Ratings</th>\n",
       "      <th>Age</th>\n",
       "      <th>Gender</th>\n",
       "      <th>Ocupation</th>\n",
       "    </tr>\n",
       "  </thead>\n",
       "  <tbody>\n",
       "    <tr>\n",
       "      <th>0</th>\n",
       "      <td>1</td>\n",
       "      <td>0</td>\n",
       "      <td>0</td>\n",
       "      <td>0</td>\n",
       "      <td>0</td>\n",
       "      <td>0</td>\n",
       "      <td>0</td>\n",
       "      <td>0</td>\n",
       "      <td>0</td>\n",
       "      <td>0</td>\n",
       "      <td>...</td>\n",
       "      <td>0</td>\n",
       "      <td>0</td>\n",
       "      <td>0</td>\n",
       "      <td>0</td>\n",
       "      <td>0</td>\n",
       "      <td>0</td>\n",
       "      <td>5</td>\n",
       "      <td>1</td>\n",
       "      <td>0</td>\n",
       "      <td>10</td>\n",
       "    </tr>\n",
       "    <tr>\n",
       "      <th>1</th>\n",
       "      <td>1</td>\n",
       "      <td>0</td>\n",
       "      <td>0</td>\n",
       "      <td>0</td>\n",
       "      <td>0</td>\n",
       "      <td>0</td>\n",
       "      <td>0</td>\n",
       "      <td>0</td>\n",
       "      <td>0</td>\n",
       "      <td>0</td>\n",
       "      <td>...</td>\n",
       "      <td>0</td>\n",
       "      <td>0</td>\n",
       "      <td>0</td>\n",
       "      <td>0</td>\n",
       "      <td>0</td>\n",
       "      <td>0</td>\n",
       "      <td>5</td>\n",
       "      <td>56</td>\n",
       "      <td>1</td>\n",
       "      <td>16</td>\n",
       "    </tr>\n",
       "    <tr>\n",
       "      <th>2</th>\n",
       "      <td>1</td>\n",
       "      <td>0</td>\n",
       "      <td>0</td>\n",
       "      <td>0</td>\n",
       "      <td>0</td>\n",
       "      <td>0</td>\n",
       "      <td>0</td>\n",
       "      <td>0</td>\n",
       "      <td>0</td>\n",
       "      <td>0</td>\n",
       "      <td>...</td>\n",
       "      <td>0</td>\n",
       "      <td>0</td>\n",
       "      <td>0</td>\n",
       "      <td>0</td>\n",
       "      <td>0</td>\n",
       "      <td>0</td>\n",
       "      <td>4</td>\n",
       "      <td>25</td>\n",
       "      <td>1</td>\n",
       "      <td>12</td>\n",
       "    </tr>\n",
       "    <tr>\n",
       "      <th>3</th>\n",
       "      <td>1</td>\n",
       "      <td>0</td>\n",
       "      <td>0</td>\n",
       "      <td>0</td>\n",
       "      <td>0</td>\n",
       "      <td>0</td>\n",
       "      <td>0</td>\n",
       "      <td>0</td>\n",
       "      <td>0</td>\n",
       "      <td>0</td>\n",
       "      <td>...</td>\n",
       "      <td>0</td>\n",
       "      <td>0</td>\n",
       "      <td>0</td>\n",
       "      <td>0</td>\n",
       "      <td>0</td>\n",
       "      <td>0</td>\n",
       "      <td>4</td>\n",
       "      <td>25</td>\n",
       "      <td>1</td>\n",
       "      <td>7</td>\n",
       "    </tr>\n",
       "    <tr>\n",
       "      <th>4</th>\n",
       "      <td>1</td>\n",
       "      <td>0</td>\n",
       "      <td>0</td>\n",
       "      <td>0</td>\n",
       "      <td>0</td>\n",
       "      <td>0</td>\n",
       "      <td>0</td>\n",
       "      <td>0</td>\n",
       "      <td>0</td>\n",
       "      <td>0</td>\n",
       "      <td>...</td>\n",
       "      <td>0</td>\n",
       "      <td>0</td>\n",
       "      <td>0</td>\n",
       "      <td>0</td>\n",
       "      <td>0</td>\n",
       "      <td>0</td>\n",
       "      <td>5</td>\n",
       "      <td>50</td>\n",
       "      <td>1</td>\n",
       "      <td>1</td>\n",
       "    </tr>\n",
       "  </tbody>\n",
       "</table>\n",
       "<p>5 rows × 22 columns</p>\n",
       "</div>"
      ],
      "text/plain": [
       "   Drama  Animation  Children's  Musical  Romance  Comedy  Action  Adventure  \\\n",
       "0      1          0           0        0        0       0       0          0   \n",
       "1      1          0           0        0        0       0       0          0   \n",
       "2      1          0           0        0        0       0       0          0   \n",
       "3      1          0           0        0        0       0       0          0   \n",
       "4      1          0           0        0        0       0       0          0   \n",
       "\n",
       "   Fantasy  Sci-Fi  ...  Crime  Mystery  Western  Horror  Film-Noir  \\\n",
       "0        0       0  ...      0        0        0       0          0   \n",
       "1        0       0  ...      0        0        0       0          0   \n",
       "2        0       0  ...      0        0        0       0          0   \n",
       "3        0       0  ...      0        0        0       0          0   \n",
       "4        0       0  ...      0        0        0       0          0   \n",
       "\n",
       "   Documentary  Ratings  Age  Gender  Ocupation  \n",
       "0            0        5    1       0         10  \n",
       "1            0        5   56       1         16  \n",
       "2            0        4   25       1         12  \n",
       "3            0        4   25       1          7  \n",
       "4            0        5   50       1          1  \n",
       "\n",
       "[5 rows x 22 columns]"
      ]
     },
     "execution_count": 73,
     "metadata": {},
     "output_type": "execute_result"
    }
   ],
   "source": [
    "df_genres_movies.head()"
   ]
  },
  {
   "cell_type": "markdown",
   "id": "b61744c4",
   "metadata": {},
   "source": [
    "* Se guarda el archivo con extencion csv para futuros analisis"
   ]
  },
  {
   "cell_type": "code",
   "execution_count": 74,
   "id": "af6bc115",
   "metadata": {},
   "outputs": [],
   "source": [
    "df_genres_movies.to_csv(r\"Datasets/exports/total_data_norm_genres_movies.csv\",index=False)"
   ]
  },
  {
   "cell_type": "markdown",
   "id": "f4a12e28",
   "metadata": {
    "id": "f4a12e28"
   },
   "source": [
    "**CONCLUSIONES**\n",
    "* El dataset cuenta con 18 generos de peliculas diferentes."
   ]
  },
  {
   "cell_type": "markdown",
   "id": "f3335c54",
   "metadata": {
    "id": "f3335c54"
   },
   "source": [
    "---"
   ]
  },
  {
   "cell_type": "markdown",
   "id": "9d1e3565",
   "metadata": {
    "id": "9d1e3565"
   },
   "source": [
    "<h1>Tecnica : Filtro Colaborativo</h1>"
   ]
  },
  {
   "cell_type": "code",
   "execution_count": 75,
   "id": "1891c60b",
   "metadata": {
    "id": "1891c60b",
    "outputId": "395b5787-dd2b-49e9-ede5-059121cfc16f"
   },
   "outputs": [
    {
     "data": {
      "text/html": [
       "<div>\n",
       "<style scoped>\n",
       "    .dataframe tbody tr th:only-of-type {\n",
       "        vertical-align: middle;\n",
       "    }\n",
       "\n",
       "    .dataframe tbody tr th {\n",
       "        vertical-align: top;\n",
       "    }\n",
       "\n",
       "    .dataframe thead th {\n",
       "        text-align: right;\n",
       "    }\n",
       "</style>\n",
       "<table border=\"1\" class=\"dataframe\">\n",
       "  <thead>\n",
       "    <tr style=\"text-align: right;\">\n",
       "      <th></th>\n",
       "      <th>UserID</th>\n",
       "      <th>MovieID</th>\n",
       "      <th>Ratings</th>\n",
       "      <th>Timestamp</th>\n",
       "      <th>Gender</th>\n",
       "      <th>Age</th>\n",
       "      <th>Ocupation</th>\n",
       "      <th>Zip_Code</th>\n",
       "      <th>Title</th>\n",
       "      <th>Genres</th>\n",
       "    </tr>\n",
       "  </thead>\n",
       "  <tbody>\n",
       "    <tr>\n",
       "      <th>0</th>\n",
       "      <td>1</td>\n",
       "      <td>1193</td>\n",
       "      <td>5</td>\n",
       "      <td>978300760</td>\n",
       "      <td>F</td>\n",
       "      <td>1</td>\n",
       "      <td>10</td>\n",
       "      <td>48067</td>\n",
       "      <td>One Flew Over the Cuckoo's Nest (1975)</td>\n",
       "      <td>Drama</td>\n",
       "    </tr>\n",
       "    <tr>\n",
       "      <th>1</th>\n",
       "      <td>2</td>\n",
       "      <td>1193</td>\n",
       "      <td>5</td>\n",
       "      <td>978298413</td>\n",
       "      <td>M</td>\n",
       "      <td>56</td>\n",
       "      <td>16</td>\n",
       "      <td>70072</td>\n",
       "      <td>One Flew Over the Cuckoo's Nest (1975)</td>\n",
       "      <td>Drama</td>\n",
       "    </tr>\n",
       "    <tr>\n",
       "      <th>2</th>\n",
       "      <td>12</td>\n",
       "      <td>1193</td>\n",
       "      <td>4</td>\n",
       "      <td>978220179</td>\n",
       "      <td>M</td>\n",
       "      <td>25</td>\n",
       "      <td>12</td>\n",
       "      <td>32793</td>\n",
       "      <td>One Flew Over the Cuckoo's Nest (1975)</td>\n",
       "      <td>Drama</td>\n",
       "    </tr>\n",
       "    <tr>\n",
       "      <th>3</th>\n",
       "      <td>15</td>\n",
       "      <td>1193</td>\n",
       "      <td>4</td>\n",
       "      <td>978199279</td>\n",
       "      <td>M</td>\n",
       "      <td>25</td>\n",
       "      <td>7</td>\n",
       "      <td>22903</td>\n",
       "      <td>One Flew Over the Cuckoo's Nest (1975)</td>\n",
       "      <td>Drama</td>\n",
       "    </tr>\n",
       "    <tr>\n",
       "      <th>4</th>\n",
       "      <td>17</td>\n",
       "      <td>1193</td>\n",
       "      <td>5</td>\n",
       "      <td>978158471</td>\n",
       "      <td>M</td>\n",
       "      <td>50</td>\n",
       "      <td>1</td>\n",
       "      <td>95350</td>\n",
       "      <td>One Flew Over the Cuckoo's Nest (1975)</td>\n",
       "      <td>Drama</td>\n",
       "    </tr>\n",
       "  </tbody>\n",
       "</table>\n",
       "</div>"
      ],
      "text/plain": [
       "   UserID  MovieID  Ratings  Timestamp Gender  Age  Ocupation Zip_Code  \\\n",
       "0       1     1193        5  978300760      F    1         10    48067   \n",
       "1       2     1193        5  978298413      M   56         16    70072   \n",
       "2      12     1193        4  978220179      M   25         12    32793   \n",
       "3      15     1193        4  978199279      M   25          7    22903   \n",
       "4      17     1193        5  978158471      M   50          1    95350   \n",
       "\n",
       "                                    Title Genres  \n",
       "0  One Flew Over the Cuckoo's Nest (1975)  Drama  \n",
       "1  One Flew Over the Cuckoo's Nest (1975)  Drama  \n",
       "2  One Flew Over the Cuckoo's Nest (1975)  Drama  \n",
       "3  One Flew Over the Cuckoo's Nest (1975)  Drama  \n",
       "4  One Flew Over the Cuckoo's Nest (1975)  Drama  "
      ]
     },
     "execution_count": 75,
     "metadata": {},
     "output_type": "execute_result"
    }
   ],
   "source": [
    "total_data.head()"
   ]
  },
  {
   "cell_type": "markdown",
   "id": "4a780285",
   "metadata": {
    "id": "4a780285"
   },
   "source": [
    "Como paso principal se vuelven a tener en cuenta los datos iniciales ya que para la tecnica es importante tener presente el Id de la pelicula, rating y las etiquetas correspondientes"
   ]
  },
  {
   "cell_type": "markdown",
   "id": "107c09d1",
   "metadata": {
    "id": "107c09d1"
   },
   "source": [
    "Al utilizar otra tecnica de ML se debe realizar una nueva exploracion sobre los datos existentes y para ello se deben analizar el Id de usuarios y el Id de las peliculas que figuran como unicos, al igual se tendra en cuenta las tablas ya generadas y normalizadas como data_to_train y df_genres_movies"
   ]
  },
  {
   "cell_type": "code",
   "execution_count": 76,
   "id": "0baac7e1",
   "metadata": {
    "id": "0baac7e1",
    "outputId": "35b34726-2030-415d-bf9a-214fae8a8be2"
   },
   "outputs": [
    {
     "data": {
      "text/html": [
       "<div>\n",
       "<style scoped>\n",
       "    .dataframe tbody tr th:only-of-type {\n",
       "        vertical-align: middle;\n",
       "    }\n",
       "\n",
       "    .dataframe tbody tr th {\n",
       "        vertical-align: top;\n",
       "    }\n",
       "\n",
       "    .dataframe thead th {\n",
       "        text-align: right;\n",
       "    }\n",
       "</style>\n",
       "<table border=\"1\" class=\"dataframe\">\n",
       "  <thead>\n",
       "    <tr style=\"text-align: right;\">\n",
       "      <th></th>\n",
       "      <th>Age</th>\n",
       "      <th>Ratings</th>\n",
       "      <th>Gender</th>\n",
       "      <th>Ocupation</th>\n",
       "      <th>Zip_Code</th>\n",
       "      <th>Genres</th>\n",
       "    </tr>\n",
       "  </thead>\n",
       "  <tbody>\n",
       "    <tr>\n",
       "      <th>0</th>\n",
       "      <td>1</td>\n",
       "      <td>5</td>\n",
       "      <td>0</td>\n",
       "      <td>10</td>\n",
       "      <td>48067</td>\n",
       "      <td>Drama</td>\n",
       "    </tr>\n",
       "    <tr>\n",
       "      <th>1</th>\n",
       "      <td>56</td>\n",
       "      <td>5</td>\n",
       "      <td>1</td>\n",
       "      <td>16</td>\n",
       "      <td>70072</td>\n",
       "      <td>Drama</td>\n",
       "    </tr>\n",
       "    <tr>\n",
       "      <th>2</th>\n",
       "      <td>25</td>\n",
       "      <td>4</td>\n",
       "      <td>1</td>\n",
       "      <td>12</td>\n",
       "      <td>32793</td>\n",
       "      <td>Drama</td>\n",
       "    </tr>\n",
       "    <tr>\n",
       "      <th>3</th>\n",
       "      <td>25</td>\n",
       "      <td>4</td>\n",
       "      <td>1</td>\n",
       "      <td>7</td>\n",
       "      <td>22903</td>\n",
       "      <td>Drama</td>\n",
       "    </tr>\n",
       "    <tr>\n",
       "      <th>4</th>\n",
       "      <td>50</td>\n",
       "      <td>5</td>\n",
       "      <td>1</td>\n",
       "      <td>1</td>\n",
       "      <td>95350</td>\n",
       "      <td>Drama</td>\n",
       "    </tr>\n",
       "  </tbody>\n",
       "</table>\n",
       "</div>"
      ],
      "text/plain": [
       "   Age  Ratings  Gender  Ocupation Zip_Code Genres\n",
       "0    1        5       0         10    48067  Drama\n",
       "1   56        5       1         16    70072  Drama\n",
       "2   25        4       1         12    32793  Drama\n",
       "3   25        4       1          7    22903  Drama\n",
       "4   50        5       1          1    95350  Drama"
      ]
     },
     "execution_count": 76,
     "metadata": {},
     "output_type": "execute_result"
    }
   ],
   "source": [
    "data_to_train.head()"
   ]
  },
  {
   "cell_type": "code",
   "execution_count": 77,
   "id": "6ee8563f",
   "metadata": {
    "id": "6ee8563f",
    "outputId": "ce224c2c-1370-42ff-b374-54357d4db1f6"
   },
   "outputs": [
    {
     "data": {
      "text/html": [
       "<div>\n",
       "<style scoped>\n",
       "    .dataframe tbody tr th:only-of-type {\n",
       "        vertical-align: middle;\n",
       "    }\n",
       "\n",
       "    .dataframe tbody tr th {\n",
       "        vertical-align: top;\n",
       "    }\n",
       "\n",
       "    .dataframe thead th {\n",
       "        text-align: right;\n",
       "    }\n",
       "</style>\n",
       "<table border=\"1\" class=\"dataframe\">\n",
       "  <thead>\n",
       "    <tr style=\"text-align: right;\">\n",
       "      <th></th>\n",
       "      <th>Drama</th>\n",
       "      <th>Animation</th>\n",
       "      <th>Children's</th>\n",
       "      <th>Musical</th>\n",
       "      <th>Romance</th>\n",
       "      <th>Comedy</th>\n",
       "      <th>Action</th>\n",
       "      <th>Adventure</th>\n",
       "      <th>Fantasy</th>\n",
       "      <th>Sci-Fi</th>\n",
       "      <th>...</th>\n",
       "      <th>Crime</th>\n",
       "      <th>Mystery</th>\n",
       "      <th>Western</th>\n",
       "      <th>Horror</th>\n",
       "      <th>Film-Noir</th>\n",
       "      <th>Documentary</th>\n",
       "      <th>Ratings</th>\n",
       "      <th>Age</th>\n",
       "      <th>Gender</th>\n",
       "      <th>Ocupation</th>\n",
       "    </tr>\n",
       "  </thead>\n",
       "  <tbody>\n",
       "    <tr>\n",
       "      <th>0</th>\n",
       "      <td>1</td>\n",
       "      <td>0</td>\n",
       "      <td>0</td>\n",
       "      <td>0</td>\n",
       "      <td>0</td>\n",
       "      <td>0</td>\n",
       "      <td>0</td>\n",
       "      <td>0</td>\n",
       "      <td>0</td>\n",
       "      <td>0</td>\n",
       "      <td>...</td>\n",
       "      <td>0</td>\n",
       "      <td>0</td>\n",
       "      <td>0</td>\n",
       "      <td>0</td>\n",
       "      <td>0</td>\n",
       "      <td>0</td>\n",
       "      <td>5</td>\n",
       "      <td>1</td>\n",
       "      <td>0</td>\n",
       "      <td>10</td>\n",
       "    </tr>\n",
       "    <tr>\n",
       "      <th>1</th>\n",
       "      <td>1</td>\n",
       "      <td>0</td>\n",
       "      <td>0</td>\n",
       "      <td>0</td>\n",
       "      <td>0</td>\n",
       "      <td>0</td>\n",
       "      <td>0</td>\n",
       "      <td>0</td>\n",
       "      <td>0</td>\n",
       "      <td>0</td>\n",
       "      <td>...</td>\n",
       "      <td>0</td>\n",
       "      <td>0</td>\n",
       "      <td>0</td>\n",
       "      <td>0</td>\n",
       "      <td>0</td>\n",
       "      <td>0</td>\n",
       "      <td>5</td>\n",
       "      <td>56</td>\n",
       "      <td>1</td>\n",
       "      <td>16</td>\n",
       "    </tr>\n",
       "    <tr>\n",
       "      <th>2</th>\n",
       "      <td>1</td>\n",
       "      <td>0</td>\n",
       "      <td>0</td>\n",
       "      <td>0</td>\n",
       "      <td>0</td>\n",
       "      <td>0</td>\n",
       "      <td>0</td>\n",
       "      <td>0</td>\n",
       "      <td>0</td>\n",
       "      <td>0</td>\n",
       "      <td>...</td>\n",
       "      <td>0</td>\n",
       "      <td>0</td>\n",
       "      <td>0</td>\n",
       "      <td>0</td>\n",
       "      <td>0</td>\n",
       "      <td>0</td>\n",
       "      <td>4</td>\n",
       "      <td>25</td>\n",
       "      <td>1</td>\n",
       "      <td>12</td>\n",
       "    </tr>\n",
       "    <tr>\n",
       "      <th>3</th>\n",
       "      <td>1</td>\n",
       "      <td>0</td>\n",
       "      <td>0</td>\n",
       "      <td>0</td>\n",
       "      <td>0</td>\n",
       "      <td>0</td>\n",
       "      <td>0</td>\n",
       "      <td>0</td>\n",
       "      <td>0</td>\n",
       "      <td>0</td>\n",
       "      <td>...</td>\n",
       "      <td>0</td>\n",
       "      <td>0</td>\n",
       "      <td>0</td>\n",
       "      <td>0</td>\n",
       "      <td>0</td>\n",
       "      <td>0</td>\n",
       "      <td>4</td>\n",
       "      <td>25</td>\n",
       "      <td>1</td>\n",
       "      <td>7</td>\n",
       "    </tr>\n",
       "    <tr>\n",
       "      <th>4</th>\n",
       "      <td>1</td>\n",
       "      <td>0</td>\n",
       "      <td>0</td>\n",
       "      <td>0</td>\n",
       "      <td>0</td>\n",
       "      <td>0</td>\n",
       "      <td>0</td>\n",
       "      <td>0</td>\n",
       "      <td>0</td>\n",
       "      <td>0</td>\n",
       "      <td>...</td>\n",
       "      <td>0</td>\n",
       "      <td>0</td>\n",
       "      <td>0</td>\n",
       "      <td>0</td>\n",
       "      <td>0</td>\n",
       "      <td>0</td>\n",
       "      <td>5</td>\n",
       "      <td>50</td>\n",
       "      <td>1</td>\n",
       "      <td>1</td>\n",
       "    </tr>\n",
       "  </tbody>\n",
       "</table>\n",
       "<p>5 rows × 22 columns</p>\n",
       "</div>"
      ],
      "text/plain": [
       "   Drama  Animation  Children's  Musical  Romance  Comedy  Action  Adventure  \\\n",
       "0      1          0           0        0        0       0       0          0   \n",
       "1      1          0           0        0        0       0       0          0   \n",
       "2      1          0           0        0        0       0       0          0   \n",
       "3      1          0           0        0        0       0       0          0   \n",
       "4      1          0           0        0        0       0       0          0   \n",
       "\n",
       "   Fantasy  Sci-Fi  ...  Crime  Mystery  Western  Horror  Film-Noir  \\\n",
       "0        0       0  ...      0        0        0       0          0   \n",
       "1        0       0  ...      0        0        0       0          0   \n",
       "2        0       0  ...      0        0        0       0          0   \n",
       "3        0       0  ...      0        0        0       0          0   \n",
       "4        0       0  ...      0        0        0       0          0   \n",
       "\n",
       "   Documentary  Ratings  Age  Gender  Ocupation  \n",
       "0            0        5    1       0         10  \n",
       "1            0        5   56       1         16  \n",
       "2            0        4   25       1         12  \n",
       "3            0        4   25       1          7  \n",
       "4            0        5   50       1          1  \n",
       "\n",
       "[5 rows x 22 columns]"
      ]
     },
     "execution_count": 77,
     "metadata": {},
     "output_type": "execute_result"
    }
   ],
   "source": [
    "df_genres_movies.head()"
   ]
  },
  {
   "cell_type": "markdown",
   "id": "2a1f51bf",
   "metadata": {
    "id": "2a1f51bf"
   },
   "source": [
    "Basado en las tablas anteriores se creara una nueva tabla con los datos de interes para el filtro colaborativo"
   ]
  },
  {
   "cell_type": "code",
   "execution_count": 78,
   "id": "a68424e1",
   "metadata": {
    "id": "a68424e1",
    "outputId": "e41c6110-bc74-4f39-8310-4d7ce6167f56"
   },
   "outputs": [
    {
     "data": {
      "text/plain": [
       "(3706, 6040, 1000209)"
      ]
     },
     "execution_count": 78,
     "metadata": {},
     "output_type": "execute_result"
    }
   ],
   "source": [
    "c_moviesId = total_data[\"MovieID\"].nunique()\n",
    "c_userId = total_data[\"UserID\"].nunique()\n",
    "c_ratings= len(total_data[\"Ratings\"])\n",
    "c_moviesId,c_userId, c_ratings"
   ]
  },
  {
   "cell_type": "code",
   "execution_count": 79,
   "id": "d1f5cc2f",
   "metadata": {
    "id": "d1f5cc2f",
    "outputId": "2f20eacc-e538-47e2-f02b-aed00d59f45c"
   },
   "outputs": [
    {
     "data": {
      "text/html": [
       "<div>\n",
       "<style scoped>\n",
       "    .dataframe tbody tr th:only-of-type {\n",
       "        vertical-align: middle;\n",
       "    }\n",
       "\n",
       "    .dataframe tbody tr th {\n",
       "        vertical-align: top;\n",
       "    }\n",
       "\n",
       "    .dataframe thead th {\n",
       "        text-align: right;\n",
       "    }\n",
       "</style>\n",
       "<table border=\"1\" class=\"dataframe\">\n",
       "  <thead>\n",
       "    <tr style=\"text-align: right;\">\n",
       "      <th></th>\n",
       "      <th>UserID</th>\n",
       "      <th>nRatings</th>\n",
       "    </tr>\n",
       "  </thead>\n",
       "  <tbody>\n",
       "    <tr>\n",
       "      <th>6035</th>\n",
       "      <td>6036</td>\n",
       "      <td>888</td>\n",
       "    </tr>\n",
       "    <tr>\n",
       "      <th>6036</th>\n",
       "      <td>6037</td>\n",
       "      <td>202</td>\n",
       "    </tr>\n",
       "    <tr>\n",
       "      <th>6037</th>\n",
       "      <td>6038</td>\n",
       "      <td>20</td>\n",
       "    </tr>\n",
       "    <tr>\n",
       "      <th>6038</th>\n",
       "      <td>6039</td>\n",
       "      <td>123</td>\n",
       "    </tr>\n",
       "    <tr>\n",
       "      <th>6039</th>\n",
       "      <td>6040</td>\n",
       "      <td>341</td>\n",
       "    </tr>\n",
       "  </tbody>\n",
       "</table>\n",
       "</div>"
      ],
      "text/plain": [
       "      UserID  nRatings\n",
       "6035    6036       888\n",
       "6036    6037       202\n",
       "6037    6038        20\n",
       "6038    6039       123\n",
       "6039    6040       341"
      ]
     },
     "execution_count": 79,
     "metadata": {},
     "output_type": "execute_result"
    }
   ],
   "source": [
    "userFreq = total_data[[\"UserID\",\"MovieID\"]].groupby(\"UserID\").count().reset_index()\n",
    "userFreq.columns = [\"UserID\",\"nRatings\"]\n",
    "userFreq.head()\n",
    "userFreq.tail()"
   ]
  },
  {
   "cell_type": "code",
   "execution_count": 80,
   "id": "1994562b",
   "metadata": {
    "id": "1994562b",
    "outputId": "1f25a633-07ea-444e-9aef-4efff8481087"
   },
   "outputs": [
    {
     "data": {
      "text/plain": [
       "165.5975165562914"
      ]
     },
     "execution_count": 80,
     "metadata": {},
     "output_type": "execute_result"
    }
   ],
   "source": [
    "userFreq[\"nRatings\"].mean()"
   ]
  },
  {
   "cell_type": "markdown",
   "id": "4ce0c648",
   "metadata": {
    "id": "4ce0c648"
   },
   "source": [
    "En promedio cada usuario califica 165 peliculas "
   ]
  },
  {
   "cell_type": "markdown",
   "id": "fd222d98",
   "metadata": {
    "id": "fd222d98"
   },
   "source": [
    "<h3>Conclusiones</h3>\n",
    "\n",
    "<ul>\n",
    "    <li> En el dataset se encuentran 3706 peliculas diferentes</li>\n",
    "    <li> En el dataset se encuentran 6040 usuarios diferentes</li>\n",
    "    <li> En en promedio cada usuario del dataset califica 165 peliculas</li>\n",
    "</ul>"
   ]
  },
  {
   "cell_type": "code",
   "execution_count": 81,
   "id": "3fe23962",
   "metadata": {
    "id": "3fe23962",
    "outputId": "94968696-53c4-4b03-a655-5f0080085f49"
   },
   "outputs": [
    {
     "data": {
      "image/png": "[encoded data removed]",
      "text/plain": [
       "<Figure size 1008x360 with 1 Axes>"
      ]
     },
     "metadata": {},
     "output_type": "display_data"
    }
   ],
   "source": [
    "sns.set_style(\"whitegrid\")\n",
    "plt.figure(figsize=(14,5))\n",
    "sns.countplot(x=\"Ratings\",data=total_data,palette=\"viridis\")\n",
    "plt.title(\"Distribucion de los Ratings de las peliculas\")\n",
    "plt.show()"
   ]
  },
  {
   "cell_type": "markdown",
   "id": "761b22db",
   "metadata": {
    "id": "761b22db"
   },
   "source": [
    "<h3>Conclusiones</h3>\n",
    "\n",
    "<ul>\n",
    "    <li> El Rating/calificacion mas comun es el 4</li>\n",
    "    <li> El Rating/calificacion menos comun es el 1</li>\n",
    "</ul>"
   ]
  },
  {
   "cell_type": "code",
   "execution_count": 82,
   "id": "bcfc490a",
   "metadata": {
    "id": "bcfc490a",
    "outputId": "624e914d-15e2-4761-ec5d-fd49e62d66cb"
   },
   "outputs": [],
   "source": [
    "#sns.set_style(\"whitegrid\")\n",
    "#plt.figure(figsize=(14,5))\n",
    "\n",
    "#sns.kdeplot(userFreq[\"nRatings\"],shade=True,legend=False)\n",
    "#plt.axvline(userFreq[\"nRatings\"].mean(),color=\"k\",linestyle=\"--\")\n",
    "#plt.xlabel(\"Numero de ratings por usuario\")\n",
    "#plt.ylabel(\"Ctd/densidad de los ratings\")\n",
    "#plt.title(\"Numero de peliculas calificadas por usuario\")"
   ]
  },
  {
   "cell_type": "markdown",
   "id": "3e6a80c7",
   "metadata": {
    "id": "3e6a80c7"
   },
   "source": [
    "<h3>Mejor y peor valoracion por pelicula</h3>"
   ]
  },
  {
   "cell_type": "code",
   "execution_count": 83,
   "id": "dea02a08",
   "metadata": {
    "id": "dea02a08"
   },
   "outputs": [],
   "source": [
    "meanRating = total_data.groupby(\"MovieID\")[[\"Ratings\"]].mean()\n",
    "lw_rated = meanRating[\"Ratings\"].idxmin()"
   ]
  },
  {
   "cell_type": "code",
   "execution_count": 84,
   "id": "f9b90381",
   "metadata": {
    "id": "f9b90381",
    "outputId": "c34909d6-25cd-4f1f-c25f-78cee85894e0"
   },
   "outputs": [
    {
     "data": {
      "text/html": [
       "<div>\n",
       "<style scoped>\n",
       "    .dataframe tbody tr th:only-of-type {\n",
       "        vertical-align: middle;\n",
       "    }\n",
       "\n",
       "    .dataframe tbody tr th {\n",
       "        vertical-align: top;\n",
       "    }\n",
       "\n",
       "    .dataframe thead th {\n",
       "        text-align: right;\n",
       "    }\n",
       "</style>\n",
       "<table border=\"1\" class=\"dataframe\">\n",
       "  <thead>\n",
       "    <tr style=\"text-align: right;\">\n",
       "      <th></th>\n",
       "      <th>Ratings</th>\n",
       "    </tr>\n",
       "    <tr>\n",
       "      <th>MovieID</th>\n",
       "      <th></th>\n",
       "    </tr>\n",
       "  </thead>\n",
       "  <tbody>\n",
       "    <tr>\n",
       "      <th>1</th>\n",
       "      <td>4.146846</td>\n",
       "    </tr>\n",
       "    <tr>\n",
       "      <th>2</th>\n",
       "      <td>3.201141</td>\n",
       "    </tr>\n",
       "    <tr>\n",
       "      <th>3</th>\n",
       "      <td>3.016736</td>\n",
       "    </tr>\n",
       "    <tr>\n",
       "      <th>4</th>\n",
       "      <td>2.729412</td>\n",
       "    </tr>\n",
       "    <tr>\n",
       "      <th>5</th>\n",
       "      <td>3.006757</td>\n",
       "    </tr>\n",
       "  </tbody>\n",
       "</table>\n",
       "</div>"
      ],
      "text/plain": [
       "          Ratings\n",
       "MovieID          \n",
       "1        4.146846\n",
       "2        3.201141\n",
       "3        3.016736\n",
       "4        2.729412\n",
       "5        3.006757"
      ]
     },
     "execution_count": 84,
     "metadata": {},
     "output_type": "execute_result"
    }
   ],
   "source": [
    "meanRating.head()"
   ]
  },
  {
   "cell_type": "code",
   "execution_count": 85,
   "id": "70b12eb7",
   "metadata": {
    "id": "70b12eb7",
    "outputId": "0d9fd60c-ce1d-4c5b-875b-bec56412fe12"
   },
   "outputs": [
    {
     "data": {
      "text/plain": [
       "127"
      ]
     },
     "execution_count": 85,
     "metadata": {},
     "output_type": "execute_result"
    }
   ],
   "source": [
    "lw_rated"
   ]
  },
  {
   "cell_type": "code",
   "execution_count": 86,
   "id": "91386a8a",
   "metadata": {
    "id": "91386a8a",
    "outputId": "fc1e2da9-ebc9-4434-f3ec-7ca9a663223e"
   },
   "outputs": [
    {
     "data": {
      "text/html": [
       "<div>\n",
       "<style scoped>\n",
       "    .dataframe tbody tr th:only-of-type {\n",
       "        vertical-align: middle;\n",
       "    }\n",
       "\n",
       "    .dataframe tbody tr th {\n",
       "        vertical-align: top;\n",
       "    }\n",
       "\n",
       "    .dataframe thead th {\n",
       "        text-align: right;\n",
       "    }\n",
       "</style>\n",
       "<table border=\"1\" class=\"dataframe\">\n",
       "  <thead>\n",
       "    <tr style=\"text-align: right;\">\n",
       "      <th></th>\n",
       "      <th>UserID</th>\n",
       "      <th>MovieID</th>\n",
       "      <th>Ratings</th>\n",
       "      <th>Timestamp</th>\n",
       "      <th>Gender</th>\n",
       "      <th>Age</th>\n",
       "      <th>Ocupation</th>\n",
       "      <th>Zip_Code</th>\n",
       "      <th>Title</th>\n",
       "      <th>Genres</th>\n",
       "    </tr>\n",
       "  </thead>\n",
       "  <tbody>\n",
       "    <tr>\n",
       "      <th>1000198</th>\n",
       "      <td>5334</td>\n",
       "      <td>127</td>\n",
       "      <td>1</td>\n",
       "      <td>960795494</td>\n",
       "      <td>F</td>\n",
       "      <td>56</td>\n",
       "      <td>13</td>\n",
       "      <td>46140</td>\n",
       "      <td>Silence of the Palace, The (Saimt el Qusur) (1...</td>\n",
       "      <td>Drama</td>\n",
       "    </tr>\n",
       "  </tbody>\n",
       "</table>\n",
       "</div>"
      ],
      "text/plain": [
       "         UserID  MovieID  Ratings  Timestamp Gender  Age  Ocupation Zip_Code  \\\n",
       "1000198    5334      127        1  960795494      F   56         13    46140   \n",
       "\n",
       "                                                     Title Genres  \n",
       "1000198  Silence of the Palace, The (Saimt el Qusur) (1...  Drama  "
      ]
     },
     "execution_count": 86,
     "metadata": {},
     "output_type": "execute_result"
    }
   ],
   "source": [
    "total_data.loc[total_data[\"MovieID\"]==lw_rated]"
   ]
  },
  {
   "cell_type": "markdown",
   "id": "6d0d1c50",
   "metadata": {
    "id": "6d0d1c50"
   },
   "source": [
    "Mejor Valoracion"
   ]
  },
  {
   "cell_type": "code",
   "execution_count": 87,
   "id": "feb350bf",
   "metadata": {
    "id": "feb350bf",
    "outputId": "3ab7d40e-3ca9-4cd7-b425-d41c9e71f533"
   },
   "outputs": [
    {
     "data": {
      "text/html": [
       "<div>\n",
       "<style scoped>\n",
       "    .dataframe tbody tr th:only-of-type {\n",
       "        vertical-align: middle;\n",
       "    }\n",
       "\n",
       "    .dataframe tbody tr th {\n",
       "        vertical-align: top;\n",
       "    }\n",
       "\n",
       "    .dataframe thead th {\n",
       "        text-align: right;\n",
       "    }\n",
       "</style>\n",
       "<table border=\"1\" class=\"dataframe\">\n",
       "  <thead>\n",
       "    <tr style=\"text-align: right;\">\n",
       "      <th></th>\n",
       "      <th>UserID</th>\n",
       "      <th>MovieID</th>\n",
       "      <th>Ratings</th>\n",
       "      <th>Timestamp</th>\n",
       "      <th>Gender</th>\n",
       "      <th>Age</th>\n",
       "      <th>Ocupation</th>\n",
       "      <th>Zip_Code</th>\n",
       "      <th>Title</th>\n",
       "      <th>Genres</th>\n",
       "    </tr>\n",
       "  </thead>\n",
       "  <tbody>\n",
       "    <tr>\n",
       "      <th>965717</th>\n",
       "      <td>149</td>\n",
       "      <td>787</td>\n",
       "      <td>5</td>\n",
       "      <td>977325719</td>\n",
       "      <td>M</td>\n",
       "      <td>25</td>\n",
       "      <td>1</td>\n",
       "      <td>29205</td>\n",
       "      <td>Gate of Heavenly Peace, The (1995)</td>\n",
       "      <td>Documentary</td>\n",
       "    </tr>\n",
       "    <tr>\n",
       "      <th>965718</th>\n",
       "      <td>2825</td>\n",
       "      <td>787</td>\n",
       "      <td>5</td>\n",
       "      <td>972610193</td>\n",
       "      <td>F</td>\n",
       "      <td>25</td>\n",
       "      <td>20</td>\n",
       "      <td>94014</td>\n",
       "      <td>Gate of Heavenly Peace, The (1995)</td>\n",
       "      <td>Documentary</td>\n",
       "    </tr>\n",
       "    <tr>\n",
       "      <th>965719</th>\n",
       "      <td>2872</td>\n",
       "      <td>787</td>\n",
       "      <td>5</td>\n",
       "      <td>972423586</td>\n",
       "      <td>M</td>\n",
       "      <td>25</td>\n",
       "      <td>20</td>\n",
       "      <td>94014</td>\n",
       "      <td>Gate of Heavenly Peace, The (1995)</td>\n",
       "      <td>Documentary</td>\n",
       "    </tr>\n",
       "  </tbody>\n",
       "</table>\n",
       "</div>"
      ],
      "text/plain": [
       "        UserID  MovieID  Ratings  Timestamp Gender  Age  Ocupation Zip_Code  \\\n",
       "965717     149      787        5  977325719      M   25          1    29205   \n",
       "965718    2825      787        5  972610193      F   25         20    94014   \n",
       "965719    2872      787        5  972423586      M   25         20    94014   \n",
       "\n",
       "                                     Title       Genres  \n",
       "965717  Gate of Heavenly Peace, The (1995)  Documentary  \n",
       "965718  Gate of Heavenly Peace, The (1995)  Documentary  \n",
       "965719  Gate of Heavenly Peace, The (1995)  Documentary  "
      ]
     },
     "execution_count": 87,
     "metadata": {},
     "output_type": "execute_result"
    }
   ],
   "source": [
    "hg_rated = meanRating[\"Ratings\"].idxmax()\n",
    "total_data.loc[total_data[\"MovieID\"]==hg_rated]"
   ]
  },
  {
   "cell_type": "code",
   "execution_count": 88,
   "id": "1f0cac34",
   "metadata": {
    "id": "1f0cac34",
    "outputId": "ccb01aa3-0acf-4ea5-a127-9262bf4b5001"
   },
   "outputs": [
    {
     "data": {
      "text/plain": [
       "787"
      ]
     },
     "execution_count": 88,
     "metadata": {},
     "output_type": "execute_result"
    }
   ],
   "source": [
    "hg_rated"
   ]
  },
  {
   "cell_type": "code",
   "execution_count": 89,
   "id": "dbf732d5",
   "metadata": {
    "id": "dbf732d5",
    "outputId": "f8be0fbb-dc95-4764-fcae-0d74c6af507b"
   },
   "outputs": [
    {
     "data": {
      "text/plain": [
       "Ratings    787\n",
       "dtype: int64"
      ]
     },
     "execution_count": 89,
     "metadata": {},
     "output_type": "execute_result"
    }
   ],
   "source": [
    "meanRating.idxmax()"
   ]
  },
  {
   "cell_type": "code",
   "execution_count": 90,
   "id": "bda81e09",
   "metadata": {
    "id": "bda81e09",
    "outputId": "54d4089b-2e6e-4574-e644-fab3707b51c1"
   },
   "outputs": [
    {
     "data": {
      "text/plain": [
       "pandas.core.frame.DataFrame"
      ]
     },
     "execution_count": 90,
     "metadata": {},
     "output_type": "execute_result"
    }
   ],
   "source": [
    "type(meanRating)"
   ]
  },
  {
   "cell_type": "markdown",
   "id": "d3a48850",
   "metadata": {
    "id": "d3a48850"
   },
   "source": [
    "<h3>Conclusiones</h3>\n",
    "\n",
    "<ul>\n",
    "    <li>La pelicula con peor calificacion promedio fue Silence of the Palace</li>\n",
    "    <li>La pelicula con mejor promedio de calificacion fue Gate of Heavenly peace</li>\n",
    "\n",
    "</ul>\n",
    "    "
   ]
  },
  {
   "cell_type": "code",
   "execution_count": 91,
   "id": "014b7032",
   "metadata": {
    "id": "014b7032",
    "outputId": "d6aeefbd-90c5-4d20-a926-2750d5913d06"
   },
   "outputs": [
    {
     "data": {
      "text/plain": [
       "787"
      ]
     },
     "execution_count": 91,
     "metadata": {},
     "output_type": "execute_result"
    }
   ],
   "source": [
    "meanRating.Ratings.idxmax()"
   ]
  },
  {
   "cell_type": "code",
   "execution_count": 92,
   "id": "6fd82893",
   "metadata": {
    "id": "6fd82893",
    "outputId": "d30f51b1-29ef-4c42-8a53-9a01b3717b84"
   },
   "outputs": [
    {
     "data": {
      "text/html": [
       "<div>\n",
       "<style scoped>\n",
       "    .dataframe tbody tr th:only-of-type {\n",
       "        vertical-align: middle;\n",
       "    }\n",
       "\n",
       "    .dataframe tbody tr th {\n",
       "        vertical-align: top;\n",
       "    }\n",
       "\n",
       "    .dataframe thead th {\n",
       "        text-align: right;\n",
       "    }\n",
       "</style>\n",
       "<table border=\"1\" class=\"dataframe\">\n",
       "  <thead>\n",
       "    <tr style=\"text-align: right;\">\n",
       "      <th></th>\n",
       "      <th>Ratings</th>\n",
       "    </tr>\n",
       "    <tr>\n",
       "      <th>MovieID</th>\n",
       "      <th></th>\n",
       "    </tr>\n",
       "  </thead>\n",
       "  <tbody>\n",
       "    <tr>\n",
       "      <th>3948</th>\n",
       "      <td>3.635731</td>\n",
       "    </tr>\n",
       "    <tr>\n",
       "      <th>3949</th>\n",
       "      <td>4.115132</td>\n",
       "    </tr>\n",
       "    <tr>\n",
       "      <th>3950</th>\n",
       "      <td>3.666667</td>\n",
       "    </tr>\n",
       "    <tr>\n",
       "      <th>3951</th>\n",
       "      <td>3.900000</td>\n",
       "    </tr>\n",
       "    <tr>\n",
       "      <th>3952</th>\n",
       "      <td>3.780928</td>\n",
       "    </tr>\n",
       "  </tbody>\n",
       "</table>\n",
       "</div>"
      ],
      "text/plain": [
       "          Ratings\n",
       "MovieID          \n",
       "3948     3.635731\n",
       "3949     4.115132\n",
       "3950     3.666667\n",
       "3951     3.900000\n",
       "3952     3.780928"
      ]
     },
     "execution_count": 92,
     "metadata": {},
     "output_type": "execute_result"
    }
   ],
   "source": [
    "meanRating.tail()"
   ]
  },
  {
   "cell_type": "code",
   "execution_count": 93,
   "id": "532aa571",
   "metadata": {
    "id": "532aa571",
    "outputId": "196a86b4-27af-42a5-b72f-f22d1d520a4a"
   },
   "outputs": [
    {
     "data": {
      "text/html": [
       "<div>\n",
       "<style scoped>\n",
       "    .dataframe tbody tr th:only-of-type {\n",
       "        vertical-align: middle;\n",
       "    }\n",
       "\n",
       "    .dataframe tbody tr th {\n",
       "        vertical-align: top;\n",
       "    }\n",
       "\n",
       "    .dataframe thead th {\n",
       "        text-align: right;\n",
       "    }\n",
       "</style>\n",
       "<table border=\"1\" class=\"dataframe\">\n",
       "  <thead>\n",
       "    <tr style=\"text-align: right;\">\n",
       "      <th></th>\n",
       "      <th>Ratings</th>\n",
       "    </tr>\n",
       "    <tr>\n",
       "      <th>MovieID</th>\n",
       "      <th></th>\n",
       "    </tr>\n",
       "  </thead>\n",
       "  <tbody>\n",
       "    <tr>\n",
       "      <th>1</th>\n",
       "      <td>4.146846</td>\n",
       "    </tr>\n",
       "    <tr>\n",
       "      <th>2</th>\n",
       "      <td>3.201141</td>\n",
       "    </tr>\n",
       "    <tr>\n",
       "      <th>3</th>\n",
       "      <td>3.016736</td>\n",
       "    </tr>\n",
       "    <tr>\n",
       "      <th>4</th>\n",
       "      <td>2.729412</td>\n",
       "    </tr>\n",
       "    <tr>\n",
       "      <th>5</th>\n",
       "      <td>3.006757</td>\n",
       "    </tr>\n",
       "    <tr>\n",
       "      <th>...</th>\n",
       "      <td>...</td>\n",
       "    </tr>\n",
       "    <tr>\n",
       "      <th>127</th>\n",
       "      <td>1.000000</td>\n",
       "    </tr>\n",
       "    <tr>\n",
       "      <th>128</th>\n",
       "      <td>4.333333</td>\n",
       "    </tr>\n",
       "    <tr>\n",
       "      <th>129</th>\n",
       "      <td>3.307692</td>\n",
       "    </tr>\n",
       "    <tr>\n",
       "      <th>130</th>\n",
       "      <td>4.000000</td>\n",
       "    </tr>\n",
       "    <tr>\n",
       "      <th>131</th>\n",
       "      <td>3.062500</td>\n",
       "    </tr>\n",
       "  </tbody>\n",
       "</table>\n",
       "<p>127 rows × 1 columns</p>\n",
       "</div>"
      ],
      "text/plain": [
       "          Ratings\n",
       "MovieID          \n",
       "1        4.146846\n",
       "2        3.201141\n",
       "3        3.016736\n",
       "4        2.729412\n",
       "5        3.006757\n",
       "...           ...\n",
       "127      1.000000\n",
       "128      4.333333\n",
       "129      3.307692\n",
       "130      4.000000\n",
       "131      3.062500\n",
       "\n",
       "[127 rows x 1 columns]"
      ]
     },
     "execution_count": 93,
     "metadata": {},
     "output_type": "execute_result"
    }
   ],
   "source": [
    "meanRating.head(127)"
   ]
  },
  {
   "cell_type": "code",
   "execution_count": 94,
   "id": "5d389e01",
   "metadata": {
    "id": "5d389e01",
    "outputId": "e8816c39-bd0a-4437-aa20-046b70c14316"
   },
   "outputs": [
    {
     "data": {
      "text/html": [
       "<div>\n",
       "<style scoped>\n",
       "    .dataframe tbody tr th:only-of-type {\n",
       "        vertical-align: middle;\n",
       "    }\n",
       "\n",
       "    .dataframe tbody tr th {\n",
       "        vertical-align: top;\n",
       "    }\n",
       "\n",
       "    .dataframe thead th {\n",
       "        text-align: right;\n",
       "    }\n",
       "</style>\n",
       "<table border=\"1\" class=\"dataframe\">\n",
       "  <thead>\n",
       "    <tr style=\"text-align: right;\">\n",
       "      <th></th>\n",
       "      <th>Ratings</th>\n",
       "    </tr>\n",
       "    <tr>\n",
       "      <th>MovieID</th>\n",
       "      <th></th>\n",
       "    </tr>\n",
       "  </thead>\n",
       "  <tbody>\n",
       "    <tr>\n",
       "      <th>1</th>\n",
       "      <td>4.146846</td>\n",
       "    </tr>\n",
       "    <tr>\n",
       "      <th>2</th>\n",
       "      <td>3.201141</td>\n",
       "    </tr>\n",
       "    <tr>\n",
       "      <th>3</th>\n",
       "      <td>3.016736</td>\n",
       "    </tr>\n",
       "    <tr>\n",
       "      <th>4</th>\n",
       "      <td>2.729412</td>\n",
       "    </tr>\n",
       "    <tr>\n",
       "      <th>5</th>\n",
       "      <td>3.006757</td>\n",
       "    </tr>\n",
       "    <tr>\n",
       "      <th>...</th>\n",
       "      <td>...</td>\n",
       "    </tr>\n",
       "    <tr>\n",
       "      <th>785</th>\n",
       "      <td>3.478431</td>\n",
       "    </tr>\n",
       "    <tr>\n",
       "      <th>786</th>\n",
       "      <td>3.123913</td>\n",
       "    </tr>\n",
       "    <tr>\n",
       "      <th>787</th>\n",
       "      <td>5.000000</td>\n",
       "    </tr>\n",
       "    <tr>\n",
       "      <th>788</th>\n",
       "      <td>2.995781</td>\n",
       "    </tr>\n",
       "    <tr>\n",
       "      <th>789</th>\n",
       "      <td>3.000000</td>\n",
       "    </tr>\n",
       "  </tbody>\n",
       "</table>\n",
       "<p>747 rows × 1 columns</p>\n",
       "</div>"
      ],
      "text/plain": [
       "          Ratings\n",
       "MovieID          \n",
       "1        4.146846\n",
       "2        3.201141\n",
       "3        3.016736\n",
       "4        2.729412\n",
       "5        3.006757\n",
       "...           ...\n",
       "785      3.478431\n",
       "786      3.123913\n",
       "787      5.000000\n",
       "788      2.995781\n",
       "789      3.000000\n",
       "\n",
       "[747 rows x 1 columns]"
      ]
     },
     "execution_count": 94,
     "metadata": {},
     "output_type": "execute_result"
    }
   ],
   "source": [
    "meanRating.head(747)"
   ]
  },
  {
   "cell_type": "code",
   "execution_count": 95,
   "id": "d6bb5e4b",
   "metadata": {
    "id": "d6bb5e4b"
   },
   "outputs": [],
   "source": [
    "HgRate=meanRating[meanRating[\"Ratings\"] == 5]\n",
    "listHgRate=list(HgRate.index)"
   ]
  },
  {
   "cell_type": "code",
   "execution_count": 96,
   "id": "d5fd5c59",
   "metadata": {
    "id": "d5fd5c59",
    "outputId": "1af7f5bc-08de-4a7f-a7ed-9d0106d4889b"
   },
   "outputs": [
    {
     "data": {
      "text/plain": [
       "list"
      ]
     },
     "execution_count": 96,
     "metadata": {},
     "output_type": "execute_result"
    }
   ],
   "source": [
    "LwRate=meanRating[meanRating[\"Ratings\"] <= 1]\n",
    "listLwRate = list(LwRate.index)\n",
    "type(listLwRate)"
   ]
  },
  {
   "cell_type": "code",
   "execution_count": 97,
   "id": "306bdd96",
   "metadata": {
    "id": "306bdd96"
   },
   "outputs": [],
   "source": [
    "rslt_listLw = total_data[total_data[\"MovieID\"].isin(listLwRate)]"
   ]
  },
  {
   "cell_type": "code",
   "execution_count": 98,
   "id": "337a1f92",
   "metadata": {
    "id": "337a1f92",
    "outputId": "14564de7-3b3e-453f-da34-d7f613a46fb3"
   },
   "outputs": [
    {
     "data": {
      "text/html": [
       "<div>\n",
       "<style scoped>\n",
       "    .dataframe tbody tr th:only-of-type {\n",
       "        vertical-align: middle;\n",
       "    }\n",
       "\n",
       "    .dataframe tbody tr th {\n",
       "        vertical-align: top;\n",
       "    }\n",
       "\n",
       "    .dataframe thead th {\n",
       "        text-align: right;\n",
       "    }\n",
       "</style>\n",
       "<table border=\"1\" class=\"dataframe\">\n",
       "  <thead>\n",
       "    <tr style=\"text-align: right;\">\n",
       "      <th></th>\n",
       "      <th>UserID</th>\n",
       "      <th>MovieID</th>\n",
       "      <th>Ratings</th>\n",
       "      <th>Timestamp</th>\n",
       "      <th>Gender</th>\n",
       "      <th>Age</th>\n",
       "      <th>Ocupation</th>\n",
       "      <th>Zip_Code</th>\n",
       "      <th>Title</th>\n",
       "      <th>Genres</th>\n",
       "    </tr>\n",
       "  </thead>\n",
       "  <tbody>\n",
       "    <tr>\n",
       "      <th>907256</th>\n",
       "      <td>58</td>\n",
       "      <td>1311</td>\n",
       "      <td>1</td>\n",
       "      <td>977936528</td>\n",
       "      <td>M</td>\n",
       "      <td>25</td>\n",
       "      <td>2</td>\n",
       "      <td>30303</td>\n",
       "      <td>Santa with Muscles (1996)</td>\n",
       "      <td>Comedy</td>\n",
       "    </tr>\n",
       "    <tr>\n",
       "      <th>907257</th>\n",
       "      <td>193</td>\n",
       "      <td>1311</td>\n",
       "      <td>1</td>\n",
       "      <td>977018841</td>\n",
       "      <td>F</td>\n",
       "      <td>45</td>\n",
       "      <td>15</td>\n",
       "      <td>44106</td>\n",
       "      <td>Santa with Muscles (1996)</td>\n",
       "      <td>Comedy</td>\n",
       "    </tr>\n",
       "    <tr>\n",
       "      <th>907258</th>\n",
       "      <td>601</td>\n",
       "      <td>1311</td>\n",
       "      <td>1</td>\n",
       "      <td>975882621</td>\n",
       "      <td>F</td>\n",
       "      <td>18</td>\n",
       "      <td>20</td>\n",
       "      <td>06320</td>\n",
       "      <td>Santa with Muscles (1996)</td>\n",
       "      <td>Comedy</td>\n",
       "    </tr>\n",
       "    <tr>\n",
       "      <th>907259</th>\n",
       "      <td>1478</td>\n",
       "      <td>1311</td>\n",
       "      <td>1</td>\n",
       "      <td>974752662</td>\n",
       "      <td>M</td>\n",
       "      <td>1</td>\n",
       "      <td>10</td>\n",
       "      <td>92620</td>\n",
       "      <td>Santa with Muscles (1996)</td>\n",
       "      <td>Comedy</td>\n",
       "    </tr>\n",
       "    <tr>\n",
       "      <th>907260</th>\n",
       "      <td>1943</td>\n",
       "      <td>1311</td>\n",
       "      <td>1</td>\n",
       "      <td>993575910</td>\n",
       "      <td>M</td>\n",
       "      <td>18</td>\n",
       "      <td>4</td>\n",
       "      <td>91501</td>\n",
       "      <td>Santa with Muscles (1996)</td>\n",
       "      <td>Comedy</td>\n",
       "    </tr>\n",
       "  </tbody>\n",
       "</table>\n",
       "</div>"
      ],
      "text/plain": [
       "        UserID  MovieID  Ratings  Timestamp Gender  Age  Ocupation Zip_Code  \\\n",
       "907256      58     1311        1  977936528      M   25          2    30303   \n",
       "907257     193     1311        1  977018841      F   45         15    44106   \n",
       "907258     601     1311        1  975882621      F   18         20    06320   \n",
       "907259    1478     1311        1  974752662      M    1         10    92620   \n",
       "907260    1943     1311        1  993575910      M   18          4    91501   \n",
       "\n",
       "                            Title  Genres  \n",
       "907256  Santa with Muscles (1996)  Comedy  \n",
       "907257  Santa with Muscles (1996)  Comedy  \n",
       "907258  Santa with Muscles (1996)  Comedy  \n",
       "907259  Santa with Muscles (1996)  Comedy  \n",
       "907260  Santa with Muscles (1996)  Comedy  "
      ]
     },
     "execution_count": 98,
     "metadata": {},
     "output_type": "execute_result"
    }
   ],
   "source": [
    "rslt_listLw.head()"
   ]
  },
  {
   "cell_type": "code",
   "execution_count": 99,
   "id": "15758852",
   "metadata": {
    "id": "15758852",
    "outputId": "370ccd31-dc78-4240-abf8-b7c449d7bc3b"
   },
   "outputs": [
    {
     "data": {
      "text/plain": [
       "array(['Santa with Muscles (1996)', 'Diebinnen (1995)',\n",
       "       'Blood Spattered Bride, The (La Novia Ensangrentada) (1972)',\n",
       "       'Bloody Child, The (1996)', 'Loves of Carmen, The (1948)',\n",
       "       'Low Life, The (1994)', 'Venice/Venice (1992)',\n",
       "       'Little Indian, Big City (Un indien dans la ville) (1994)',\n",
       "       'Wirey Spindell (1999)', 'Uninvited Guest, An (2000)',\n",
       "       'Torso (Corpi Presentano Tracce di Violenza Carnale) (1973)',\n",
       "       'Sleepover (1995)', 'Get Over It (1996)',\n",
       "       'Terror in a Texas Town (1958)', 'McCullochs, The (1975)',\n",
       "       'Shadows (Cienie) (1988)', 'Windows (1980)', 'Cheetah (1989)',\n",
       "       'Mutters Courage (1995)', 'Underworld (1997)',\n",
       "       \"Kestrel's Eye (Falkens öga) (1998)\", 'Waltzes from Vienna (1933)',\n",
       "       'Elstree Calling (1930)',\n",
       "       'Even Dwarfs Started Small (Auch Zwerge haben klein angefangen) (1971)',\n",
       "       'Fantastic Night, The (La Nuit Fantastique) (1949)',\n",
       "       'Lotto Land (1995)', 'Hillbillys in a Haunted House (1967)',\n",
       "       'Spring Fever USA (a.k.a. Lauderdale) (1989)', 'Nueba Yol (1995)',\n",
       "       'Silence of the Palace, The (Saimt el Qusur) (1994)',\n",
       "       'White Boys (1999)'], dtype=object)"
      ]
     },
     "execution_count": 99,
     "metadata": {},
     "output_type": "execute_result"
    }
   ],
   "source": [
    "rslt_listLw[\"Title\"].unique()"
   ]
  },
  {
   "cell_type": "code",
   "execution_count": 100,
   "id": "b28d93e4",
   "metadata": {
    "id": "b28d93e4"
   },
   "outputs": [],
   "source": [
    "rslt_listHg = total_data[total_data[\"MovieID\"].isin(listHgRate)]"
   ]
  },
  {
   "cell_type": "code",
   "execution_count": 101,
   "id": "fd105236",
   "metadata": {
    "id": "fd105236",
    "outputId": "03459fea-6581-451b-ce00-ef3af233772b"
   },
   "outputs": [
    {
     "data": {
      "text/html": [
       "<div>\n",
       "<style scoped>\n",
       "    .dataframe tbody tr th:only-of-type {\n",
       "        vertical-align: middle;\n",
       "    }\n",
       "\n",
       "    .dataframe tbody tr th {\n",
       "        vertical-align: top;\n",
       "    }\n",
       "\n",
       "    .dataframe thead th {\n",
       "        text-align: right;\n",
       "    }\n",
       "</style>\n",
       "<table border=\"1\" class=\"dataframe\">\n",
       "  <thead>\n",
       "    <tr style=\"text-align: right;\">\n",
       "      <th></th>\n",
       "      <th>UserID</th>\n",
       "      <th>MovieID</th>\n",
       "      <th>Ratings</th>\n",
       "      <th>Timestamp</th>\n",
       "      <th>Gender</th>\n",
       "      <th>Age</th>\n",
       "      <th>Ocupation</th>\n",
       "      <th>Zip_Code</th>\n",
       "      <th>Title</th>\n",
       "      <th>Genres</th>\n",
       "    </tr>\n",
       "  </thead>\n",
       "  <tbody>\n",
       "    <tr>\n",
       "      <th>871322</th>\n",
       "      <td>46</td>\n",
       "      <td>3280</td>\n",
       "      <td>5</td>\n",
       "      <td>977979487</td>\n",
       "      <td>M</td>\n",
       "      <td>18</td>\n",
       "      <td>19</td>\n",
       "      <td>75602</td>\n",
       "      <td>Baby, The (1973)</td>\n",
       "      <td>Horror</td>\n",
       "    </tr>\n",
       "    <tr>\n",
       "      <th>965717</th>\n",
       "      <td>149</td>\n",
       "      <td>787</td>\n",
       "      <td>5</td>\n",
       "      <td>977325719</td>\n",
       "      <td>M</td>\n",
       "      <td>25</td>\n",
       "      <td>1</td>\n",
       "      <td>29205</td>\n",
       "      <td>Gate of Heavenly Peace, The (1995)</td>\n",
       "      <td>Documentary</td>\n",
       "    </tr>\n",
       "    <tr>\n",
       "      <th>965718</th>\n",
       "      <td>2825</td>\n",
       "      <td>787</td>\n",
       "      <td>5</td>\n",
       "      <td>972610193</td>\n",
       "      <td>F</td>\n",
       "      <td>25</td>\n",
       "      <td>20</td>\n",
       "      <td>94014</td>\n",
       "      <td>Gate of Heavenly Peace, The (1995)</td>\n",
       "      <td>Documentary</td>\n",
       "    </tr>\n",
       "    <tr>\n",
       "      <th>965719</th>\n",
       "      <td>2872</td>\n",
       "      <td>787</td>\n",
       "      <td>5</td>\n",
       "      <td>972423586</td>\n",
       "      <td>M</td>\n",
       "      <td>25</td>\n",
       "      <td>20</td>\n",
       "      <td>94014</td>\n",
       "      <td>Gate of Heavenly Peace, The (1995)</td>\n",
       "      <td>Documentary</td>\n",
       "    </tr>\n",
       "    <tr>\n",
       "      <th>999933</th>\n",
       "      <td>1915</td>\n",
       "      <td>989</td>\n",
       "      <td>5</td>\n",
       "      <td>974693867</td>\n",
       "      <td>M</td>\n",
       "      <td>50</td>\n",
       "      <td>13</td>\n",
       "      <td>01938</td>\n",
       "      <td>Schlafes Bruder (Brother of Sleep) (1995)</td>\n",
       "      <td>Drama</td>\n",
       "    </tr>\n",
       "  </tbody>\n",
       "</table>\n",
       "</div>"
      ],
      "text/plain": [
       "        UserID  MovieID  Ratings  Timestamp Gender  Age  Ocupation Zip_Code  \\\n",
       "871322      46     3280        5  977979487      M   18         19    75602   \n",
       "965717     149      787        5  977325719      M   25          1    29205   \n",
       "965718    2825      787        5  972610193      F   25         20    94014   \n",
       "965719    2872      787        5  972423586      M   25         20    94014   \n",
       "999933    1915      989        5  974693867      M   50         13    01938   \n",
       "\n",
       "                                            Title       Genres  \n",
       "871322                           Baby, The (1973)       Horror  \n",
       "965717         Gate of Heavenly Peace, The (1995)  Documentary  \n",
       "965718         Gate of Heavenly Peace, The (1995)  Documentary  \n",
       "965719         Gate of Heavenly Peace, The (1995)  Documentary  \n",
       "999933  Schlafes Bruder (Brother of Sleep) (1995)        Drama  "
      ]
     },
     "execution_count": 101,
     "metadata": {},
     "output_type": "execute_result"
    }
   ],
   "source": [
    "rslt_listHg.head()"
   ]
  },
  {
   "cell_type": "code",
   "execution_count": 102,
   "id": "b46d0710",
   "metadata": {
    "id": "b46d0710",
    "outputId": "a93cdd2a-30f6-4173-a8e2-71a00ca0af50"
   },
   "outputs": [
    {
     "data": {
      "text/plain": [
       "array(['Baby, The (1973)', 'Gate of Heavenly Peace, The (1995)',\n",
       "       'Schlafes Bruder (Brother of Sleep) (1995)',\n",
       "       'Follow the Bitch (1998)', 'Bittersweet Motel (2000)',\n",
       "       'Smashing Time (1967)', 'Ulysses (Ulisse) (1954)', 'Lured (1947)',\n",
       "       'Song of Freedom (1936)', 'One Little Indian (1973)'], dtype=object)"
      ]
     },
     "execution_count": 102,
     "metadata": {},
     "output_type": "execute_result"
    }
   ],
   "source": [
    "rslt_listHg[\"Title\"].unique()"
   ]
  },
  {
   "cell_type": "markdown",
   "id": "caaa816b",
   "metadata": {
    "id": "caaa816b"
   },
   "source": [
    "---"
   ]
  },
  {
   "cell_type": "markdown",
   "id": "210af018",
   "metadata": {
    "id": "210af018"
   },
   "source": [
    "<h3>Media Bayesiana</h3>"
   ]
  },
  {
   "cell_type": "code",
   "execution_count": 103,
   "id": "c2436cd9",
   "metadata": {
    "id": "c2436cd9",
    "outputId": "d89b4f7e-9e47-4b33-a339-d1b7c324b92e"
   },
   "outputs": [
    {
     "data": {
      "text/html": [
       "<div>\n",
       "<style scoped>\n",
       "    .dataframe tbody tr th:only-of-type {\n",
       "        vertical-align: middle;\n",
       "    }\n",
       "\n",
       "    .dataframe tbody tr th {\n",
       "        vertical-align: top;\n",
       "    }\n",
       "\n",
       "    .dataframe thead tr th {\n",
       "        text-align: left;\n",
       "    }\n",
       "\n",
       "    .dataframe thead tr:last-of-type th {\n",
       "        text-align: right;\n",
       "    }\n",
       "</style>\n",
       "<table border=\"1\" class=\"dataframe\">\n",
       "  <thead>\n",
       "    <tr>\n",
       "      <th></th>\n",
       "      <th colspan=\"2\" halign=\"left\">Ratings</th>\n",
       "    </tr>\n",
       "    <tr>\n",
       "      <th></th>\n",
       "      <th>count</th>\n",
       "      <th>mean</th>\n",
       "    </tr>\n",
       "    <tr>\n",
       "      <th>MovieID</th>\n",
       "      <th></th>\n",
       "      <th></th>\n",
       "    </tr>\n",
       "  </thead>\n",
       "  <tbody>\n",
       "    <tr>\n",
       "      <th>1</th>\n",
       "      <td>2077</td>\n",
       "      <td>4.146846</td>\n",
       "    </tr>\n",
       "    <tr>\n",
       "      <th>2</th>\n",
       "      <td>701</td>\n",
       "      <td>3.201141</td>\n",
       "    </tr>\n",
       "    <tr>\n",
       "      <th>3</th>\n",
       "      <td>478</td>\n",
       "      <td>3.016736</td>\n",
       "    </tr>\n",
       "    <tr>\n",
       "      <th>4</th>\n",
       "      <td>170</td>\n",
       "      <td>2.729412</td>\n",
       "    </tr>\n",
       "    <tr>\n",
       "      <th>5</th>\n",
       "      <td>296</td>\n",
       "      <td>3.006757</td>\n",
       "    </tr>\n",
       "    <tr>\n",
       "      <th>...</th>\n",
       "      <td>...</td>\n",
       "      <td>...</td>\n",
       "    </tr>\n",
       "    <tr>\n",
       "      <th>3948</th>\n",
       "      <td>862</td>\n",
       "      <td>3.635731</td>\n",
       "    </tr>\n",
       "    <tr>\n",
       "      <th>3949</th>\n",
       "      <td>304</td>\n",
       "      <td>4.115132</td>\n",
       "    </tr>\n",
       "    <tr>\n",
       "      <th>3950</th>\n",
       "      <td>54</td>\n",
       "      <td>3.666667</td>\n",
       "    </tr>\n",
       "    <tr>\n",
       "      <th>3951</th>\n",
       "      <td>40</td>\n",
       "      <td>3.900000</td>\n",
       "    </tr>\n",
       "    <tr>\n",
       "      <th>3952</th>\n",
       "      <td>388</td>\n",
       "      <td>3.780928</td>\n",
       "    </tr>\n",
       "  </tbody>\n",
       "</table>\n",
       "<p>3706 rows × 2 columns</p>\n",
       "</div>"
      ],
      "text/plain": [
       "        Ratings          \n",
       "          count      mean\n",
       "MovieID                  \n",
       "1          2077  4.146846\n",
       "2           701  3.201141\n",
       "3           478  3.016736\n",
       "4           170  2.729412\n",
       "5           296  3.006757\n",
       "...         ...       ...\n",
       "3948        862  3.635731\n",
       "3949        304  4.115132\n",
       "3950         54  3.666667\n",
       "3951         40  3.900000\n",
       "3952        388  3.780928\n",
       "\n",
       "[3706 rows x 2 columns]"
      ]
     },
     "execution_count": 103,
     "metadata": {},
     "output_type": "execute_result"
    }
   ],
   "source": [
    "movie_sts = total_data.groupby(\"MovieID\")[[\"Ratings\"]].agg([\"count\",\"mean\"])\n",
    "movie_sts"
   ]
  },
  {
   "cell_type": "code",
   "execution_count": 104,
   "id": "0ca951a8",
   "metadata": {
    "id": "0ca951a8",
    "outputId": "71cdb96a-5ce2-4a24-f946-2a4f21f219ba"
   },
   "outputs": [
    {
     "data": {
      "text/html": [
       "<div>\n",
       "<style scoped>\n",
       "    .dataframe tbody tr th:only-of-type {\n",
       "        vertical-align: middle;\n",
       "    }\n",
       "\n",
       "    .dataframe tbody tr th {\n",
       "        vertical-align: top;\n",
       "    }\n",
       "\n",
       "    .dataframe thead th {\n",
       "        text-align: right;\n",
       "    }\n",
       "</style>\n",
       "<table border=\"1\" class=\"dataframe\">\n",
       "  <thead>\n",
       "    <tr style=\"text-align: right;\">\n",
       "      <th></th>\n",
       "      <th>count</th>\n",
       "      <th>mean</th>\n",
       "    </tr>\n",
       "    <tr>\n",
       "      <th>MovieID</th>\n",
       "      <th></th>\n",
       "      <th></th>\n",
       "    </tr>\n",
       "  </thead>\n",
       "  <tbody>\n",
       "    <tr>\n",
       "      <th>1</th>\n",
       "      <td>2077</td>\n",
       "      <td>4.146846</td>\n",
       "    </tr>\n",
       "    <tr>\n",
       "      <th>2</th>\n",
       "      <td>701</td>\n",
       "      <td>3.201141</td>\n",
       "    </tr>\n",
       "    <tr>\n",
       "      <th>3</th>\n",
       "      <td>478</td>\n",
       "      <td>3.016736</td>\n",
       "    </tr>\n",
       "    <tr>\n",
       "      <th>4</th>\n",
       "      <td>170</td>\n",
       "      <td>2.729412</td>\n",
       "    </tr>\n",
       "    <tr>\n",
       "      <th>5</th>\n",
       "      <td>296</td>\n",
       "      <td>3.006757</td>\n",
       "    </tr>\n",
       "    <tr>\n",
       "      <th>...</th>\n",
       "      <td>...</td>\n",
       "      <td>...</td>\n",
       "    </tr>\n",
       "    <tr>\n",
       "      <th>3948</th>\n",
       "      <td>862</td>\n",
       "      <td>3.635731</td>\n",
       "    </tr>\n",
       "    <tr>\n",
       "      <th>3949</th>\n",
       "      <td>304</td>\n",
       "      <td>4.115132</td>\n",
       "    </tr>\n",
       "    <tr>\n",
       "      <th>3950</th>\n",
       "      <td>54</td>\n",
       "      <td>3.666667</td>\n",
       "    </tr>\n",
       "    <tr>\n",
       "      <th>3951</th>\n",
       "      <td>40</td>\n",
       "      <td>3.900000</td>\n",
       "    </tr>\n",
       "    <tr>\n",
       "      <th>3952</th>\n",
       "      <td>388</td>\n",
       "      <td>3.780928</td>\n",
       "    </tr>\n",
       "  </tbody>\n",
       "</table>\n",
       "<p>3706 rows × 2 columns</p>\n",
       "</div>"
      ],
      "text/plain": [
       "         count      mean\n",
       "MovieID                 \n",
       "1         2077  4.146846\n",
       "2          701  3.201141\n",
       "3          478  3.016736\n",
       "4          170  2.729412\n",
       "5          296  3.006757\n",
       "...        ...       ...\n",
       "3948       862  3.635731\n",
       "3949       304  4.115132\n",
       "3950        54  3.666667\n",
       "3951        40  3.900000\n",
       "3952       388  3.780928\n",
       "\n",
       "[3706 rows x 2 columns]"
      ]
     },
     "execution_count": 104,
     "metadata": {},
     "output_type": "execute_result"
    }
   ],
   "source": [
    "movie_sts.columns=movie_sts.columns.droplevel()\n",
    "movie_sts"
   ]
  },
  {
   "cell_type": "code",
   "execution_count": 105,
   "id": "27db1cf7",
   "metadata": {
    "id": "27db1cf7"
   },
   "outputs": [],
   "source": [
    "C = movie_sts[\"count\"].mean()"
   ]
  },
  {
   "cell_type": "code",
   "execution_count": 106,
   "id": "81628400",
   "metadata": {
    "id": "81628400"
   },
   "outputs": [],
   "source": [
    "m = movie_sts[\"mean\"].mean()"
   ]
  },
  {
   "cell_type": "markdown",
   "id": "6d3ac56e",
   "metadata": {
    "id": "6d3ac56e"
   },
   "source": [
    "<h4>Bayesian Function</h4>"
   ]
  },
  {
   "cell_type": "markdown",
   "id": "727c8a7f",
   "metadata": {
    "id": "727c8a7f"
   },
   "source": [
    "$R_i = \\frac{C*m+ \\sum(reviews)}{C+N}$"
   ]
  },
  {
   "cell_type": "markdown",
   "id": "fdebbc0a",
   "metadata": {
    "id": "fdebbc0a"
   },
   "source": [
    "<ul>\n",
    "    <li>C = Representa la confianza</li>\n",
    "    <li>N = Numero total de reviews para la pelicula n</li>\n",
    "</ul>"
   ]
  },
  {
   "cell_type": "code",
   "execution_count": 107,
   "id": "e840be67",
   "metadata": {
    "id": "e840be67"
   },
   "outputs": [],
   "source": [
    "def bayesian_average(rating):\n",
    "    bayesianVal_avg = (C*m+rating.sum())/(C+rating.count())\n",
    "    return bayesianVal_avg"
   ]
  },
  {
   "cell_type": "code",
   "execution_count": 108,
   "id": "5aa8c8a9",
   "metadata": {
    "id": "5aa8c8a9"
   },
   "outputs": [],
   "source": [
    "#total_data.groupby(\"MovieID\")[\"Ratings\"].agg(bayesian_average).reset_index()"
   ]
  },
  {
   "cell_type": "code",
   "execution_count": 109,
   "id": "b1986bef",
   "metadata": {
    "id": "b1986bef"
   },
   "outputs": [],
   "source": [
    "bayesianRatings_avg = total_data.groupby(\"MovieID\")[\"Ratings\"].agg(bayesian_average).reset_index()\n",
    "bayesianRatings_avg.columns= [\"MovieID\",\"bayesian_average\"]\n",
    "movie_sts= movie_sts.merge(bayesianRatings_avg,on=\"MovieID\")"
   ]
  },
  {
   "cell_type": "code",
   "execution_count": 110,
   "id": "fcde3ed4",
   "metadata": {
    "id": "fcde3ed4"
   },
   "outputs": [],
   "source": [
    "movie_sts = movie_sts.merge(total_data[[\"MovieID\",\"Title\"]])\n"
   ]
  },
  {
   "cell_type": "code",
   "execution_count": 111,
   "id": "acd1d32a",
   "metadata": {
    "id": "acd1d32a",
    "outputId": "293769de-d68e-4e77-cd66-58ca39441ec1"
   },
   "outputs": [
    {
     "data": {
      "text/html": [
       "<div>\n",
       "<style scoped>\n",
       "    .dataframe tbody tr th:only-of-type {\n",
       "        vertical-align: middle;\n",
       "    }\n",
       "\n",
       "    .dataframe tbody tr th {\n",
       "        vertical-align: top;\n",
       "    }\n",
       "\n",
       "    .dataframe thead th {\n",
       "        text-align: right;\n",
       "    }\n",
       "</style>\n",
       "<table border=\"1\" class=\"dataframe\">\n",
       "  <thead>\n",
       "    <tr style=\"text-align: right;\">\n",
       "      <th></th>\n",
       "      <th>MovieID</th>\n",
       "      <th>count</th>\n",
       "      <th>mean</th>\n",
       "      <th>bayesian_average</th>\n",
       "      <th>Title</th>\n",
       "    </tr>\n",
       "  </thead>\n",
       "  <tbody>\n",
       "    <tr>\n",
       "      <th>936921</th>\n",
       "      <td>3593</td>\n",
       "      <td>342</td>\n",
       "      <td>1.611111</td>\n",
       "      <td>2.329085</td>\n",
       "      <td>Battlefield Earth (2000)</td>\n",
       "    </tr>\n",
       "    <tr>\n",
       "      <th>936984</th>\n",
       "      <td>3593</td>\n",
       "      <td>342</td>\n",
       "      <td>1.611111</td>\n",
       "      <td>2.329085</td>\n",
       "      <td>Battlefield Earth (2000)</td>\n",
       "    </tr>\n",
       "    <tr>\n",
       "      <th>936985</th>\n",
       "      <td>3593</td>\n",
       "      <td>342</td>\n",
       "      <td>1.611111</td>\n",
       "      <td>2.329085</td>\n",
       "      <td>Battlefield Earth (2000)</td>\n",
       "    </tr>\n",
       "    <tr>\n",
       "      <th>936986</th>\n",
       "      <td>3593</td>\n",
       "      <td>342</td>\n",
       "      <td>1.611111</td>\n",
       "      <td>2.329085</td>\n",
       "      <td>Battlefield Earth (2000)</td>\n",
       "    </tr>\n",
       "    <tr>\n",
       "      <th>936987</th>\n",
       "      <td>3593</td>\n",
       "      <td>342</td>\n",
       "      <td>1.611111</td>\n",
       "      <td>2.329085</td>\n",
       "      <td>Battlefield Earth (2000)</td>\n",
       "    </tr>\n",
       "  </tbody>\n",
       "</table>\n",
       "</div>"
      ],
      "text/plain": [
       "        MovieID  count      mean  bayesian_average                     Title\n",
       "936921     3593    342  1.611111          2.329085  Battlefield Earth (2000)\n",
       "936984     3593    342  1.611111          2.329085  Battlefield Earth (2000)\n",
       "936985     3593    342  1.611111          2.329085  Battlefield Earth (2000)\n",
       "936986     3593    342  1.611111          2.329085  Battlefield Earth (2000)\n",
       "936987     3593    342  1.611111          2.329085  Battlefield Earth (2000)"
      ]
     },
     "execution_count": 111,
     "metadata": {},
     "output_type": "execute_result"
    }
   ],
   "source": [
    "movie_sts.sort_values(\"bayesian_average\",ascending=True).head()"
   ]
  },
  {
   "cell_type": "code",
   "execution_count": 112,
   "id": "425d7be1",
   "metadata": {
    "id": "425d7be1",
    "outputId": "ad556a43-ab56-4c5d-f5ee-6210bbb4733f"
   },
   "outputs": [
    {
     "data": {
      "text/html": [
       "<div>\n",
       "<style scoped>\n",
       "    .dataframe tbody tr th:only-of-type {\n",
       "        vertical-align: middle;\n",
       "    }\n",
       "\n",
       "    .dataframe tbody tr th {\n",
       "        vertical-align: top;\n",
       "    }\n",
       "\n",
       "    .dataframe thead th {\n",
       "        text-align: right;\n",
       "    }\n",
       "</style>\n",
       "<table border=\"1\" class=\"dataframe\">\n",
       "  <thead>\n",
       "    <tr style=\"text-align: right;\">\n",
       "      <th></th>\n",
       "      <th>MovieID</th>\n",
       "      <th>count</th>\n",
       "      <th>mean</th>\n",
       "      <th>bayesian_average</th>\n",
       "      <th>Title</th>\n",
       "    </tr>\n",
       "  </thead>\n",
       "  <tbody>\n",
       "    <tr>\n",
       "      <th>84525</th>\n",
       "      <td>318</td>\n",
       "      <td>2227</td>\n",
       "      <td>4.554558</td>\n",
       "      <td>4.412347</td>\n",
       "      <td>Shawshank Redemption, The (1994)</td>\n",
       "    </tr>\n",
       "    <tr>\n",
       "      <th>85241</th>\n",
       "      <td>318</td>\n",
       "      <td>2227</td>\n",
       "      <td>4.554558</td>\n",
       "      <td>4.412347</td>\n",
       "      <td>Shawshank Redemption, The (1994)</td>\n",
       "    </tr>\n",
       "    <tr>\n",
       "      <th>85247</th>\n",
       "      <td>318</td>\n",
       "      <td>2227</td>\n",
       "      <td>4.554558</td>\n",
       "      <td>4.412347</td>\n",
       "      <td>Shawshank Redemption, The (1994)</td>\n",
       "    </tr>\n",
       "    <tr>\n",
       "      <th>85246</th>\n",
       "      <td>318</td>\n",
       "      <td>2227</td>\n",
       "      <td>4.554558</td>\n",
       "      <td>4.412347</td>\n",
       "      <td>Shawshank Redemption, The (1994)</td>\n",
       "    </tr>\n",
       "    <tr>\n",
       "      <th>85245</th>\n",
       "      <td>318</td>\n",
       "      <td>2227</td>\n",
       "      <td>4.554558</td>\n",
       "      <td>4.412347</td>\n",
       "      <td>Shawshank Redemption, The (1994)</td>\n",
       "    </tr>\n",
       "  </tbody>\n",
       "</table>\n",
       "</div>"
      ],
      "text/plain": [
       "       MovieID  count      mean  bayesian_average  \\\n",
       "84525      318   2227  4.554558          4.412347   \n",
       "85241      318   2227  4.554558          4.412347   \n",
       "85247      318   2227  4.554558          4.412347   \n",
       "85246      318   2227  4.554558          4.412347   \n",
       "85245      318   2227  4.554558          4.412347   \n",
       "\n",
       "                                  Title  \n",
       "84525  Shawshank Redemption, The (1994)  \n",
       "85241  Shawshank Redemption, The (1994)  \n",
       "85247  Shawshank Redemption, The (1994)  \n",
       "85246  Shawshank Redemption, The (1994)  \n",
       "85245  Shawshank Redemption, The (1994)  "
      ]
     },
     "execution_count": 112,
     "metadata": {},
     "output_type": "execute_result"
    }
   ],
   "source": [
    "movie_sts.sort_values(\"bayesian_average\",ascending=False).head()"
   ]
  },
  {
   "cell_type": "code",
   "execution_count": 113,
   "id": "93ba261b",
   "metadata": {
    "id": "93ba261b",
    "outputId": "660f85d6-e2ad-40ef-bc90-d09b268a92e0"
   },
   "outputs": [
    {
     "data": {
      "text/html": [
       "<img src=\"Datasets/ml-1m/collaborative_filt.png\" width=\"600\" height=\"600\"/>"
      ],
      "text/plain": [
       "<IPython.core.display.Image object>"
      ]
     },
     "execution_count": 113,
     "metadata": {},
     "output_type": "execute_result"
    }
   ],
   "source": [
    "from IPython.display import Image\n",
    "Image(url= \"Datasets/ml-1m/collaborative_filt.png\", width=600, height=600)"
   ]
  },
  {
   "cell_type": "markdown",
   "id": "f7bfd5dd",
   "metadata": {
    "id": "f7bfd5dd"
   },
   "source": [
    "<h3>Crear Matriz de Usuario vs Peliculas</h3>"
   ]
  },
  {
   "cell_type": "markdown",
   "id": "42822111",
   "metadata": {
    "id": "42822111"
   },
   "source": [
    "Para crear la matriz se hara uso de la libreria csr_matriz la cual me asocia posiciones de una matriz con numeros mayores a Cero, como se puede observar en el siguiente ejemplo:\n",
    "Ejemplo ref: https://machinelearningmastery.com/sparse-matrices-for-machine-learning/"
   ]
  },
  {
   "cell_type": "markdown",
   "id": "544143a0",
   "metadata": {
    "id": "544143a0"
   },
   "source": [
    "---"
   ]
  },
  {
   "cell_type": "code",
   "execution_count": 114,
   "id": "6f8d8030",
   "metadata": {
    "id": "6f8d8030",
    "outputId": "93b23596-2f52-426f-9876-b5d0034f020a"
   },
   "outputs": [
    {
     "name": "stdout",
     "output_type": "stream",
     "text": [
      "[[1 0 0 1 0 0]\n",
      " [0 0 2 0 0 1]\n",
      " [0 0 0 2 0 0]]\n",
      "  (0, 0)\t1\n",
      "  (0, 3)\t1\n",
      "  (1, 2)\t2\n",
      "  (1, 5)\t1\n",
      "  (2, 3)\t2\n",
      "[[1 0 0 1 0 0]\n",
      " [0 0 2 0 0 1]\n",
      " [0 0 0 2 0 0]]\n"
     ]
    }
   ],
   "source": [
    "\n",
    "# dense to sparse\n",
    "from scipy.sparse import csr_matrix\n",
    "# create dense matrix\n",
    "A = np.array([[1, 0, 0, 1, 0, 0], [0, 0, 2, 0, 0, 1], [0, 0, 0, 2, 0, 0]])\n",
    "print(A)\n",
    "# convert to sparse matrix (CSR method)\n",
    "S = csr_matrix(A)\n",
    "print(S)\n",
    "# reconstruct dense matrix\n",
    "B = S.todense()\n",
    "print(B)\n"
   ]
  },
  {
   "cell_type": "code",
   "execution_count": 115,
   "id": "f539d24c",
   "metadata": {
    "id": "f539d24c",
    "outputId": "3084d715-acf9-4ffa-a5a3-ec021252d465"
   },
   "outputs": [
    {
     "data": {
      "text/plain": [
       "array([   1,    2,    3, ..., 6038, 6039, 6040], dtype=int64)"
      ]
     },
     "execution_count": 115,
     "metadata": {},
     "output_type": "execute_result"
    }
   ],
   "source": [
    "np.unique(total_data[\"UserID\"])"
   ]
  },
  {
   "cell_type": "markdown",
   "id": "3b6c2f56",
   "metadata": {
    "id": "3b6c2f56"
   },
   "source": [
    "---"
   ]
  },
  {
   "cell_type": "code",
   "execution_count": 116,
   "id": "62268e49",
   "metadata": {
    "id": "62268e49"
   },
   "outputs": [],
   "source": [
    "def create_sparse_matriz(dataframe):\n",
    "    nUsr_unq = dataframe[\"UserID\"].nunique()\n",
    "    nMov_unq = dataframe[\"MovieID\"].nunique()\n",
    "    usr_map = dict(zip(np.unique(dataframe[\"UserID\"]),list(range(nUsr_unq))))\n",
    "    mov_map = dict(zip(np.unique(dataframe[\"MovieID\"]),list(range(nMov_unq))))\n",
    "    \n",
    "    usr_inver_map = dict(zip(list(range(nUsr_unq)),np.unique(dataframe[\"UserID\"])))\n",
    "    mov_inver_map = dict(zip(list(range(nMov_unq)),np.unique(dataframe[\"MovieID\"])))\n",
    "    \n",
    "    \n",
    "    usr_indx = [usr_map[i] for i in dataframe[\"UserID\"]]\n",
    "    mov_indx = [mov_map[i] for i in dataframe[\"MovieID\"]]\n",
    "    sparse_mx = csr_matrix((dataframe[\"Ratings\"],(mov_indx,usr_indx)),shape=(nMov_unq,nUsr_unq))\n",
    "    \n",
    "    return sparse_mx,usr_map,mov_map,usr_inver_map,mov_inver_map\n",
    "    \n",
    "    "
   ]
  },
  {
   "cell_type": "code",
   "execution_count": 117,
   "id": "2d6664b1",
   "metadata": {
    "id": "2d6664b1"
   },
   "outputs": [],
   "source": [
    "sparse_mx,usr_map,mov_map,usr_inver_map,mov_inver_map = create_sparse_matriz(total_data)"
   ]
  },
  {
   "cell_type": "code",
   "execution_count": 118,
   "id": "a71b1c1e",
   "metadata": {
    "id": "a71b1c1e",
    "outputId": "e3a32c01-e496-498e-fed8-3dca77b5d4f6"
   },
   "outputs": [
    {
     "data": {
      "text/plain": [
       "(3706, 6040)"
      ]
     },
     "execution_count": 118,
     "metadata": {},
     "output_type": "execute_result"
    }
   ],
   "source": [
    "sparse_mx.shape"
   ]
  },
  {
   "cell_type": "markdown",
   "id": "7b573f94",
   "metadata": {
    "id": "7b573f94"
   },
   "source": [
    "<h3>Save Matrix</h3>"
   ]
  },
  {
   "cell_type": "code",
   "execution_count": 119,
   "id": "9d038bc6",
   "metadata": {
    "id": "9d038bc6"
   },
   "outputs": [],
   "source": [
    "from scipy.sparse import save_npz"
   ]
  },
  {
   "cell_type": "code",
   "execution_count": 120,
   "id": "0b2b3404",
   "metadata": {
    "id": "0b2b3404"
   },
   "outputs": [],
   "source": [
    "save_npz(\"Datasets/ml-1m/usr_mtx_sparce.npz\",sparse_mx)"
   ]
  },
  {
   "cell_type": "markdown",
   "id": "604b2f51",
   "metadata": {
    "id": "604b2f51"
   },
   "source": [
    "<h3>K-Nearest Neighbours</h3>\n",
    "Minima distancia entre nodos"
   ]
  },
  {
   "cell_type": "markdown",
   "id": "8edb606a",
   "metadata": {
    "id": "8edb606a"
   },
   "source": [
    "<h5>Metodos para medir distancias entre nodos mediante KNN</h5>\n",
    "<ul>\n",
    "    <li> Similitud del coseno</li>\n",
    "    <li> Distancia Euclidiana</li>\n",
    "    <li> Distancia de Manhattan </li>\n",
    "    <li> Correlacion de Pearson</li>\n",
    "\n",
    "</ul>"
   ]
  },
  {
   "cell_type": "code",
   "execution_count": 121,
   "id": "3437a051",
   "metadata": {
    "id": "3437a051"
   },
   "outputs": [],
   "source": [
    "from sklearn.neighbors import NearestNeighbors"
   ]
  },
  {
   "cell_type": "code",
   "execution_count": 122,
   "id": "d59b515c",
   "metadata": {
    "id": "d59b515c"
   },
   "outputs": [],
   "source": [
    "def knn_recomendation(movieID,sparse_mx,k,metric=\"cosine\",show_distance=False):\n",
    "    #k=Numero de recomendaciones\n",
    "    \n",
    "    neighboursID = []\n",
    "    mov_ind = mov_map[movieID]\n",
    "    mov_vector = sparse_mx[mov_ind]\n",
    "    k = k + 1\n",
    "    knn = NearestNeighbors(n_neighbors=k,algorithm=\"brute\",metric=metric)\n",
    "    knn.fit(sparse_mx)\n",
    "    if isinstance(mov_vector,(np.ndarray)):\n",
    "        mov_vector = mov_vector.reshape(1,-1)\n",
    "    neighbour = knn.kneighbors(mov_vector,return_distance=show_distance)\n",
    "    for i in range(0,k):\n",
    "        n=neighbour.item(i)\n",
    "        neighboursID.append(mov_inver_map[n])\n",
    "    neighboursID.pop(0)\n",
    "    return neighboursID"
   ]
  },
  {
   "cell_type": "code",
   "execution_count": 123,
   "id": "e1bcfa59",
   "metadata": {
    "id": "e1bcfa59",
    "outputId": "8e7ade8c-09fb-4f2d-cfc9-31d8cc47ea09"
   },
   "outputs": [
    {
     "name": "stdout",
     "output_type": "stream",
     "text": [
      " Pelicula vista originalmente :::::::::>>>>>> Dracula: Dead and Loving It (1995)\n",
      "***************************************************************************\n",
      "Peliculas Recomendadas\n",
      "***************************************************************************\n",
      "Spy Hard (1996)\n",
      "Bio-Dome (1996)\n",
      "Mafia! (1998)\n",
      "Gremlins 2: The New Batch (1990)\n",
      "Down Periscope (1996)\n",
      "Tales from the Crypt Presents: Bordello of Blood (1996)\n",
      "Vampires (1998)\n",
      "Robin Hood: Men in Tights (1993)\n",
      "American Werewolf in Paris, An (1997)\n",
      "Bats (1999)\n"
     ]
    }
   ],
   "source": [
    "movies_titles = dict(zip(data_movie_copy[\"MovieID\"],data_movie_copy[\"Title\"]))\n",
    "movie_id = 12\n",
    "movies_recomendation_final = knn_recomendation(movie_id,sparse_mx,k=10)\n",
    "movieTitle = movies_titles[movie_id]\n",
    "print(f\" Pelicula vista originalmente :::::::::>>>>>> {movieTitle}\")\n",
    "print(\"***************************************************************************\")\n",
    "print(\"Peliculas Recomendadas\")\n",
    "print(\"***************************************************************************\")\n",
    "for i in movies_recomendation_final:\n",
    "    print(movies_titles[i])"
   ]
  }
 ],
 "metadata": {
  "colab": {
   "name": "ml_1m_datataset.ipynb",
   "provenance": []
  },
  "kernelspec": {
   "display_name": "Python 3 (ipykernel)",
   "language": "python",
   "name": "python3"
  },
  "language_info": {
   "codemirror_mode": {
    "name": "ipython",
    "version": 3
   },
   "file_extension": ".py",
   "mimetype": "text/x-python",
   "name": "python",
   "nbconvert_exporter": "python",
   "pygments_lexer": "ipython3",
   "version": "3.10.1"
  }
 },
 "nbformat": 4,
 "nbformat_minor": 5
}
